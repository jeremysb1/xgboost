{
  "nbformat": 4,
  "nbformat_minor": 0,
  "metadata": {
    "colab": {
      "provenance": [],
      "mount_file_id": "1y7j-EeMzuC0Bn8deaPWXeOWM0azKaem-",
      "authorship_tag": "ABX9TyPbTXJZoMwYFcy1m5AxUtbO",
      "include_colab_link": true
    },
    "kernelspec": {
      "name": "python3",
      "display_name": "Python 3"
    },
    "language_info": {
      "name": "python"
    }
  },
  "cells": [
    {
      "cell_type": "markdown",
      "metadata": {
        "id": "view-in-github",
        "colab_type": "text"
      },
      "source": [
        "<a href=\"https://colab.research.google.com/github/jeremysb1/xgboost/blob/main/AB_NYC.ipynb\" target=\"_parent\"><img src=\"https://colab.research.google.com/assets/colab-badge.svg\" alt=\"Open In Colab\"/></a>"
      ]
    },
    {
      "cell_type": "code",
      "execution_count": null,
      "metadata": {
        "id": "_MzDXCHwDwoa"
      },
      "outputs": [],
      "source": [
        "import numpy as np\n",
        "import pandas as pd\n",
        "\n",
        "excluding_list = ['price', 'id', 'latitude', 'longitude', 'host_id', 'last_review', 'name', 'host_name']\n",
        "categorical = ['neighbourhood_group', 'neighbourhood', 'room_type']\n",
        "continuous = ['minimum_nights', 'number_of_reviews', 'reviews_per_month', 'Calculated_host_listings_count']\n",
        "\n",
        "data = [\"/content/drive/MyDrive/XGBoost/AB_NYC_2019.csv\"]"
      ]
    }
  ]
}