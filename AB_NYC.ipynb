{
  "nbformat": 4,
  "nbformat_minor": 0,
  "metadata": {
    "colab": {
      "provenance": [],
      "mount_file_id": "1y7j-EeMzuC0Bn8deaPWXeOWM0azKaem-",
      "authorship_tag": "ABX9TyMoWQiggEGRxQgzfJY0O7a3",
      "include_colab_link": true
    },
    "kernelspec": {
      "name": "python3",
      "display_name": "Python 3"
    },
    "language_info": {
      "name": "python"
    }
  },
  "cells": [
    {
      "cell_type": "markdown",
      "metadata": {
        "id": "view-in-github",
        "colab_type": "text"
      },
      "source": [
        "<a href=\"https://colab.research.google.com/github/jeremysb1/xgboost/blob/main/AB_NYC.ipynb\" target=\"_parent\"><img src=\"https://colab.research.google.com/assets/colab-badge.svg\" alt=\"Open In Colab\"/></a>"
      ]
    },
    {
      "cell_type": "code",
      "execution_count": 1,
      "metadata": {
        "id": "_MzDXCHwDwoa"
      },
      "outputs": [],
      "source": [
        "import numpy as np\n",
        "import pandas as pd\n",
        "\n",
        "excluding_list = ['price', 'id', 'latitude', 'longitude', 'host_id', 'last_review', 'name', 'host_name']\n",
        "categorical = ['neighbourhood_group', 'neighbourhood', 'room_type']\n",
        "continuous = ['minimum_nights', 'number_of_reviews', 'reviews_per_month', 'calculated_host_listings_count']\n",
        "\n",
        "data = pd.read_csv(\"/content/drive/MyDrive/XGBoost/AB_NYC_2019.csv\")"
      ]
    },
    {
      "cell_type": "code",
      "source": [
        "data.shape"
      ],
      "metadata": {
        "colab": {
          "base_uri": "https://localhost:8080/"
        },
        "id": "Qo3wRsLcGnz8",
        "outputId": "f017c17b-6847-48c7-a430-887d72cc07af"
      },
      "execution_count": 2,
      "outputs": [
        {
          "output_type": "execute_result",
          "data": {
            "text/plain": [
              "(48895, 16)"
            ]
          },
          "metadata": {},
          "execution_count": 2
        }
      ]
    },
    {
      "cell_type": "code",
      "source": [
        "data[categorical].nunique()"
      ],
      "metadata": {
        "colab": {
          "base_uri": "https://localhost:8080/"
        },
        "id": "toAVUO6OGy3Q",
        "outputId": "4345e924-3797-460e-96ae-3159761e02cb"
      },
      "execution_count": 3,
      "outputs": [
        {
          "output_type": "execute_result",
          "data": {
            "text/plain": [
              "neighbourhood_group      5\n",
              "neighbourhood          221\n",
              "room_type                3\n",
              "dtype: int64"
            ]
          },
          "metadata": {},
          "execution_count": 3
        }
      ]
    },
    {
      "cell_type": "markdown",
      "source": [
        "Separating the low from the high cardinality categorical features and process only the low cardinality ones:"
      ],
      "metadata": {
        "id": "4-_w2QJKbZKm"
      }
    },
    {
      "cell_type": "code",
      "source": [
        "low_card_categorical = ['neighbourhood_group', 'room_type']\n",
        "high_card_categorical = ['neighbourhood']"
      ],
      "metadata": {
        "id": "S5SiiFHnbPI2"
      },
      "execution_count": 4,
      "outputs": []
    },
    {
      "cell_type": "markdown",
      "source": [
        "The following command asks to flag true missing values and then computes a count of them across features:"
      ],
      "metadata": {
        "id": "pO-2u9pQb4Gv"
      }
    },
    {
      "cell_type": "code",
      "source": [
        "data[low_card_categorical + continuous].isna().sum()"
      ],
      "metadata": {
        "colab": {
          "base_uri": "https://localhost:8080/"
        },
        "id": "UVtkHzp7b5EH",
        "outputId": "c592b056-6142-466c-8898-1a99c8cf8cf0"
      },
      "execution_count": 5,
      "outputs": [
        {
          "output_type": "execute_result",
          "data": {
            "text/plain": [
              "neighbourhood_group                   0\n",
              "room_type                             0\n",
              "minimum_nights                        0\n",
              "number_of_reviews                     0\n",
              "reviews_per_month                 10052\n",
              "calculated_host_listings_count        0\n",
              "dtype: int64"
            ]
          },
          "metadata": {},
          "execution_count": 5
        }
      ]
    },
    {
      "cell_type": "code",
      "source": [
        "data.reviews_per_month.min()"
      ],
      "metadata": {
        "colab": {
          "base_uri": "https://localhost:8080/"
        },
        "id": "ghJdABPqftre",
        "outputId": "d71ddb3a-b5cc-4edb-a583-4ea343265c9d"
      },
      "execution_count": 6,
      "outputs": [
        {
          "output_type": "execute_result",
          "data": {
            "text/plain": [
              "0.01"
            ]
          },
          "metadata": {},
          "execution_count": 6
        }
      ]
    },
    {
      "cell_type": "markdown",
      "source": [
        "A histogram describing how the Price feature is distributed:"
      ],
      "metadata": {
        "id": "Py_NuF4SgWoa"
      }
    },
    {
      "cell_type": "code",
      "source": [
        "data[[\"price\"]].hist(bins=10)"
      ],
      "metadata": {
        "colab": {
          "base_uri": "https://localhost:8080/",
          "height": 470
        },
        "id": "z5sOHpKpgLlN",
        "outputId": "f1833e7f-c104-4f49-ca44-23d37243bb99"
      },
      "execution_count": 7,
      "outputs": [
        {
          "output_type": "execute_result",
          "data": {
            "text/plain": [
              "array([[<Axes: title={'center': 'price'}>]], dtype=object)"
            ]
          },
          "metadata": {},
          "execution_count": 7
        },
        {
          "output_type": "display_data",
          "data": {
            "text/plain": [
              "<Figure size 640x480 with 1 Axes>"
            ],
            "image/png": "[encoded data removed]"
          },
          "metadata": {}
        }
      ]
    },
    {
      "cell_type": "markdown",
      "source": [
        "A boxplot highlighting the distribution of the Price feature and its right heavy tail on large price values:"
      ],
      "metadata": {
        "id": "N6ka5y9OiZDa"
      }
    },
    {
      "cell_type": "code",
      "source": [
        "data[[\"price\"]].boxplot()"
      ],
      "metadata": {
        "colab": {
          "base_uri": "https://localhost:8080/",
          "height": 448
        },
        "id": "_dHGNHv9gp8X",
        "outputId": "75a668da-4b32-41e5-883b-0a84a2f0d6dc"
      },
      "execution_count": 8,
      "outputs": [
        {
          "output_type": "execute_result",
          "data": {
            "text/plain": [
              "<Axes: >"
            ]
          },
          "metadata": {},
          "execution_count": 8
        },
        {
          "output_type": "display_data",
          "data": {
            "text/plain": [
              "<Figure size 640x480 with 1 Axes>"
            ],
            "image/png": "[encoded data removed]"
          },
          "metadata": {}
        }
      ]
    },
    {
      "cell_type": "markdown",
      "source": [
        "In the following code snippet, II represent the transformed price feature by application of a logarithmic transformation:"
      ],
      "metadata": {
        "id": "0q4wqSI6j5aB"
      }
    },
    {
      "cell_type": "code",
      "source": [
        "np.log1p(data[\"price\"]).hist(bins=20)\n"
      ],
      "metadata": {
        "colab": {
          "base_uri": "https://localhost:8080/",
          "height": 448
        },
        "id": "2zwSok7hj79D",
        "outputId": "66b9791d-4df4-46e8-ed2d-81b69e7b28e3"
      },
      "execution_count": 13,
      "outputs": [
        {
          "output_type": "execute_result",
          "data": {
            "text/plain": [
              "<Axes: >"
            ]
          },
          "metadata": {},
          "execution_count": 13
        },
        {
          "output_type": "display_data",
          "data": {
            "text/plain": [
              "<Figure size 640x480 with 1 Axes>"
            ],
            "image/png": "[encoded data removed]"
          },
          "metadata": {}
        }
      ]
    },
    {
      "cell_type": "markdown",
      "source": [
        "The histogram is of the Price feature being more symmetrical after log transformation."
      ],
      "metadata": {
        "id": "z33_1XTnkiWx"
      }
    },
    {
      "cell_type": "markdown",
      "source": [
        "A boxplot of the Price feature after log transformation signaling the persistence of extreme values at both the tails of the distribution:"
      ],
      "metadata": {
        "id": "ytDK9eqxliA5"
      }
    },
    {
      "cell_type": "code",
      "source": [
        "data[[\"price\"]].apply(lambda x: np.log1p(x)).boxplot()"
      ],
      "metadata": {
        "colab": {
          "base_uri": "https://localhost:8080/",
          "height": 448
        },
        "id": "-OoUz7Oild_q",
        "outputId": "011fdd20-a885-40c9-ae22-1dcab5d26fe4"
      },
      "execution_count": 14,
      "outputs": [
        {
          "output_type": "execute_result",
          "data": {
            "text/plain": [
              "<Axes: >"
            ]
          },
          "metadata": {},
          "execution_count": 14
        },
        {
          "output_type": "display_data",
          "data": {
            "text/plain": [
              "<Figure size 640x480 with 1 Axes>"
            ],
            "image/png": "[encoded data removed]"
          },
          "metadata": {}
        }
      ]
    }
  ]
}