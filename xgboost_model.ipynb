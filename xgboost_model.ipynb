{
  "nbformat": 4,
  "nbformat_minor": 0,
  "metadata": {
    "colab": {
      "provenance": [],
      "mount_file_id": "1_5UETGh-BboAykfCXyLDI6mgyF5JK3S4",
      "authorship_tag": "ABX9TyOinM7ERh7x9igeeu9FAc9Y",
      "include_colab_link": true
    },
    "kernelspec": {
      "name": "python3",
      "display_name": "Python 3"
    },
    "language_info": {
      "name": "python"
    }
  },
  "cells": [
    {
      "cell_type": "markdown",
      "metadata": {
        "id": "view-in-github",
        "colab_type": "text"
      },
      "source": [
        "<a href=\"https://colab.research.google.com/github/jeremysb1/xgboost/blob/main/xgboost_model.ipynb\" target=\"_parent\"><img src=\"https://colab.research.google.com/assets/colab-badge.svg\" alt=\"Open In Colab\"/></a>"
      ]
    },
    {
      "cell_type": "markdown",
      "source": [
        "I am building a model to predict prices using a regression-based approach with XGBoost."
      ],
      "metadata": {
        "id": "JbME15Eqmc3W"
      }
    },
    {
      "cell_type": "code",
      "execution_count": 1,
      "metadata": {
        "id": "iAq2S8tUmGsZ"
      },
      "outputs": [],
      "source": [
        "import pandas as pd\n",
        "summary_listings = pd.read_csv(\"/content/drive/MyDrive/XGBoost/listings.csv\")"
      ]
    },
    {
      "cell_type": "code",
      "source": [
        "summary_listings.dtypes"
      ],
      "metadata": {
        "colab": {
          "base_uri": "https://localhost:8080/"
        },
        "id": "TWzTo8P0LBRr",
        "outputId": "ea768c7e-5803-45d8-8ad2-4c647ccf5f37"
      },
      "execution_count": 2,
      "outputs": [
        {
          "output_type": "execute_result",
          "data": {
            "text/plain": [
              "id                                  int64\n",
              "name                               object\n",
              "host_id                             int64\n",
              "host_name                          object\n",
              "neighbourhood_group               float64\n",
              "neighbourhood                      object\n",
              "latitude                          float64\n",
              "longitude                         float64\n",
              "room_type                          object\n",
              "price                               int64\n",
              "minimum_nights                      int64\n",
              "number_of_reviews                   int64\n",
              "last_review                        object\n",
              "reviews_per_month                 float64\n",
              "calculated_host_listings_count      int64\n",
              "availability_365                    int64\n",
              "number_of_reviews_ltm               int64\n",
              "license                            object\n",
              "dtype: object"
            ]
          },
          "metadata": {},
          "execution_count": 2
        }
      ]
    },
    {
      "cell_type": "code",
      "source": [
        "summary_listings['name'].iloc[0]"
      ],
      "metadata": {
        "colab": {
          "base_uri": "https://localhost:8080/",
          "height": 35
        },
        "id": "q4AGj9YQMWp4",
        "outputId": "b819a2bb-6c7f-4d38-9d55-bf5d2a24d5ba"
      },
      "execution_count": 3,
      "outputs": [
        {
          "output_type": "execute_result",
          "data": {
            "text/plain": [
              "'Rental unit in Sumida · ★4.77 · 1 bedroom · 2 beds · 1 bath'"
            ],
            "application/vnd.google.colaboratory.intrinsic+json": {
              "type": "string"
            }
          },
          "metadata": {},
          "execution_count": 3
        }
      ]
    },
    {
      "cell_type": "markdown",
      "source": [
        "Extracting information from text descriptions:"
      ],
      "metadata": {
        "id": "sVQVIXP2NgpX"
      }
    },
    {
      "cell_type": "code",
      "source": [
        "import re\n",
        "\n",
        "classification_list = ['aparthotel', 'barn', 'bed and breakfast', 'boutique hotel',\n",
        "                       'bungalow', 'cabin', 'camper/rv', 'chalet', 'condo', 'cottage',\n",
        "                       'earthen home', 'farm stay', 'guest suite', 'guesthouse', 'home',\n",
        "                       'hostel', 'hotel', 'houseboat', 'hut', 'loft', 'place to stay',\n",
        "                       'rental unit', 'resort', 'ryokan', 'serviced apartment',\n",
        "                       'tiny home', 'townhouse', 'treehouse', 'vacation home', 'villa']\n",
        "\n",
        "summary_listings = summary_listings.assign(\n",
        "    type_of_accommodation=(summary_listings['name']\n",
        "                           .str.extract(f\"({'|'.join(classification_list)})\",\n",
        "                                        flags=re.IGNORECASE)),\n",
        "    area_of_tokyo=(summary_listings['name']\n",
        "                   .str.extract(r'in\\s(.*?)\\s·',\n",
        "                                flags=re.IGNORECASE)),\n",
        "    score=(summary_listings['name']\n",
        "           .str.extract(r'★(\\d+\\.\\d+)', flags=re.IGNORECASE)\n",
        "           .astype(float)),\n",
        "    number_of_bedrooms=(summary_listings['name']\n",
        "                        .str.extract(r'(\\d+)\\s*(?:bedroom|bedrooms)',\n",
        "                                     flags=re.IGNORECASE)\n",
        "                        .fillna(0)\n",
        "                        .astype(int)),\n",
        "    number_of_beds=(summary_listings['name']\n",
        "                    .str.extract(r'(\\d+)\\s+(?:beds?\\b)',\n",
        "                                 flags=re.IGNORECASE)\n",
        "                    .fillna(0)\n",
        "                    .astype(int)),\n",
        "    number_of_baths=(summary_listings['name']\n",
        "                     .str.extract(r'(?P<baths>\\d+)\\s*(shared\\s+)?(?:half-)?baths?\\b',\n",
        "                                  flags=re.IGNORECASE)[\"baths\"]\n",
        "                     .fillna(0)\n",
        "                     .astype(int)),\n",
        ")"
      ],
      "metadata": {
        "id": "-B3qnrYcNkMB"
      },
      "execution_count": 4,
      "outputs": []
    },
    {
      "cell_type": "code",
      "source": [
        "import numpy as np\n",
        "from datetime import datetime\n",
        "\n",
        "summary_listings = summary_listings.assign(\n",
        "    is_new = (summary_listings['name']\n",
        "              .str.lower()\n",
        "              .str.contains('new', case=False)\n",
        "              .astype(int)),\n",
        "    is_studio = (summary_listings['name']\n",
        "                 .str.lower()\n",
        "                 .str.contains('studio', case=False)\n",
        "                 .astype(int)),\n",
        "    has_shared_bath = (summary_listings['name']\n",
        "                 .str.lower()\n",
        "                 .str.contains('shared', case=False)\n",
        "                 .astype(int)),\n",
        "    has_half_bath = (summary_listings['name']\n",
        "                 .str.lower()\n",
        "                 .str.contains('half', case=False)\n",
        "                 .astype(int)),\n",
        ")\n",
        "\n",
        "summary_listings['days_since_last_review'] = (datetime.today() - pd.to_datetime(summary_listings['last_review'])).dt.days\n",
        "summary_listings['days_since_last_review'] = (summary_listings['days_since_last_review'] -\n",
        "                                              summary_listings['days_since_last_review'].min())\n",
        "\n",
        "zero_reviews = summary_listings['number_of_reviews'] == 0\n",
        "ratio = summary_listings['number_of_reviews_ltm'] / summary_listings['number_of_reviews']\n",
        "summary_listings['number_of_reviews_ltm'] = np.where(zero_reviews, 0, ratio)"
      ],
      "metadata": {
        "id": "Z3Ng8TmyX165"
      },
      "execution_count": 5,
      "outputs": []
    },
    {
      "cell_type": "markdown",
      "source": [
        "Creating the target from daily listings:"
      ],
      "metadata": {
        "id": "AULG1_Yk2Nf2"
      }
    },
    {
      "cell_type": "code",
      "source": [
        "calendar = pd.read_csv(\"/content/drive/MyDrive/XGBoost/calendar.csv\")\n",
        "\n",
        "calendar[\"adjusted_price\"] = calendar[\"adjusted_price\"].apply(lambda x: float(x.replace('$', '').replace(',', '')))\n",
        "\n",
        "price_stats = (calendar.groupby('listing_id')['adjusted_price']\n",
        "                       .agg(['mean', 'min', 'max']))\n"
      ],
      "metadata": {
        "id": "Tk7UaAZh2OVT"
      },
      "execution_count": 6,
      "outputs": []
    },
    {
      "cell_type": "code",
      "source": [
        "price_stats.head()"
      ],
      "metadata": {
        "colab": {
          "base_uri": "https://localhost:8080/",
          "height": 238
        },
        "id": "BqtihYTY4HZS",
        "outputId": "0b35dd7e-d819-4e43-a2ab-27de7fab1bea"
      },
      "execution_count": 7,
      "outputs": [
        {
          "output_type": "execute_result",
          "data": {
            "text/plain": [
              "                    mean      min      max\n",
              "listing_id                                \n",
              "197677      12000.000000  12000.0  12000.0\n",
              "776070       8902.000000   8902.0   8902.0\n",
              "905944      24680.221918  23740.0  29675.0\n",
              "1016831     20378.082192  15000.0  25000.0\n",
              "1196177     22127.671233   4500.0  30000.0"
            ],
            "text/html": [
              "\n",
              "  <div id=\"df-64631595-00aa-4db5-be4b-a34235072ada\" class=\"colab-df-container\">\n",
              "    <div>\n",
              "<style scoped>\n",
              "    .dataframe tbody tr th:only-of-type {\n",
              "        vertical-align: middle;\n",
              "    }\n",
              "\n",
              "    .dataframe tbody tr th {\n",
              "        vertical-align: top;\n",
              "    }\n",
              "\n",
              "    .dataframe thead th {\n",
              "        text-align: right;\n",
              "    }\n",
              "</style>\n",
              "<table border=\"1\" class=\"dataframe\">\n",
              "  <thead>\n",
              "    <tr style=\"text-align: right;\">\n",
              "      <th></th>\n",
              "      <th>mean</th>\n",
              "      <th>min</th>\n",
              "      <th>max</th>\n",
              "    </tr>\n",
              "    <tr>\n",
              "      <th>listing_id</th>\n",
              "      <th></th>\n",
              "      <th></th>\n",
              "      <th></th>\n",
              "    </tr>\n",
              "  </thead>\n",
              "  <tbody>\n",
              "    <tr>\n",
              "      <th>197677</th>\n",
              "      <td>12000.000000</td>\n",
              "      <td>12000.0</td>\n",
              "      <td>12000.0</td>\n",
              "    </tr>\n",
              "    <tr>\n",
              "      <th>776070</th>\n",
              "      <td>8902.000000</td>\n",
              "      <td>8902.0</td>\n",
              "      <td>8902.0</td>\n",
              "    </tr>\n",
              "    <tr>\n",
              "      <th>905944</th>\n",
              "      <td>24680.221918</td>\n",
              "      <td>23740.0</td>\n",
              "      <td>29675.0</td>\n",
              "    </tr>\n",
              "    <tr>\n",
              "      <th>1016831</th>\n",
              "      <td>20378.082192</td>\n",
              "      <td>15000.0</td>\n",
              "      <td>25000.0</td>\n",
              "    </tr>\n",
              "    <tr>\n",
              "      <th>1196177</th>\n",
              "      <td>22127.671233</td>\n",
              "      <td>4500.0</td>\n",
              "      <td>30000.0</td>\n",
              "    </tr>\n",
              "  </tbody>\n",
              "</table>\n",
              "</div>\n",
              "    <div class=\"colab-df-buttons\">\n",
              "\n",
              "  <div class=\"colab-df-container\">\n",
              "    <button class=\"colab-df-convert\" onclick=\"convertToInteractive('df-64631595-00aa-4db5-be4b-a34235072ada')\"\n",
              "            title=\"Convert this dataframe to an interactive table.\"\n",
              "            style=\"display:none;\">\n",
              "\n",
              "  <svg xmlns=\"http://www.w3.org/2000/svg\" height=\"24px\" viewBox=\"0 -960 960 960\">\n",
              "    <path d=\"M120-120v-720h720v720H120Zm60-500h600v-160H180v160Zm220 220h160v-160H400v160Zm0 220h160v-160H400v160ZM180-400h160v-160H180v160Zm440 0h160v-160H620v160ZM180-180h160v-160H180v160Zm440 0h160v-160H620v160Z\"/>\n",
              "  </svg>\n",
              "    </button>\n",
              "\n",
              "  <style>\n",
              "    .colab-df-container {\n",
              "      display:flex;\n",
              "      gap: 12px;\n",
              "    }\n",
              "\n",
              "    .colab-df-convert {\n",
              "      background-color: #E8F0FE;\n",
              "      border: none;\n",
              "      border-radius: 50%;\n",
              "      cursor: pointer;\n",
              "      display: none;\n",
              "      fill: #1967D2;\n",
              "      height: 32px;\n",
              "      padding: 0 0 0 0;\n",
              "      width: 32px;\n",
              "    }\n",
              "\n",
              "    .colab-df-convert:hover {\n",
              "      background-color: #E2EBFA;\n",
              "      box-shadow: 0px 1px 2px rgba(60, 64, 67, 0.3), 0px 1px 3px 1px rgba(60, 64, 67, 0.15);\n",
              "      fill: #174EA6;\n",
              "    }\n",
              "\n",
              "    .colab-df-buttons div {\n",
              "      margin-bottom: 4px;\n",
              "    }\n",
              "\n",
              "    [theme=dark] .colab-df-convert {\n",
              "      background-color: #3B4455;\n",
              "      fill: #D2E3FC;\n",
              "    }\n",
              "\n",
              "    [theme=dark] .colab-df-convert:hover {\n",
              "      background-color: #434B5C;\n",
              "      box-shadow: 0px 1px 3px 1px rgba(0, 0, 0, 0.15);\n",
              "      filter: drop-shadow(0px 1px 2px rgba(0, 0, 0, 0.3));\n",
              "      fill: #FFFFFF;\n",
              "    }\n",
              "  </style>\n",
              "\n",
              "    <script>\n",
              "      const buttonEl =\n",
              "        document.querySelector('#df-64631595-00aa-4db5-be4b-a34235072ada button.colab-df-convert');\n",
              "      buttonEl.style.display =\n",
              "        google.colab.kernel.accessAllowed ? 'block' : 'none';\n",
              "\n",
              "      async function convertToInteractive(key) {\n",
              "        const element = document.querySelector('#df-64631595-00aa-4db5-be4b-a34235072ada');\n",
              "        const dataTable =\n",
              "          await google.colab.kernel.invokeFunction('convertToInteractive',\n",
              "                                                    [key], {});\n",
              "        if (!dataTable) return;\n",
              "\n",
              "        const docLinkHtml = 'Like what you see? Visit the ' +\n",
              "          '<a target=\"_blank\" href=https://colab.research.google.com/notebooks/data_table.ipynb>data table notebook</a>'\n",
              "          + ' to learn more about interactive tables.';\n",
              "        element.innerHTML = '';\n",
              "        dataTable['output_type'] = 'display_data';\n",
              "        await google.colab.output.renderOutput(dataTable, element);\n",
              "        const docLink = document.createElement('div');\n",
              "        docLink.innerHTML = docLinkHtml;\n",
              "        element.appendChild(docLink);\n",
              "      }\n",
              "    </script>\n",
              "  </div>\n",
              "\n",
              "\n",
              "<div id=\"df-9266f6c5-31ea-4e64-8fb1-3c53c7c684bd\">\n",
              "  <button class=\"colab-df-quickchart\" onclick=\"quickchart('df-9266f6c5-31ea-4e64-8fb1-3c53c7c684bd')\"\n",
              "            title=\"Suggest charts\"\n",
              "            style=\"display:none;\">\n",
              "\n",
              "<svg xmlns=\"http://www.w3.org/2000/svg\" height=\"24px\"viewBox=\"0 0 24 24\"\n",
              "     width=\"24px\">\n",
              "    <g>\n",
              "        <path d=\"M19 3H5c-1.1 0-2 .9-2 2v14c0 1.1.9 2 2 2h14c1.1 0 2-.9 2-2V5c0-1.1-.9-2-2-2zM9 17H7v-7h2v7zm4 0h-2V7h2v10zm4 0h-2v-4h2v4z\"/>\n",
              "    </g>\n",
              "</svg>\n",
              "  </button>\n",
              "\n",
              "<style>\n",
              "  .colab-df-quickchart {\n",
              "      --bg-color: #E8F0FE;\n",
              "      --fill-color: #1967D2;\n",
              "      --hover-bg-color: #E2EBFA;\n",
              "      --hover-fill-color: #174EA6;\n",
              "      --disabled-fill-color: #AAA;\n",
              "      --disabled-bg-color: #DDD;\n",
              "  }\n",
              "\n",
              "  [theme=dark] .colab-df-quickchart {\n",
              "      --bg-color: #3B4455;\n",
              "      --fill-color: #D2E3FC;\n",
              "      --hover-bg-color: #434B5C;\n",
              "      --hover-fill-color: #FFFFFF;\n",
              "      --disabled-bg-color: #3B4455;\n",
              "      --disabled-fill-color: #666;\n",
              "  }\n",
              "\n",
              "  .colab-df-quickchart {\n",
              "    background-color: var(--bg-color);\n",
              "    border: none;\n",
              "    border-radius: 50%;\n",
              "    cursor: pointer;\n",
              "    display: none;\n",
              "    fill: var(--fill-color);\n",
              "    height: 32px;\n",
              "    padding: 0;\n",
              "    width: 32px;\n",
              "  }\n",
              "\n",
              "  .colab-df-quickchart:hover {\n",
              "    background-color: var(--hover-bg-color);\n",
              "    box-shadow: 0 1px 2px rgba(60, 64, 67, 0.3), 0 1px 3px 1px rgba(60, 64, 67, 0.15);\n",
              "    fill: var(--button-hover-fill-color);\n",
              "  }\n",
              "\n",
              "  .colab-df-quickchart-complete:disabled,\n",
              "  .colab-df-quickchart-complete:disabled:hover {\n",
              "    background-color: var(--disabled-bg-color);\n",
              "    fill: var(--disabled-fill-color);\n",
              "    box-shadow: none;\n",
              "  }\n",
              "\n",
              "  .colab-df-spinner {\n",
              "    border: 2px solid var(--fill-color);\n",
              "    border-color: transparent;\n",
              "    border-bottom-color: var(--fill-color);\n",
              "    animation:\n",
              "      spin 1s steps(1) infinite;\n",
              "  }\n",
              "\n",
              "  @keyframes spin {\n",
              "    0% {\n",
              "      border-color: transparent;\n",
              "      border-bottom-color: var(--fill-color);\n",
              "      border-left-color: var(--fill-color);\n",
              "    }\n",
              "    20% {\n",
              "      border-color: transparent;\n",
              "      border-left-color: var(--fill-color);\n",
              "      border-top-color: var(--fill-color);\n",
              "    }\n",
              "    30% {\n",
              "      border-color: transparent;\n",
              "      border-left-color: var(--fill-color);\n",
              "      border-top-color: var(--fill-color);\n",
              "      border-right-color: var(--fill-color);\n",
              "    }\n",
              "    40% {\n",
              "      border-color: transparent;\n",
              "      border-right-color: var(--fill-color);\n",
              "      border-top-color: var(--fill-color);\n",
              "    }\n",
              "    60% {\n",
              "      border-color: transparent;\n",
              "      border-right-color: var(--fill-color);\n",
              "    }\n",
              "    80% {\n",
              "      border-color: transparent;\n",
              "      border-right-color: var(--fill-color);\n",
              "      border-bottom-color: var(--fill-color);\n",
              "    }\n",
              "    90% {\n",
              "      border-color: transparent;\n",
              "      border-bottom-color: var(--fill-color);\n",
              "    }\n",
              "  }\n",
              "</style>\n",
              "\n",
              "  <script>\n",
              "    async function quickchart(key) {\n",
              "      const quickchartButtonEl =\n",
              "        document.querySelector('#' + key + ' button');\n",
              "      quickchartButtonEl.disabled = true;  // To prevent multiple clicks.\n",
              "      quickchartButtonEl.classList.add('colab-df-spinner');\n",
              "      try {\n",
              "        const charts = await google.colab.kernel.invokeFunction(\n",
              "            'suggestCharts', [key], {});\n",
              "      } catch (error) {\n",
              "        console.error('Error during call to suggestCharts:', error);\n",
              "      }\n",
              "      quickchartButtonEl.classList.remove('colab-df-spinner');\n",
              "      quickchartButtonEl.classList.add('colab-df-quickchart-complete');\n",
              "    }\n",
              "    (() => {\n",
              "      let quickchartButtonEl =\n",
              "        document.querySelector('#df-9266f6c5-31ea-4e64-8fb1-3c53c7c684bd button');\n",
              "      quickchartButtonEl.style.display =\n",
              "        google.colab.kernel.accessAllowed ? 'block' : 'none';\n",
              "    })();\n",
              "  </script>\n",
              "</div>\n",
              "\n",
              "    </div>\n",
              "  </div>\n"
            ],
            "application/vnd.google.colaboratory.intrinsic+json": {
              "type": "dataframe",
              "variable_name": "price_stats",
              "summary": "{\n  \"name\": \"price_stats\",\n  \"rows\": 12233,\n  \"fields\": [\n    {\n      \"column\": \"listing_id\",\n      \"properties\": {\n        \"dtype\": \"number\",\n        \"std\": 418907431896969472,\n        \"min\": 197677,\n        \"max\": 985976243957210319,\n        \"num_unique_values\": 12233,\n        \"samples\": [\n          45659760,\n          40688341,\n          911358191906777884\n        ],\n        \"semantic_type\": \"\",\n        \"description\": \"\"\n      }\n    },\n    {\n      \"column\": \"mean\",\n      \"properties\": {\n        \"dtype\": \"number\",\n        \"std\": 94755.83343603817,\n        \"min\": 1500.0,\n        \"max\": 5202583.378082192,\n        \"num_unique_values\": 9176,\n        \"samples\": [\n          90394.52054794521,\n          11317.808219178081,\n          15869.315068493152\n        ],\n        \"semantic_type\": \"\",\n        \"description\": \"\"\n      }\n    },\n    {\n      \"column\": \"min\",\n      \"properties\": {\n        \"dtype\": \"number\",\n        \"std\": 67116.24115988036,\n        \"min\": 1484.0,\n        \"max\": 1306500.0,\n        \"num_unique_values\": 1857,\n        \"samples\": [\n          12900.0,\n          11737.0,\n          4937.0\n        ],\n        \"semantic_type\": \"\",\n        \"description\": \"\"\n      }\n    },\n    {\n      \"column\": \"max\",\n      \"properties\": {\n        \"dtype\": \"number\",\n        \"std\": 139472.4280690437,\n        \"min\": 1500.0,\n        \"max\": 7999999.0,\n        \"num_unique_values\": 1774,\n        \"samples\": [\n          55560.0,\n          145850.0,\n          51782.0\n        ],\n        \"semantic_type\": \"\",\n        \"description\": \"\"\n      }\n    }\n  ]\n}"
            }
          },
          "metadata": {},
          "execution_count": 7
        }
      ]
    },
    {
      "cell_type": "markdown",
      "source": [
        "Creating a high cardinality geographical feature:"
      ],
      "metadata": {
        "id": "cj_aP71vvZYS"
      }
    },
    {
      "cell_type": "code",
      "source": [
        "def bin_2_cat(feature, bins=32):\n",
        "    min_value = feature.min()\n",
        "    bin_size = (feature.max() - min_value) / bins\n",
        "    return ((feature - min_value) / bin_size).astype(int)\n",
        "\n",
        "summary_listings['coordinates'] = (bin_2_cat(summary_listings['latitude']) * 1000 +\n",
        "                                  bin_2_cat(summary_listings['longitude']))\n",
        "\n",
        "print(summary_listings['coordinates'].nunique())"
      ],
      "metadata": {
        "colab": {
          "base_uri": "https://localhost:8080/"
        },
        "id": "MbmPK1DtvbzG",
        "outputId": "9a664b9e-405a-4f02-9a73-32e69fd69232"
      },
      "execution_count": 8,
      "outputs": [
        {
          "output_type": "stream",
          "name": "stdout",
          "text": [
            "325\n"
          ]
        }
      ]
    },
    {
      "cell_type": "markdown",
      "source": [
        "Creating a feature comparing the location of our Airbnb accommodation with the area of the Imperial Palace because of its importanceon real estate valuations."
      ],
      "metadata": {
        "id": "iTbHhtxMGrvL"
      }
    },
    {
      "cell_type": "code",
      "source": [
        "imperial_palace_lat = 35.6841822633\n",
        "imperial_palace_lon = 139.751471994\n",
        "\n",
        "def degrees_to_meters(distance_degrees, latitude):\n",
        "    conversion_factor = 111000\n",
        "    distance_meters = (distance_degrees * conversion_factor\n",
        "                       * np.cos(np.radians(latitude)))\n",
        "    return distance_meters\n",
        "\n",
        "distance_degrees = (np.abs(summary_listings['latitude'] - imperial_palace_lat) +\n",
        "                    np.abs(summary_listings['longitude'] - imperial_palace_lon))\n",
        "\n",
        "summary_listings['imperial_palace_distance'] = degrees_to_meters(distance_degrees,\n",
        "                                                                 summary_listings['latitude'])"
      ],
      "metadata": {
        "id": "Qm2SZRHvGwkt"
      },
      "execution_count": 9,
      "outputs": []
    }
  ]
}