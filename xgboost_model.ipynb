{
  "nbformat": 4,
  "nbformat_minor": 0,
  "metadata": {
    "colab": {
      "provenance": [],
      "mount_file_id": "1_5UETGh-BboAykfCXyLDI6mgyF5JK3S4",
      "authorship_tag": "ABX9TyN+NOa4FNexrSKeBWdhbYoO",
      "include_colab_link": true
    },
    "kernelspec": {
      "name": "python3",
      "display_name": "Python 3"
    },
    "language_info": {
      "name": "python"
    }
  },
  "cells": [
    {
      "cell_type": "markdown",
      "metadata": {
        "id": "view-in-github",
        "colab_type": "text"
      },
      "source": [
        "<a href=\"https://colab.research.google.com/github/jeremysb1/xgboost/blob/main/xgboost_model.ipynb\" target=\"_parent\"><img src=\"https://colab.research.google.com/assets/colab-badge.svg\" alt=\"Open In Colab\"/></a>"
      ]
    },
    {
      "cell_type": "markdown",
      "source": [
        "I am building a model to predict prices using a regression-based approach with XGBoost."
      ],
      "metadata": {
        "id": "JbME15Eqmc3W"
      }
    },
    {
      "cell_type": "code",
      "execution_count": 1,
      "metadata": {
        "id": "iAq2S8tUmGsZ"
      },
      "outputs": [],
      "source": [
        "import pandas as pd\n",
        "summary_listings = pd.read_csv(\"/content/drive/MyDrive/XGBoost/listings.csv\")"
      ]
    },
    {
      "cell_type": "code",
      "source": [
        "summary_listings.dtypes"
      ],
      "metadata": {
        "colab": {
          "base_uri": "https://localhost:8080/",
          "height": 649
        },
        "id": "TWzTo8P0LBRr",
        "outputId": "5577653f-2641-4804-ca31-ec502a77f9b5"
      },
      "execution_count": 2,
      "outputs": [
        {
          "output_type": "execute_result",
          "data": {
            "text/plain": [
              "id                                  int64\n",
              "name                               object\n",
              "host_id                             int64\n",
              "host_name                          object\n",
              "neighbourhood_group               float64\n",
              "neighbourhood                      object\n",
              "latitude                          float64\n",
              "longitude                         float64\n",
              "room_type                          object\n",
              "price                               int64\n",
              "minimum_nights                      int64\n",
              "number_of_reviews                   int64\n",
              "last_review                        object\n",
              "reviews_per_month                 float64\n",
              "calculated_host_listings_count      int64\n",
              "availability_365                    int64\n",
              "number_of_reviews_ltm               int64\n",
              "license                            object\n",
              "dtype: object"
            ],
            "text/html": [
              "<table border=\"1\" class=\"dataframe\">\n",
              "  <thead>\n",
              "    <tr style=\"text-align: right;\">\n",
              "      <th></th>\n",
              "      <th>0</th>\n",
              "    </tr>\n",
              "  </thead>\n",
              "  <tbody>\n",
              "    <tr>\n",
              "      <th>id</th>\n",
              "      <td>int64</td>\n",
              "    </tr>\n",
              "    <tr>\n",
              "      <th>name</th>\n",
              "      <td>object</td>\n",
              "    </tr>\n",
              "    <tr>\n",
              "      <th>host_id</th>\n",
              "      <td>int64</td>\n",
              "    </tr>\n",
              "    <tr>\n",
              "      <th>host_name</th>\n",
              "      <td>object</td>\n",
              "    </tr>\n",
              "    <tr>\n",
              "      <th>neighbourhood_group</th>\n",
              "      <td>float64</td>\n",
              "    </tr>\n",
              "    <tr>\n",
              "      <th>neighbourhood</th>\n",
              "      <td>object</td>\n",
              "    </tr>\n",
              "    <tr>\n",
              "      <th>latitude</th>\n",
              "      <td>float64</td>\n",
              "    </tr>\n",
              "    <tr>\n",
              "      <th>longitude</th>\n",
              "      <td>float64</td>\n",
              "    </tr>\n",
              "    <tr>\n",
              "      <th>room_type</th>\n",
              "      <td>object</td>\n",
              "    </tr>\n",
              "    <tr>\n",
              "      <th>price</th>\n",
              "      <td>int64</td>\n",
              "    </tr>\n",
              "    <tr>\n",
              "      <th>minimum_nights</th>\n",
              "      <td>int64</td>\n",
              "    </tr>\n",
              "    <tr>\n",
              "      <th>number_of_reviews</th>\n",
              "      <td>int64</td>\n",
              "    </tr>\n",
              "    <tr>\n",
              "      <th>last_review</th>\n",
              "      <td>object</td>\n",
              "    </tr>\n",
              "    <tr>\n",
              "      <th>reviews_per_month</th>\n",
              "      <td>float64</td>\n",
              "    </tr>\n",
              "    <tr>\n",
              "      <th>calculated_host_listings_count</th>\n",
              "      <td>int64</td>\n",
              "    </tr>\n",
              "    <tr>\n",
              "      <th>availability_365</th>\n",
              "      <td>int64</td>\n",
              "    </tr>\n",
              "    <tr>\n",
              "      <th>number_of_reviews_ltm</th>\n",
              "      <td>int64</td>\n",
              "    </tr>\n",
              "    <tr>\n",
              "      <th>license</th>\n",
              "      <td>object</td>\n",
              "    </tr>\n",
              "  </tbody>\n",
              "</table><br><label><b>dtype:</b> object</label>"
            ]
          },
          "metadata": {},
          "execution_count": 2
        }
      ]
    },
    {
      "cell_type": "code",
      "source": [
        "summary_listings['name'].iloc[0]"
      ],
      "metadata": {
        "colab": {
          "base_uri": "https://localhost:8080/",
          "height": 35
        },
        "id": "q4AGj9YQMWp4",
        "outputId": "2f9f0b27-121b-40e5-e82d-e68b462a25c6"
      },
      "execution_count": 3,
      "outputs": [
        {
          "output_type": "execute_result",
          "data": {
            "text/plain": [
              "'Rental unit in Sumida · ★4.77 · 1 bedroom · 2 beds · 1 bath'"
            ],
            "application/vnd.google.colaboratory.intrinsic+json": {
              "type": "string"
            }
          },
          "metadata": {},
          "execution_count": 3
        }
      ]
    },
    {
      "cell_type": "markdown",
      "source": [
        "Extracting information from text descriptions:"
      ],
      "metadata": {
        "id": "sVQVIXP2NgpX"
      }
    },
    {
      "cell_type": "code",
      "source": [
        "import re\n",
        "\n",
        "classification_list = ['aparthotel', 'barn', 'bed and breakfast', 'boutique hotel',\n",
        "                       'bungalow', 'cabin', 'camper/rv', 'chalet', 'condo', 'cottage',\n",
        "                       'earthen home', 'farm stay', 'guest suite', 'guesthouse', 'home',\n",
        "                       'hostel', 'hotel', 'houseboat', 'hut', 'loft', 'place to stay',\n",
        "                       'rental unit', 'resort', 'ryokan', 'serviced apartment',\n",
        "                       'tiny home', 'townhouse', 'treehouse', 'vacation home', 'villa']\n",
        "\n",
        "summary_listings = summary_listings.assign(\n",
        "    type_of_accommodation=(summary_listings['name']\n",
        "                           .str.extract(f\"({'|'.join(classification_list)})\",\n",
        "                                        flags=re.IGNORECASE)),\n",
        "    area_of_tokyo=(summary_listings['name']\n",
        "                   .str.extract(r'in\\s(.*?)\\s·',\n",
        "                                flags=re.IGNORECASE)),\n",
        "    score=(summary_listings['name']\n",
        "           .str.extract(r'★(\\d+\\.\\d+)', flags=re.IGNORECASE)\n",
        "           .astype(float)),\n",
        "    number_of_bedrooms=(summary_listings['name']\n",
        "                        .str.extract(r'(\\d+)\\s*(?:bedroom|bedrooms)',\n",
        "                                     flags=re.IGNORECASE)\n",
        "                        .fillna(0)\n",
        "                        .astype(int)),\n",
        "    number_of_beds=(summary_listings['name']\n",
        "                    .str.extract(r'(\\d+)\\s+(?:beds?\\b)',\n",
        "                                 flags=re.IGNORECASE)\n",
        "                    .fillna(0)\n",
        "                    .astype(int)),\n",
        "    number_of_baths=(summary_listings['name']\n",
        "                     .str.extract(r'(?P<baths>\\d+)\\s*(shared\\s+)?(?:half-)?baths?\\b',\n",
        "                                  flags=re.IGNORECASE)[\"baths\"]\n",
        "                     .fillna(0)\n",
        "                     .astype(int)),\n",
        ")"
      ],
      "metadata": {
        "id": "-B3qnrYcNkMB"
      },
      "execution_count": 4,
      "outputs": []
    },
    {
      "cell_type": "code",
      "source": [
        "import numpy as np\n",
        "from datetime import datetime\n",
        "\n",
        "summary_listings = summary_listings.assign(\n",
        "    is_new = (summary_listings['name']\n",
        "              .str.lower()\n",
        "              .str.contains('new', case=False)\n",
        "              .astype(int)),\n",
        "    is_studio = (summary_listings['name']\n",
        "                 .str.lower()\n",
        "                 .str.contains('studio', case=False)\n",
        "                 .astype(int)),\n",
        "    has_shared_bath = (summary_listings['name']\n",
        "                 .str.lower()\n",
        "                 .str.contains('shared', case=False)\n",
        "                 .astype(int)),\n",
        "    has_half_bath = (summary_listings['name']\n",
        "                 .str.lower()\n",
        "                 .str.contains('half', case=False)\n",
        "                 .astype(int)),\n",
        ")\n",
        "\n",
        "summary_listings['days_since_last_review'] = (datetime.today() - pd.to_datetime(summary_listings['last_review'])).dt.days\n",
        "summary_listings['days_since_last_review'] = (summary_listings['days_since_last_review'] -\n",
        "                                              summary_listings['days_since_last_review'].min())\n",
        "\n",
        "zero_reviews = summary_listings['number_of_reviews'] == 0\n",
        "ratio = summary_listings['number_of_reviews_ltm'] / summary_listings['number_of_reviews']\n",
        "summary_listings['number_of_reviews_ltm'] = np.where(zero_reviews, 0, ratio)"
      ],
      "metadata": {
        "id": "Z3Ng8TmyX165"
      },
      "execution_count": 5,
      "outputs": []
    },
    {
      "cell_type": "markdown",
      "source": [
        "Creating the target from daily listings:"
      ],
      "metadata": {
        "id": "AULG1_Yk2Nf2"
      }
    },
    {
      "cell_type": "code",
      "source": [
        "calendar = pd.read_csv(\"/content/drive/MyDrive/XGBoost/calendar.csv\")\n",
        "\n",
        "calendar[\"adjusted_price\"] = calendar[\"adjusted_price\"].apply(lambda x: float(x.replace('$', '').replace(',', '')))\n",
        "\n",
        "price_stats = (calendar.groupby('listing_id')['adjusted_price']\n",
        "                       .agg(['mean', 'min', 'max']))\n"
      ],
      "metadata": {
        "id": "Tk7UaAZh2OVT"
      },
      "execution_count": 6,
      "outputs": []
    },
    {
      "cell_type": "code",
      "source": [
        "price_stats.head()"
      ],
      "metadata": {
        "colab": {
          "base_uri": "https://localhost:8080/",
          "height": 238
        },
        "id": "BqtihYTY4HZS",
        "outputId": "5146855d-a9b7-448a-aae8-03041c1c39d3"
      },
      "execution_count": 7,
      "outputs": [
        {
          "output_type": "execute_result",
          "data": {
            "text/plain": [
              "                    mean      min      max\n",
              "listing_id                                \n",
              "197677      12000.000000  12000.0  12000.0\n",
              "776070       8902.000000   8902.0   8902.0\n",
              "905944      24680.221918  23740.0  29675.0\n",
              "1016831     20378.082192  15000.0  25000.0\n",
              "1196177     22127.671233   4500.0  30000.0"
            ],
            "text/html": [
              "\n",
              "  <div id=\"df-fc8c3b32-b04a-4457-95bc-e0bfb3462cc5\" class=\"colab-df-container\">\n",
              "    <div>\n",
              "<style scoped>\n",
              "    .dataframe tbody tr th:only-of-type {\n",
              "        vertical-align: middle;\n",
              "    }\n",
              "\n",
              "    .dataframe tbody tr th {\n",
              "        vertical-align: top;\n",
              "    }\n",
              "\n",
              "    .dataframe thead th {\n",
              "        text-align: right;\n",
              "    }\n",
              "</style>\n",
              "<table border=\"1\" class=\"dataframe\">\n",
              "  <thead>\n",
              "    <tr style=\"text-align: right;\">\n",
              "      <th></th>\n",
              "      <th>mean</th>\n",
              "      <th>min</th>\n",
              "      <th>max</th>\n",
              "    </tr>\n",
              "    <tr>\n",
              "      <th>listing_id</th>\n",
              "      <th></th>\n",
              "      <th></th>\n",
              "      <th></th>\n",
              "    </tr>\n",
              "  </thead>\n",
              "  <tbody>\n",
              "    <tr>\n",
              "      <th>197677</th>\n",
              "      <td>12000.000000</td>\n",
              "      <td>12000.0</td>\n",
              "      <td>12000.0</td>\n",
              "    </tr>\n",
              "    <tr>\n",
              "      <th>776070</th>\n",
              "      <td>8902.000000</td>\n",
              "      <td>8902.0</td>\n",
              "      <td>8902.0</td>\n",
              "    </tr>\n",
              "    <tr>\n",
              "      <th>905944</th>\n",
              "      <td>24680.221918</td>\n",
              "      <td>23740.0</td>\n",
              "      <td>29675.0</td>\n",
              "    </tr>\n",
              "    <tr>\n",
              "      <th>1016831</th>\n",
              "      <td>20378.082192</td>\n",
              "      <td>15000.0</td>\n",
              "      <td>25000.0</td>\n",
              "    </tr>\n",
              "    <tr>\n",
              "      <th>1196177</th>\n",
              "      <td>22127.671233</td>\n",
              "      <td>4500.0</td>\n",
              "      <td>30000.0</td>\n",
              "    </tr>\n",
              "  </tbody>\n",
              "</table>\n",
              "</div>\n",
              "    <div class=\"colab-df-buttons\">\n",
              "\n",
              "  <div class=\"colab-df-container\">\n",
              "    <button class=\"colab-df-convert\" onclick=\"convertToInteractive('df-fc8c3b32-b04a-4457-95bc-e0bfb3462cc5')\"\n",
              "            title=\"Convert this dataframe to an interactive table.\"\n",
              "            style=\"display:none;\">\n",
              "\n",
              "  <svg xmlns=\"http://www.w3.org/2000/svg\" height=\"24px\" viewBox=\"0 -960 960 960\">\n",
              "    <path d=\"M120-120v-720h720v720H120Zm60-500h600v-160H180v160Zm220 220h160v-160H400v160Zm0 220h160v-160H400v160ZM180-400h160v-160H180v160Zm440 0h160v-160H620v160ZM180-180h160v-160H180v160Zm440 0h160v-160H620v160Z\"/>\n",
              "  </svg>\n",
              "    </button>\n",
              "\n",
              "  <style>\n",
              "    .colab-df-container {\n",
              "      display:flex;\n",
              "      gap: 12px;\n",
              "    }\n",
              "\n",
              "    .colab-df-convert {\n",
              "      background-color: #E8F0FE;\n",
              "      border: none;\n",
              "      border-radius: 50%;\n",
              "      cursor: pointer;\n",
              "      display: none;\n",
              "      fill: #1967D2;\n",
              "      height: 32px;\n",
              "      padding: 0 0 0 0;\n",
              "      width: 32px;\n",
              "    }\n",
              "\n",
              "    .colab-df-convert:hover {\n",
              "      background-color: #E2EBFA;\n",
              "      box-shadow: 0px 1px 2px rgba(60, 64, 67, 0.3), 0px 1px 3px 1px rgba(60, 64, 67, 0.15);\n",
              "      fill: #174EA6;\n",
              "    }\n",
              "\n",
              "    .colab-df-buttons div {\n",
              "      margin-bottom: 4px;\n",
              "    }\n",
              "\n",
              "    [theme=dark] .colab-df-convert {\n",
              "      background-color: #3B4455;\n",
              "      fill: #D2E3FC;\n",
              "    }\n",
              "\n",
              "    [theme=dark] .colab-df-convert:hover {\n",
              "      background-color: #434B5C;\n",
              "      box-shadow: 0px 1px 3px 1px rgba(0, 0, 0, 0.15);\n",
              "      filter: drop-shadow(0px 1px 2px rgba(0, 0, 0, 0.3));\n",
              "      fill: #FFFFFF;\n",
              "    }\n",
              "  </style>\n",
              "\n",
              "    <script>\n",
              "      const buttonEl =\n",
              "        document.querySelector('#df-fc8c3b32-b04a-4457-95bc-e0bfb3462cc5 button.colab-df-convert');\n",
              "      buttonEl.style.display =\n",
              "        google.colab.kernel.accessAllowed ? 'block' : 'none';\n",
              "\n",
              "      async function convertToInteractive(key) {\n",
              "        const element = document.querySelector('#df-fc8c3b32-b04a-4457-95bc-e0bfb3462cc5');\n",
              "        const dataTable =\n",
              "          await google.colab.kernel.invokeFunction('convertToInteractive',\n",
              "                                                    [key], {});\n",
              "        if (!dataTable) return;\n",
              "\n",
              "        const docLinkHtml = 'Like what you see? Visit the ' +\n",
              "          '<a target=\"_blank\" href=https://colab.research.google.com/notebooks/data_table.ipynb>data table notebook</a>'\n",
              "          + ' to learn more about interactive tables.';\n",
              "        element.innerHTML = '';\n",
              "        dataTable['output_type'] = 'display_data';\n",
              "        await google.colab.output.renderOutput(dataTable, element);\n",
              "        const docLink = document.createElement('div');\n",
              "        docLink.innerHTML = docLinkHtml;\n",
              "        element.appendChild(docLink);\n",
              "      }\n",
              "    </script>\n",
              "  </div>\n",
              "\n",
              "\n",
              "<div id=\"df-acefa1bc-ee4c-4a30-9f7a-ec1c541ab364\">\n",
              "  <button class=\"colab-df-quickchart\" onclick=\"quickchart('df-acefa1bc-ee4c-4a30-9f7a-ec1c541ab364')\"\n",
              "            title=\"Suggest charts\"\n",
              "            style=\"display:none;\">\n",
              "\n",
              "<svg xmlns=\"http://www.w3.org/2000/svg\" height=\"24px\"viewBox=\"0 0 24 24\"\n",
              "     width=\"24px\">\n",
              "    <g>\n",
              "        <path d=\"M19 3H5c-1.1 0-2 .9-2 2v14c0 1.1.9 2 2 2h14c1.1 0 2-.9 2-2V5c0-1.1-.9-2-2-2zM9 17H7v-7h2v7zm4 0h-2V7h2v10zm4 0h-2v-4h2v4z\"/>\n",
              "    </g>\n",
              "</svg>\n",
              "  </button>\n",
              "\n",
              "<style>\n",
              "  .colab-df-quickchart {\n",
              "      --bg-color: #E8F0FE;\n",
              "      --fill-color: #1967D2;\n",
              "      --hover-bg-color: #E2EBFA;\n",
              "      --hover-fill-color: #174EA6;\n",
              "      --disabled-fill-color: #AAA;\n",
              "      --disabled-bg-color: #DDD;\n",
              "  }\n",
              "\n",
              "  [theme=dark] .colab-df-quickchart {\n",
              "      --bg-color: #3B4455;\n",
              "      --fill-color: #D2E3FC;\n",
              "      --hover-bg-color: #434B5C;\n",
              "      --hover-fill-color: #FFFFFF;\n",
              "      --disabled-bg-color: #3B4455;\n",
              "      --disabled-fill-color: #666;\n",
              "  }\n",
              "\n",
              "  .colab-df-quickchart {\n",
              "    background-color: var(--bg-color);\n",
              "    border: none;\n",
              "    border-radius: 50%;\n",
              "    cursor: pointer;\n",
              "    display: none;\n",
              "    fill: var(--fill-color);\n",
              "    height: 32px;\n",
              "    padding: 0;\n",
              "    width: 32px;\n",
              "  }\n",
              "\n",
              "  .colab-df-quickchart:hover {\n",
              "    background-color: var(--hover-bg-color);\n",
              "    box-shadow: 0 1px 2px rgba(60, 64, 67, 0.3), 0 1px 3px 1px rgba(60, 64, 67, 0.15);\n",
              "    fill: var(--button-hover-fill-color);\n",
              "  }\n",
              "\n",
              "  .colab-df-quickchart-complete:disabled,\n",
              "  .colab-df-quickchart-complete:disabled:hover {\n",
              "    background-color: var(--disabled-bg-color);\n",
              "    fill: var(--disabled-fill-color);\n",
              "    box-shadow: none;\n",
              "  }\n",
              "\n",
              "  .colab-df-spinner {\n",
              "    border: 2px solid var(--fill-color);\n",
              "    border-color: transparent;\n",
              "    border-bottom-color: var(--fill-color);\n",
              "    animation:\n",
              "      spin 1s steps(1) infinite;\n",
              "  }\n",
              "\n",
              "  @keyframes spin {\n",
              "    0% {\n",
              "      border-color: transparent;\n",
              "      border-bottom-color: var(--fill-color);\n",
              "      border-left-color: var(--fill-color);\n",
              "    }\n",
              "    20% {\n",
              "      border-color: transparent;\n",
              "      border-left-color: var(--fill-color);\n",
              "      border-top-color: var(--fill-color);\n",
              "    }\n",
              "    30% {\n",
              "      border-color: transparent;\n",
              "      border-left-color: var(--fill-color);\n",
              "      border-top-color: var(--fill-color);\n",
              "      border-right-color: var(--fill-color);\n",
              "    }\n",
              "    40% {\n",
              "      border-color: transparent;\n",
              "      border-right-color: var(--fill-color);\n",
              "      border-top-color: var(--fill-color);\n",
              "    }\n",
              "    60% {\n",
              "      border-color: transparent;\n",
              "      border-right-color: var(--fill-color);\n",
              "    }\n",
              "    80% {\n",
              "      border-color: transparent;\n",
              "      border-right-color: var(--fill-color);\n",
              "      border-bottom-color: var(--fill-color);\n",
              "    }\n",
              "    90% {\n",
              "      border-color: transparent;\n",
              "      border-bottom-color: var(--fill-color);\n",
              "    }\n",
              "  }\n",
              "</style>\n",
              "\n",
              "  <script>\n",
              "    async function quickchart(key) {\n",
              "      const quickchartButtonEl =\n",
              "        document.querySelector('#' + key + ' button');\n",
              "      quickchartButtonEl.disabled = true;  // To prevent multiple clicks.\n",
              "      quickchartButtonEl.classList.add('colab-df-spinner');\n",
              "      try {\n",
              "        const charts = await google.colab.kernel.invokeFunction(\n",
              "            'suggestCharts', [key], {});\n",
              "      } catch (error) {\n",
              "        console.error('Error during call to suggestCharts:', error);\n",
              "      }\n",
              "      quickchartButtonEl.classList.remove('colab-df-spinner');\n",
              "      quickchartButtonEl.classList.add('colab-df-quickchart-complete');\n",
              "    }\n",
              "    (() => {\n",
              "      let quickchartButtonEl =\n",
              "        document.querySelector('#df-acefa1bc-ee4c-4a30-9f7a-ec1c541ab364 button');\n",
              "      quickchartButtonEl.style.display =\n",
              "        google.colab.kernel.accessAllowed ? 'block' : 'none';\n",
              "    })();\n",
              "  </script>\n",
              "</div>\n",
              "\n",
              "    </div>\n",
              "  </div>\n"
            ],
            "application/vnd.google.colaboratory.intrinsic+json": {
              "type": "dataframe",
              "variable_name": "price_stats",
              "summary": "{\n  \"name\": \"price_stats\",\n  \"rows\": 12233,\n  \"fields\": [\n    {\n      \"column\": \"listing_id\",\n      \"properties\": {\n        \"dtype\": \"number\",\n        \"std\": 418907431896969472,\n        \"min\": 197677,\n        \"max\": 985976243957210319,\n        \"num_unique_values\": 12233,\n        \"samples\": [\n          45659760,\n          40688341,\n          911358191906777884\n        ],\n        \"semantic_type\": \"\",\n        \"description\": \"\"\n      }\n    },\n    {\n      \"column\": \"mean\",\n      \"properties\": {\n        \"dtype\": \"number\",\n        \"std\": 94755.83343603817,\n        \"min\": 1500.0,\n        \"max\": 5202583.378082192,\n        \"num_unique_values\": 9176,\n        \"samples\": [\n          90394.52054794521,\n          11317.808219178081,\n          15869.315068493152\n        ],\n        \"semantic_type\": \"\",\n        \"description\": \"\"\n      }\n    },\n    {\n      \"column\": \"min\",\n      \"properties\": {\n        \"dtype\": \"number\",\n        \"std\": 67116.24115988036,\n        \"min\": 1484.0,\n        \"max\": 1306500.0,\n        \"num_unique_values\": 1857,\n        \"samples\": [\n          12900.0,\n          11737.0,\n          4937.0\n        ],\n        \"semantic_type\": \"\",\n        \"description\": \"\"\n      }\n    },\n    {\n      \"column\": \"max\",\n      \"properties\": {\n        \"dtype\": \"number\",\n        \"std\": 139472.4280690437,\n        \"min\": 1500.0,\n        \"max\": 7999999.0,\n        \"num_unique_values\": 1774,\n        \"samples\": [\n          55560.0,\n          145850.0,\n          51782.0\n        ],\n        \"semantic_type\": \"\",\n        \"description\": \"\"\n      }\n    }\n  ]\n}"
            }
          },
          "metadata": {},
          "execution_count": 7
        }
      ]
    },
    {
      "cell_type": "markdown",
      "source": [
        "Creating a high cardinality geographical feature:"
      ],
      "metadata": {
        "id": "cj_aP71vvZYS"
      }
    },
    {
      "cell_type": "code",
      "source": [
        "def bin_2_cat(feature, bins=32):\n",
        "    min_value = feature.min()\n",
        "    bin_size = (feature.max() - min_value) / bins\n",
        "    return ((feature - min_value) / bin_size).astype(int)\n",
        "\n",
        "summary_listings['coordinates'] = (bin_2_cat(summary_listings['latitude']) * 1000 +\n",
        "                                  bin_2_cat(summary_listings['longitude']))\n",
        "\n",
        "print(summary_listings['coordinates'].nunique())"
      ],
      "metadata": {
        "colab": {
          "base_uri": "https://localhost:8080/"
        },
        "id": "MbmPK1DtvbzG",
        "outputId": "3d639087-9bfb-4e26-8bf8-5f37fcdc58b0"
      },
      "execution_count": 8,
      "outputs": [
        {
          "output_type": "stream",
          "name": "stdout",
          "text": [
            "325\n"
          ]
        }
      ]
    },
    {
      "cell_type": "markdown",
      "source": [
        "Creating a feature comparing the location of our Airbnb accommodation with the area of the Imperial Palace because of its importanceon real estate valuations."
      ],
      "metadata": {
        "id": "iTbHhtxMGrvL"
      }
    },
    {
      "cell_type": "code",
      "source": [
        "imperial_palace_lat = 35.6841822633\n",
        "imperial_palace_lon = 139.751471994\n",
        "\n",
        "def degrees_to_meters(distance_degrees, latitude):\n",
        "    conversion_factor = 111000\n",
        "    distance_meters = (distance_degrees * conversion_factor\n",
        "                       * np.cos(np.radians(latitude)))\n",
        "    return distance_meters\n",
        "\n",
        "distance_degrees = (np.abs(summary_listings['latitude'] - imperial_palace_lat) +\n",
        "                    np.abs(summary_listings['longitude'] - imperial_palace_lon))\n",
        "\n",
        "summary_listings['imperial_palace_distance'] = degrees_to_meters(distance_degrees,\n",
        "                                                                 summary_listings['latitude'])"
      ],
      "metadata": {
        "id": "Qm2SZRHvGwkt"
      },
      "execution_count": 9,
      "outputs": []
    },
    {
      "cell_type": "code",
      "source": [
        "summary_listings.imperial_palace_distance.mean()"
      ],
      "metadata": {
        "colab": {
          "base_uri": "https://localhost:8080/"
        },
        "id": "6Bhv8wNMKC7V",
        "outputId": "902b821e-51dc-45f3-caf7-f0501a1b4b75"
      },
      "execution_count": 10,
      "outputs": [
        {
          "output_type": "execute_result",
          "data": {
            "text/plain": [
              "7979.657691732742"
            ]
          },
          "metadata": {},
          "execution_count": 10
        }
      ]
    },
    {
      "cell_type": "markdown",
      "source": [
        "The average distance to the Imperial Palace is around 7,9 kilometers."
      ],
      "metadata": {
        "id": "z6r5XA15KPoz"
      }
    },
    {
      "cell_type": "markdown",
      "source": [
        "Identifying the listing that is located nearest to the Imperial Palace:"
      ],
      "metadata": {
        "id": "IRywkyRLKWL8"
      }
    },
    {
      "cell_type": "code",
      "source": [
        "(summary_listings[['id', 'name', 'neighbourhood', 'imperial_palace_distance']].iloc[np.argmin(summary_listings['imperial_palace_distance'])])"
      ],
      "metadata": {
        "id": "tqrCfXQyKR75",
        "colab": {
          "base_uri": "https://localhost:8080/",
          "height": 210
        },
        "outputId": "d4c521e7-58a8-4496-eae8-3287639695d7"
      },
      "execution_count": 11,
      "outputs": [
        {
          "output_type": "execute_result",
          "data": {
            "text/plain": [
              "id                                                         874407512426725982\n",
              "name                        Home in Shibuya City · ★4.64 · 3 bedrooms · 6 ...\n",
              "neighbourhood                                                      Chiyoda Ku\n",
              "imperial_palace_distance                                           137.394271\n",
              "Name: 9883, dtype: object"
            ],
            "text/html": [
              "<table border=\"1\" class=\"dataframe\">\n",
              "  <thead>\n",
              "    <tr style=\"text-align: right;\">\n",
              "      <th></th>\n",
              "      <th>9883</th>\n",
              "    </tr>\n",
              "  </thead>\n",
              "  <tbody>\n",
              "    <tr>\n",
              "      <th>id</th>\n",
              "      <td>874407512426725982</td>\n",
              "    </tr>\n",
              "    <tr>\n",
              "      <th>name</th>\n",
              "      <td>Home in Shibuya City · ★4.64 · 3 bedrooms · 6 beds · 1 bath</td>\n",
              "    </tr>\n",
              "    <tr>\n",
              "      <th>neighbourhood</th>\n",
              "      <td>Chiyoda Ku</td>\n",
              "    </tr>\n",
              "    <tr>\n",
              "      <th>imperial_palace_distance</th>\n",
              "      <td>137.394271</td>\n",
              "    </tr>\n",
              "  </tbody>\n",
              "</table><br><label><b>dtype:</b> object</label>"
            ]
          },
          "metadata": {},
          "execution_count": 11
        }
      ]
    },
    {
      "cell_type": "markdown",
      "source": [
        "Enriching the dataset with a csv file from kaggle showing the proximity of venues adding value to an accommodation."
      ],
      "metadata": {
        "id": "VIWCFDx5f_P0"
      }
    },
    {
      "cell_type": "code",
      "source": [
        "from sklearn.neighbors import KDTree\n",
        "\n",
        "relevant_spots = pd.read_csv(\"/content/drive/MyDrive/XGBoost/relevant_spots_Tokyo.csv\")\n",
        "\n",
        "venue_categories = ['Convenience Store', 'Train Station', 'Airport', 'Bus Station', 'Subway']\n",
        "\n",
        "min_distances = {'listing_id': summary_listings['id']}\n",
        "\n",
        "for venue in venue_categories:\n",
        "    venue_filter = relevant_spots['venueCategory'] == venue\n",
        "    venues = relevant_spots[['latitude', 'longitude']][venue_filter]\n",
        "    tree = KDTree(venues, metric='manhattan')\n",
        "    distance, index = tree.query(summary_listings[['latitude', 'longitude']], k=1)\n",
        "    min_distances['nearest_' + venue.lower().replace(\" \", \"_\")] = degrees_to_meters(np.ravel(distance), summary_listings['latitude'])\n",
        "\n",
        "min_distances = pd.DataFrame(min_distances)"
      ],
      "metadata": {
        "id": "Fng9nnF7gKJK"
      },
      "execution_count": 12,
      "outputs": []
    },
    {
      "cell_type": "code",
      "source": [
        "min_distances.head()"
      ],
      "metadata": {
        "colab": {
          "base_uri": "https://localhost:8080/",
          "height": 206
        },
        "id": "Jh7-gVzIGep0",
        "outputId": "c1826e19-8864-48b5-cfe8-e360a3c2f980"
      },
      "execution_count": 13,
      "outputs": [
        {
          "output_type": "execute_result",
          "data": {
            "text/plain": [
              "   listing_id  nearest_convenience_store  nearest_train_station  \\\n",
              "0      197677                 475.837692             666.488917   \n",
              "1      776070                 114.974697             384.929313   \n",
              "2      905944                 155.409734             268.125319   \n",
              "3     1016831                 389.067861             377.813210   \n",
              "4     1196177                 838.151520             243.734144   \n",
              "\n",
              "   nearest_airport  nearest_bus_station  nearest_subway  \n",
              "0      8326.122756           829.211343     1733.788985  \n",
              "1      5430.623850           453.968550      784.313916  \n",
              "2      2929.393383           783.601883      999.752343  \n",
              "3      2914.601177           365.480803     1764.993415  \n",
              "4      8538.784439           732.718147     1084.853768  "
            ],
            "text/html": [
              "\n",
              "  <div id=\"df-3998590a-d0f5-43ba-b8e5-ba7bd35f72d4\" class=\"colab-df-container\">\n",
              "    <div>\n",
              "<style scoped>\n",
              "    .dataframe tbody tr th:only-of-type {\n",
              "        vertical-align: middle;\n",
              "    }\n",
              "\n",
              "    .dataframe tbody tr th {\n",
              "        vertical-align: top;\n",
              "    }\n",
              "\n",
              "    .dataframe thead th {\n",
              "        text-align: right;\n",
              "    }\n",
              "</style>\n",
              "<table border=\"1\" class=\"dataframe\">\n",
              "  <thead>\n",
              "    <tr style=\"text-align: right;\">\n",
              "      <th></th>\n",
              "      <th>listing_id</th>\n",
              "      <th>nearest_convenience_store</th>\n",
              "      <th>nearest_train_station</th>\n",
              "      <th>nearest_airport</th>\n",
              "      <th>nearest_bus_station</th>\n",
              "      <th>nearest_subway</th>\n",
              "    </tr>\n",
              "  </thead>\n",
              "  <tbody>\n",
              "    <tr>\n",
              "      <th>0</th>\n",
              "      <td>197677</td>\n",
              "      <td>475.837692</td>\n",
              "      <td>666.488917</td>\n",
              "      <td>8326.122756</td>\n",
              "      <td>829.211343</td>\n",
              "      <td>1733.788985</td>\n",
              "    </tr>\n",
              "    <tr>\n",
              "      <th>1</th>\n",
              "      <td>776070</td>\n",
              "      <td>114.974697</td>\n",
              "      <td>384.929313</td>\n",
              "      <td>5430.623850</td>\n",
              "      <td>453.968550</td>\n",
              "      <td>784.313916</td>\n",
              "    </tr>\n",
              "    <tr>\n",
              "      <th>2</th>\n",
              "      <td>905944</td>\n",
              "      <td>155.409734</td>\n",
              "      <td>268.125319</td>\n",
              "      <td>2929.393383</td>\n",
              "      <td>783.601883</td>\n",
              "      <td>999.752343</td>\n",
              "    </tr>\n",
              "    <tr>\n",
              "      <th>3</th>\n",
              "      <td>1016831</td>\n",
              "      <td>389.067861</td>\n",
              "      <td>377.813210</td>\n",
              "      <td>2914.601177</td>\n",
              "      <td>365.480803</td>\n",
              "      <td>1764.993415</td>\n",
              "    </tr>\n",
              "    <tr>\n",
              "      <th>4</th>\n",
              "      <td>1196177</td>\n",
              "      <td>838.151520</td>\n",
              "      <td>243.734144</td>\n",
              "      <td>8538.784439</td>\n",
              "      <td>732.718147</td>\n",
              "      <td>1084.853768</td>\n",
              "    </tr>\n",
              "  </tbody>\n",
              "</table>\n",
              "</div>\n",
              "    <div class=\"colab-df-buttons\">\n",
              "\n",
              "  <div class=\"colab-df-container\">\n",
              "    <button class=\"colab-df-convert\" onclick=\"convertToInteractive('df-3998590a-d0f5-43ba-b8e5-ba7bd35f72d4')\"\n",
              "            title=\"Convert this dataframe to an interactive table.\"\n",
              "            style=\"display:none;\">\n",
              "\n",
              "  <svg xmlns=\"http://www.w3.org/2000/svg\" height=\"24px\" viewBox=\"0 -960 960 960\">\n",
              "    <path d=\"M120-120v-720h720v720H120Zm60-500h600v-160H180v160Zm220 220h160v-160H400v160Zm0 220h160v-160H400v160ZM180-400h160v-160H180v160Zm440 0h160v-160H620v160ZM180-180h160v-160H180v160Zm440 0h160v-160H620v160Z\"/>\n",
              "  </svg>\n",
              "    </button>\n",
              "\n",
              "  <style>\n",
              "    .colab-df-container {\n",
              "      display:flex;\n",
              "      gap: 12px;\n",
              "    }\n",
              "\n",
              "    .colab-df-convert {\n",
              "      background-color: #E8F0FE;\n",
              "      border: none;\n",
              "      border-radius: 50%;\n",
              "      cursor: pointer;\n",
              "      display: none;\n",
              "      fill: #1967D2;\n",
              "      height: 32px;\n",
              "      padding: 0 0 0 0;\n",
              "      width: 32px;\n",
              "    }\n",
              "\n",
              "    .colab-df-convert:hover {\n",
              "      background-color: #E2EBFA;\n",
              "      box-shadow: 0px 1px 2px rgba(60, 64, 67, 0.3), 0px 1px 3px 1px rgba(60, 64, 67, 0.15);\n",
              "      fill: #174EA6;\n",
              "    }\n",
              "\n",
              "    .colab-df-buttons div {\n",
              "      margin-bottom: 4px;\n",
              "    }\n",
              "\n",
              "    [theme=dark] .colab-df-convert {\n",
              "      background-color: #3B4455;\n",
              "      fill: #D2E3FC;\n",
              "    }\n",
              "\n",
              "    [theme=dark] .colab-df-convert:hover {\n",
              "      background-color: #434B5C;\n",
              "      box-shadow: 0px 1px 3px 1px rgba(0, 0, 0, 0.15);\n",
              "      filter: drop-shadow(0px 1px 2px rgba(0, 0, 0, 0.3));\n",
              "      fill: #FFFFFF;\n",
              "    }\n",
              "  </style>\n",
              "\n",
              "    <script>\n",
              "      const buttonEl =\n",
              "        document.querySelector('#df-3998590a-d0f5-43ba-b8e5-ba7bd35f72d4 button.colab-df-convert');\n",
              "      buttonEl.style.display =\n",
              "        google.colab.kernel.accessAllowed ? 'block' : 'none';\n",
              "\n",
              "      async function convertToInteractive(key) {\n",
              "        const element = document.querySelector('#df-3998590a-d0f5-43ba-b8e5-ba7bd35f72d4');\n",
              "        const dataTable =\n",
              "          await google.colab.kernel.invokeFunction('convertToInteractive',\n",
              "                                                    [key], {});\n",
              "        if (!dataTable) return;\n",
              "\n",
              "        const docLinkHtml = 'Like what you see? Visit the ' +\n",
              "          '<a target=\"_blank\" href=https://colab.research.google.com/notebooks/data_table.ipynb>data table notebook</a>'\n",
              "          + ' to learn more about interactive tables.';\n",
              "        element.innerHTML = '';\n",
              "        dataTable['output_type'] = 'display_data';\n",
              "        await google.colab.output.renderOutput(dataTable, element);\n",
              "        const docLink = document.createElement('div');\n",
              "        docLink.innerHTML = docLinkHtml;\n",
              "        element.appendChild(docLink);\n",
              "      }\n",
              "    </script>\n",
              "  </div>\n",
              "\n",
              "\n",
              "<div id=\"df-7b921147-75a0-4d52-b566-57ec44edacf1\">\n",
              "  <button class=\"colab-df-quickchart\" onclick=\"quickchart('df-7b921147-75a0-4d52-b566-57ec44edacf1')\"\n",
              "            title=\"Suggest charts\"\n",
              "            style=\"display:none;\">\n",
              "\n",
              "<svg xmlns=\"http://www.w3.org/2000/svg\" height=\"24px\"viewBox=\"0 0 24 24\"\n",
              "     width=\"24px\">\n",
              "    <g>\n",
              "        <path d=\"M19 3H5c-1.1 0-2 .9-2 2v14c0 1.1.9 2 2 2h14c1.1 0 2-.9 2-2V5c0-1.1-.9-2-2-2zM9 17H7v-7h2v7zm4 0h-2V7h2v10zm4 0h-2v-4h2v4z\"/>\n",
              "    </g>\n",
              "</svg>\n",
              "  </button>\n",
              "\n",
              "<style>\n",
              "  .colab-df-quickchart {\n",
              "      --bg-color: #E8F0FE;\n",
              "      --fill-color: #1967D2;\n",
              "      --hover-bg-color: #E2EBFA;\n",
              "      --hover-fill-color: #174EA6;\n",
              "      --disabled-fill-color: #AAA;\n",
              "      --disabled-bg-color: #DDD;\n",
              "  }\n",
              "\n",
              "  [theme=dark] .colab-df-quickchart {\n",
              "      --bg-color: #3B4455;\n",
              "      --fill-color: #D2E3FC;\n",
              "      --hover-bg-color: #434B5C;\n",
              "      --hover-fill-color: #FFFFFF;\n",
              "      --disabled-bg-color: #3B4455;\n",
              "      --disabled-fill-color: #666;\n",
              "  }\n",
              "\n",
              "  .colab-df-quickchart {\n",
              "    background-color: var(--bg-color);\n",
              "    border: none;\n",
              "    border-radius: 50%;\n",
              "    cursor: pointer;\n",
              "    display: none;\n",
              "    fill: var(--fill-color);\n",
              "    height: 32px;\n",
              "    padding: 0;\n",
              "    width: 32px;\n",
              "  }\n",
              "\n",
              "  .colab-df-quickchart:hover {\n",
              "    background-color: var(--hover-bg-color);\n",
              "    box-shadow: 0 1px 2px rgba(60, 64, 67, 0.3), 0 1px 3px 1px rgba(60, 64, 67, 0.15);\n",
              "    fill: var(--button-hover-fill-color);\n",
              "  }\n",
              "\n",
              "  .colab-df-quickchart-complete:disabled,\n",
              "  .colab-df-quickchart-complete:disabled:hover {\n",
              "    background-color: var(--disabled-bg-color);\n",
              "    fill: var(--disabled-fill-color);\n",
              "    box-shadow: none;\n",
              "  }\n",
              "\n",
              "  .colab-df-spinner {\n",
              "    border: 2px solid var(--fill-color);\n",
              "    border-color: transparent;\n",
              "    border-bottom-color: var(--fill-color);\n",
              "    animation:\n",
              "      spin 1s steps(1) infinite;\n",
              "  }\n",
              "\n",
              "  @keyframes spin {\n",
              "    0% {\n",
              "      border-color: transparent;\n",
              "      border-bottom-color: var(--fill-color);\n",
              "      border-left-color: var(--fill-color);\n",
              "    }\n",
              "    20% {\n",
              "      border-color: transparent;\n",
              "      border-left-color: var(--fill-color);\n",
              "      border-top-color: var(--fill-color);\n",
              "    }\n",
              "    30% {\n",
              "      border-color: transparent;\n",
              "      border-left-color: var(--fill-color);\n",
              "      border-top-color: var(--fill-color);\n",
              "      border-right-color: var(--fill-color);\n",
              "    }\n",
              "    40% {\n",
              "      border-color: transparent;\n",
              "      border-right-color: var(--fill-color);\n",
              "      border-top-color: var(--fill-color);\n",
              "    }\n",
              "    60% {\n",
              "      border-color: transparent;\n",
              "      border-right-color: var(--fill-color);\n",
              "    }\n",
              "    80% {\n",
              "      border-color: transparent;\n",
              "      border-right-color: var(--fill-color);\n",
              "      border-bottom-color: var(--fill-color);\n",
              "    }\n",
              "    90% {\n",
              "      border-color: transparent;\n",
              "      border-bottom-color: var(--fill-color);\n",
              "    }\n",
              "  }\n",
              "</style>\n",
              "\n",
              "  <script>\n",
              "    async function quickchart(key) {\n",
              "      const quickchartButtonEl =\n",
              "        document.querySelector('#' + key + ' button');\n",
              "      quickchartButtonEl.disabled = true;  // To prevent multiple clicks.\n",
              "      quickchartButtonEl.classList.add('colab-df-spinner');\n",
              "      try {\n",
              "        const charts = await google.colab.kernel.invokeFunction(\n",
              "            'suggestCharts', [key], {});\n",
              "      } catch (error) {\n",
              "        console.error('Error during call to suggestCharts:', error);\n",
              "      }\n",
              "      quickchartButtonEl.classList.remove('colab-df-spinner');\n",
              "      quickchartButtonEl.classList.add('colab-df-quickchart-complete');\n",
              "    }\n",
              "    (() => {\n",
              "      let quickchartButtonEl =\n",
              "        document.querySelector('#df-7b921147-75a0-4d52-b566-57ec44edacf1 button');\n",
              "      quickchartButtonEl.style.display =\n",
              "        google.colab.kernel.accessAllowed ? 'block' : 'none';\n",
              "    })();\n",
              "  </script>\n",
              "</div>\n",
              "\n",
              "    </div>\n",
              "  </div>\n"
            ],
            "application/vnd.google.colaboratory.intrinsic+json": {
              "type": "dataframe",
              "variable_name": "min_distances",
              "summary": "{\n  \"name\": \"min_distances\",\n  \"rows\": 12234,\n  \"fields\": [\n    {\n      \"column\": \"listing_id\",\n      \"properties\": {\n        \"dtype\": \"number\",\n        \"std\": 418901211062636160,\n        \"min\": 197677,\n        \"max\": 985976243957210319,\n        \"num_unique_values\": 12234,\n        \"samples\": [\n          873566792463359402,\n          942589052879944516,\n          873568560033414421\n        ],\n        \"semantic_type\": \"\",\n        \"description\": \"\"\n      }\n    },\n    {\n      \"column\": \"nearest_convenience_store\",\n      \"properties\": {\n        \"dtype\": \"number\",\n        \"std\": 1572.1812046308125,\n        \"min\": 1.233024174498056,\n        \"max\": 35772.512867148616,\n        \"num_unique_values\": 11167,\n        \"samples\": [\n          187.23378427963706,\n          213.0012152404515,\n          170.7320529206844\n        ],\n        \"semantic_type\": \"\",\n        \"description\": \"\"\n      }\n    },\n    {\n      \"column\": \"nearest_train_station\",\n      \"properties\": {\n        \"dtype\": \"number\",\n        \"std\": 1604.3815680391056,\n        \"min\": 2.1430159907027817,\n        \"max\": 35898.021892628974,\n        \"num_unique_values\": 11167,\n        \"samples\": [\n          822.6959768503057,\n          250.2036397691806,\n          387.8591066713095\n        ],\n        \"semantic_type\": \"\",\n        \"description\": \"\"\n      }\n    },\n    {\n      \"column\": \"nearest_airport\",\n      \"properties\": {\n        \"dtype\": \"number\",\n        \"std\": 3269.8852205065273,\n        \"min\": 56.36617443732709,\n        \"max\": 48209.41204397507,\n        \"num_unique_values\": 11167,\n        \"samples\": [\n          3657.008847717162,\n          1824.9250404927861,\n          5634.990493326576\n        ],\n        \"semantic_type\": \"\",\n        \"description\": \"\"\n      }\n    },\n    {\n      \"column\": \"nearest_bus_station\",\n      \"properties\": {\n        \"dtype\": \"number\",\n        \"std\": 1669.3177998025903,\n        \"min\": 6.378559864549455,\n        \"max\": 38336.00716817935,\n        \"num_unique_values\": 11167,\n        \"samples\": [\n          101.04995239128905,\n          390.8720671096348,\n          343.28190954133134\n        ],\n        \"semantic_type\": \"\",\n        \"description\": \"\"\n      }\n    },\n    {\n      \"column\": \"nearest_subway\",\n      \"properties\": {\n        \"dtype\": \"number\",\n        \"std\": 3005.5846491407383,\n        \"min\": 7.132941236483565,\n        \"max\": 45421.08491166745,\n        \"num_unique_values\": 11167,\n        \"samples\": [\n          234.39607827168965,\n          832.8973552430416,\n          669.7088043054221\n        ],\n        \"semantic_type\": \"\",\n        \"description\": \"\"\n      }\n    }\n  ]\n}"
            }
          },
          "metadata": {},
          "execution_count": 13
        }
      ]
    },
    {
      "cell_type": "markdown",
      "source": [
        "Finalizing the predictive features and their target:"
      ],
      "metadata": {
        "id": "KqJZKSMqJAXY"
      }
    },
    {
      "cell_type": "code",
      "source": [
        "summary_listings_features = [\n",
        "    'neighbourhood',\n",
        "    'coordinates',\n",
        "    'room_type',\n",
        "    'minimum_nights', 'number_of_reviews', 'days_since_last_review',\n",
        "    'reviews_per_month', 'calculated_host_listings_count',\n",
        "    'availability_365', 'number_of_reviews_ltm',\n",
        "    'number_of_bedrooms', 'number_of_beds', 'number_of_baths',\n",
        "    'type_of_accommodation', 'score', 'is_new',\n",
        "    'is_studio', 'has_shared_bath', 'has_half_bath',\n",
        "    'imperial_palace_distance'\n",
        "]\n",
        "\n",
        "summarized = summary_listings[['id'] + summary_listings_features].rename({'id': 'listing_id'}, axis=1)\n",
        "\n",
        "X = summarized.merge(min_distances, on='listing_id').set_index('listing_id')\n",
        "\n",
        "X = X.reindex(price_stats.index)\n",
        "price_stats_ordered = price_stats.reindex(X.index)\n",
        "y = price_stats_ordered['mean'].copy()"
      ],
      "metadata": {
        "id": "rJi1gLNsJEGK"
      },
      "execution_count": 14,
      "outputs": []
    },
    {
      "cell_type": "code",
      "source": [
        "X.head()"
      ],
      "metadata": {
        "colab": {
          "base_uri": "https://localhost:8080/",
          "height": 374
        },
        "id": "zqtftgUTMKeT",
        "outputId": "a58bf97d-c858-41b0-c214-81f2795d328a"
      },
      "execution_count": 15,
      "outputs": [
        {
          "output_type": "execute_result",
          "data": {
            "text/plain": [
              "           neighbourhood  coordinates        room_type  minimum_nights  \\\n",
              "listing_id                                                               \n",
              "197677         Sumida Ku        20028  Entire home/apt               3   \n",
              "776070           Kita Ku        22026     Private room               3   \n",
              "905944        Shibuya Ku        16022  Entire home/apt               3   \n",
              "1016831      Setagaya Ku        14022     Private room              30   \n",
              "1196177        Adachi Ku        23027     Private room               2   \n",
              "\n",
              "            number_of_reviews  days_since_last_review  reviews_per_month  \\\n",
              "listing_id                                                                 \n",
              "197677                    174                    42.0               1.19   \n",
              "776070                    248                    28.0               1.88   \n",
              "905944                    194                    13.0               1.52   \n",
              "1016831                   256                     6.0               2.01   \n",
              "1196177                   100                     5.0               0.81   \n",
              "\n",
              "            calculated_host_listings_count  availability_365  \\\n",
              "listing_id                                                     \n",
              "197677                                   1                39   \n",
              "776070                                   1               116   \n",
              "905944                                   5               166   \n",
              "1016831                                  1                53   \n",
              "1196177                                  1               112   \n",
              "\n",
              "            number_of_reviews_ltm  ...  is_new  is_studio  has_shared_bath  \\\n",
              "listing_id                         ...                                       \n",
              "197677                   0.045977  ...       0          0                0   \n",
              "776070                   0.072581  ...       0          0                1   \n",
              "905944                   0.046392  ...       0          0                0   \n",
              "1016831                  0.175781  ...       0          0                1   \n",
              "1196177                  0.050000  ...       0          0                1   \n",
              "\n",
              "           has_half_bath  imperial_palace_distance  nearest_convenience_store  \\\n",
              "listing_id                                                                      \n",
              "197677                 0               9687.728076                 475.837692   \n",
              "776070                 0               6483.053730                 114.974697   \n",
              "905944                 0               7069.339820                 155.409734   \n",
              "1016831                0               9588.347677                 389.067861   \n",
              "1196177                0               9591.131160                 838.151520   \n",
              "\n",
              "            nearest_train_station  nearest_airport  nearest_bus_station  \\\n",
              "listing_id                                                                \n",
              "197677                 666.488917      8326.122756           829.211343   \n",
              "776070                 384.929313      5430.623850           453.968550   \n",
              "905944                 268.125319      2929.393383           783.601883   \n",
              "1016831                377.813210      2914.601177           365.480803   \n",
              "1196177                243.734144      8538.784439           732.718147   \n",
              "\n",
              "            nearest_subway  \n",
              "listing_id                  \n",
              "197677         1733.788985  \n",
              "776070          784.313916  \n",
              "905944          999.752343  \n",
              "1016831        1764.993415  \n",
              "1196177        1084.853768  \n",
              "\n",
              "[5 rows x 25 columns]"
            ],
            "text/html": [
              "\n",
              "  <div id=\"df-919e2ee3-c098-4452-860e-392e256d846c\" class=\"colab-df-container\">\n",
              "    <div>\n",
              "<style scoped>\n",
              "    .dataframe tbody tr th:only-of-type {\n",
              "        vertical-align: middle;\n",
              "    }\n",
              "\n",
              "    .dataframe tbody tr th {\n",
              "        vertical-align: top;\n",
              "    }\n",
              "\n",
              "    .dataframe thead th {\n",
              "        text-align: right;\n",
              "    }\n",
              "</style>\n",
              "<table border=\"1\" class=\"dataframe\">\n",
              "  <thead>\n",
              "    <tr style=\"text-align: right;\">\n",
              "      <th></th>\n",
              "      <th>neighbourhood</th>\n",
              "      <th>coordinates</th>\n",
              "      <th>room_type</th>\n",
              "      <th>minimum_nights</th>\n",
              "      <th>number_of_reviews</th>\n",
              "      <th>days_since_last_review</th>\n",
              "      <th>reviews_per_month</th>\n",
              "      <th>calculated_host_listings_count</th>\n",
              "      <th>availability_365</th>\n",
              "      <th>number_of_reviews_ltm</th>\n",
              "      <th>...</th>\n",
              "      <th>is_new</th>\n",
              "      <th>is_studio</th>\n",
              "      <th>has_shared_bath</th>\n",
              "      <th>has_half_bath</th>\n",
              "      <th>imperial_palace_distance</th>\n",
              "      <th>nearest_convenience_store</th>\n",
              "      <th>nearest_train_station</th>\n",
              "      <th>nearest_airport</th>\n",
              "      <th>nearest_bus_station</th>\n",
              "      <th>nearest_subway</th>\n",
              "    </tr>\n",
              "    <tr>\n",
              "      <th>listing_id</th>\n",
              "      <th></th>\n",
              "      <th></th>\n",
              "      <th></th>\n",
              "      <th></th>\n",
              "      <th></th>\n",
              "      <th></th>\n",
              "      <th></th>\n",
              "      <th></th>\n",
              "      <th></th>\n",
              "      <th></th>\n",
              "      <th></th>\n",
              "      <th></th>\n",
              "      <th></th>\n",
              "      <th></th>\n",
              "      <th></th>\n",
              "      <th></th>\n",
              "      <th></th>\n",
              "      <th></th>\n",
              "      <th></th>\n",
              "      <th></th>\n",
              "      <th></th>\n",
              "    </tr>\n",
              "  </thead>\n",
              "  <tbody>\n",
              "    <tr>\n",
              "      <th>197677</th>\n",
              "      <td>Sumida Ku</td>\n",
              "      <td>20028</td>\n",
              "      <td>Entire home/apt</td>\n",
              "      <td>3</td>\n",
              "      <td>174</td>\n",
              "      <td>42.0</td>\n",
              "      <td>1.19</td>\n",
              "      <td>1</td>\n",
              "      <td>39</td>\n",
              "      <td>0.045977</td>\n",
              "      <td>...</td>\n",
              "      <td>0</td>\n",
              "      <td>0</td>\n",
              "      <td>0</td>\n",
              "      <td>0</td>\n",
              "      <td>9687.728076</td>\n",
              "      <td>475.837692</td>\n",
              "      <td>666.488917</td>\n",
              "      <td>8326.122756</td>\n",
              "      <td>829.211343</td>\n",
              "      <td>1733.788985</td>\n",
              "    </tr>\n",
              "    <tr>\n",
              "      <th>776070</th>\n",
              "      <td>Kita Ku</td>\n",
              "      <td>22026</td>\n",
              "      <td>Private room</td>\n",
              "      <td>3</td>\n",
              "      <td>248</td>\n",
              "      <td>28.0</td>\n",
              "      <td>1.88</td>\n",
              "      <td>1</td>\n",
              "      <td>116</td>\n",
              "      <td>0.072581</td>\n",
              "      <td>...</td>\n",
              "      <td>0</td>\n",
              "      <td>0</td>\n",
              "      <td>1</td>\n",
              "      <td>0</td>\n",
              "      <td>6483.053730</td>\n",
              "      <td>114.974697</td>\n",
              "      <td>384.929313</td>\n",
              "      <td>5430.623850</td>\n",
              "      <td>453.968550</td>\n",
              "      <td>784.313916</td>\n",
              "    </tr>\n",
              "    <tr>\n",
              "      <th>905944</th>\n",
              "      <td>Shibuya Ku</td>\n",
              "      <td>16022</td>\n",
              "      <td>Entire home/apt</td>\n",
              "      <td>3</td>\n",
              "      <td>194</td>\n",
              "      <td>13.0</td>\n",
              "      <td>1.52</td>\n",
              "      <td>5</td>\n",
              "      <td>166</td>\n",
              "      <td>0.046392</td>\n",
              "      <td>...</td>\n",
              "      <td>0</td>\n",
              "      <td>0</td>\n",
              "      <td>0</td>\n",
              "      <td>0</td>\n",
              "      <td>7069.339820</td>\n",
              "      <td>155.409734</td>\n",
              "      <td>268.125319</td>\n",
              "      <td>2929.393383</td>\n",
              "      <td>783.601883</td>\n",
              "      <td>999.752343</td>\n",
              "    </tr>\n",
              "    <tr>\n",
              "      <th>1016831</th>\n",
              "      <td>Setagaya Ku</td>\n",
              "      <td>14022</td>\n",
              "      <td>Private room</td>\n",
              "      <td>30</td>\n",
              "      <td>256</td>\n",
              "      <td>6.0</td>\n",
              "      <td>2.01</td>\n",
              "      <td>1</td>\n",
              "      <td>53</td>\n",
              "      <td>0.175781</td>\n",
              "      <td>...</td>\n",
              "      <td>0</td>\n",
              "      <td>0</td>\n",
              "      <td>1</td>\n",
              "      <td>0</td>\n",
              "      <td>9588.347677</td>\n",
              "      <td>389.067861</td>\n",
              "      <td>377.813210</td>\n",
              "      <td>2914.601177</td>\n",
              "      <td>365.480803</td>\n",
              "      <td>1764.993415</td>\n",
              "    </tr>\n",
              "    <tr>\n",
              "      <th>1196177</th>\n",
              "      <td>Adachi Ku</td>\n",
              "      <td>23027</td>\n",
              "      <td>Private room</td>\n",
              "      <td>2</td>\n",
              "      <td>100</td>\n",
              "      <td>5.0</td>\n",
              "      <td>0.81</td>\n",
              "      <td>1</td>\n",
              "      <td>112</td>\n",
              "      <td>0.050000</td>\n",
              "      <td>...</td>\n",
              "      <td>0</td>\n",
              "      <td>0</td>\n",
              "      <td>1</td>\n",
              "      <td>0</td>\n",
              "      <td>9591.131160</td>\n",
              "      <td>838.151520</td>\n",
              "      <td>243.734144</td>\n",
              "      <td>8538.784439</td>\n",
              "      <td>732.718147</td>\n",
              "      <td>1084.853768</td>\n",
              "    </tr>\n",
              "  </tbody>\n",
              "</table>\n",
              "<p>5 rows × 25 columns</p>\n",
              "</div>\n",
              "    <div class=\"colab-df-buttons\">\n",
              "\n",
              "  <div class=\"colab-df-container\">\n",
              "    <button class=\"colab-df-convert\" onclick=\"convertToInteractive('df-919e2ee3-c098-4452-860e-392e256d846c')\"\n",
              "            title=\"Convert this dataframe to an interactive table.\"\n",
              "            style=\"display:none;\">\n",
              "\n",
              "  <svg xmlns=\"http://www.w3.org/2000/svg\" height=\"24px\" viewBox=\"0 -960 960 960\">\n",
              "    <path d=\"M120-120v-720h720v720H120Zm60-500h600v-160H180v160Zm220 220h160v-160H400v160Zm0 220h160v-160H400v160ZM180-400h160v-160H180v160Zm440 0h160v-160H620v160ZM180-180h160v-160H180v160Zm440 0h160v-160H620v160Z\"/>\n",
              "  </svg>\n",
              "    </button>\n",
              "\n",
              "  <style>\n",
              "    .colab-df-container {\n",
              "      display:flex;\n",
              "      gap: 12px;\n",
              "    }\n",
              "\n",
              "    .colab-df-convert {\n",
              "      background-color: #E8F0FE;\n",
              "      border: none;\n",
              "      border-radius: 50%;\n",
              "      cursor: pointer;\n",
              "      display: none;\n",
              "      fill: #1967D2;\n",
              "      height: 32px;\n",
              "      padding: 0 0 0 0;\n",
              "      width: 32px;\n",
              "    }\n",
              "\n",
              "    .colab-df-convert:hover {\n",
              "      background-color: #E2EBFA;\n",
              "      box-shadow: 0px 1px 2px rgba(60, 64, 67, 0.3), 0px 1px 3px 1px rgba(60, 64, 67, 0.15);\n",
              "      fill: #174EA6;\n",
              "    }\n",
              "\n",
              "    .colab-df-buttons div {\n",
              "      margin-bottom: 4px;\n",
              "    }\n",
              "\n",
              "    [theme=dark] .colab-df-convert {\n",
              "      background-color: #3B4455;\n",
              "      fill: #D2E3FC;\n",
              "    }\n",
              "\n",
              "    [theme=dark] .colab-df-convert:hover {\n",
              "      background-color: #434B5C;\n",
              "      box-shadow: 0px 1px 3px 1px rgba(0, 0, 0, 0.15);\n",
              "      filter: drop-shadow(0px 1px 2px rgba(0, 0, 0, 0.3));\n",
              "      fill: #FFFFFF;\n",
              "    }\n",
              "  </style>\n",
              "\n",
              "    <script>\n",
              "      const buttonEl =\n",
              "        document.querySelector('#df-919e2ee3-c098-4452-860e-392e256d846c button.colab-df-convert');\n",
              "      buttonEl.style.display =\n",
              "        google.colab.kernel.accessAllowed ? 'block' : 'none';\n",
              "\n",
              "      async function convertToInteractive(key) {\n",
              "        const element = document.querySelector('#df-919e2ee3-c098-4452-860e-392e256d846c');\n",
              "        const dataTable =\n",
              "          await google.colab.kernel.invokeFunction('convertToInteractive',\n",
              "                                                    [key], {});\n",
              "        if (!dataTable) return;\n",
              "\n",
              "        const docLinkHtml = 'Like what you see? Visit the ' +\n",
              "          '<a target=\"_blank\" href=https://colab.research.google.com/notebooks/data_table.ipynb>data table notebook</a>'\n",
              "          + ' to learn more about interactive tables.';\n",
              "        element.innerHTML = '';\n",
              "        dataTable['output_type'] = 'display_data';\n",
              "        await google.colab.output.renderOutput(dataTable, element);\n",
              "        const docLink = document.createElement('div');\n",
              "        docLink.innerHTML = docLinkHtml;\n",
              "        element.appendChild(docLink);\n",
              "      }\n",
              "    </script>\n",
              "  </div>\n",
              "\n",
              "\n",
              "<div id=\"df-8a431483-11f0-4fa3-be61-03f4f29c038c\">\n",
              "  <button class=\"colab-df-quickchart\" onclick=\"quickchart('df-8a431483-11f0-4fa3-be61-03f4f29c038c')\"\n",
              "            title=\"Suggest charts\"\n",
              "            style=\"display:none;\">\n",
              "\n",
              "<svg xmlns=\"http://www.w3.org/2000/svg\" height=\"24px\"viewBox=\"0 0 24 24\"\n",
              "     width=\"24px\">\n",
              "    <g>\n",
              "        <path d=\"M19 3H5c-1.1 0-2 .9-2 2v14c0 1.1.9 2 2 2h14c1.1 0 2-.9 2-2V5c0-1.1-.9-2-2-2zM9 17H7v-7h2v7zm4 0h-2V7h2v10zm4 0h-2v-4h2v4z\"/>\n",
              "    </g>\n",
              "</svg>\n",
              "  </button>\n",
              "\n",
              "<style>\n",
              "  .colab-df-quickchart {\n",
              "      --bg-color: #E8F0FE;\n",
              "      --fill-color: #1967D2;\n",
              "      --hover-bg-color: #E2EBFA;\n",
              "      --hover-fill-color: #174EA6;\n",
              "      --disabled-fill-color: #AAA;\n",
              "      --disabled-bg-color: #DDD;\n",
              "  }\n",
              "\n",
              "  [theme=dark] .colab-df-quickchart {\n",
              "      --bg-color: #3B4455;\n",
              "      --fill-color: #D2E3FC;\n",
              "      --hover-bg-color: #434B5C;\n",
              "      --hover-fill-color: #FFFFFF;\n",
              "      --disabled-bg-color: #3B4455;\n",
              "      --disabled-fill-color: #666;\n",
              "  }\n",
              "\n",
              "  .colab-df-quickchart {\n",
              "    background-color: var(--bg-color);\n",
              "    border: none;\n",
              "    border-radius: 50%;\n",
              "    cursor: pointer;\n",
              "    display: none;\n",
              "    fill: var(--fill-color);\n",
              "    height: 32px;\n",
              "    padding: 0;\n",
              "    width: 32px;\n",
              "  }\n",
              "\n",
              "  .colab-df-quickchart:hover {\n",
              "    background-color: var(--hover-bg-color);\n",
              "    box-shadow: 0 1px 2px rgba(60, 64, 67, 0.3), 0 1px 3px 1px rgba(60, 64, 67, 0.15);\n",
              "    fill: var(--button-hover-fill-color);\n",
              "  }\n",
              "\n",
              "  .colab-df-quickchart-complete:disabled,\n",
              "  .colab-df-quickchart-complete:disabled:hover {\n",
              "    background-color: var(--disabled-bg-color);\n",
              "    fill: var(--disabled-fill-color);\n",
              "    box-shadow: none;\n",
              "  }\n",
              "\n",
              "  .colab-df-spinner {\n",
              "    border: 2px solid var(--fill-color);\n",
              "    border-color: transparent;\n",
              "    border-bottom-color: var(--fill-color);\n",
              "    animation:\n",
              "      spin 1s steps(1) infinite;\n",
              "  }\n",
              "\n",
              "  @keyframes spin {\n",
              "    0% {\n",
              "      border-color: transparent;\n",
              "      border-bottom-color: var(--fill-color);\n",
              "      border-left-color: var(--fill-color);\n",
              "    }\n",
              "    20% {\n",
              "      border-color: transparent;\n",
              "      border-left-color: var(--fill-color);\n",
              "      border-top-color: var(--fill-color);\n",
              "    }\n",
              "    30% {\n",
              "      border-color: transparent;\n",
              "      border-left-color: var(--fill-color);\n",
              "      border-top-color: var(--fill-color);\n",
              "      border-right-color: var(--fill-color);\n",
              "    }\n",
              "    40% {\n",
              "      border-color: transparent;\n",
              "      border-right-color: var(--fill-color);\n",
              "      border-top-color: var(--fill-color);\n",
              "    }\n",
              "    60% {\n",
              "      border-color: transparent;\n",
              "      border-right-color: var(--fill-color);\n",
              "    }\n",
              "    80% {\n",
              "      border-color: transparent;\n",
              "      border-right-color: var(--fill-color);\n",
              "      border-bottom-color: var(--fill-color);\n",
              "    }\n",
              "    90% {\n",
              "      border-color: transparent;\n",
              "      border-bottom-color: var(--fill-color);\n",
              "    }\n",
              "  }\n",
              "</style>\n",
              "\n",
              "  <script>\n",
              "    async function quickchart(key) {\n",
              "      const quickchartButtonEl =\n",
              "        document.querySelector('#' + key + ' button');\n",
              "      quickchartButtonEl.disabled = true;  // To prevent multiple clicks.\n",
              "      quickchartButtonEl.classList.add('colab-df-spinner');\n",
              "      try {\n",
              "        const charts = await google.colab.kernel.invokeFunction(\n",
              "            'suggestCharts', [key], {});\n",
              "      } catch (error) {\n",
              "        console.error('Error during call to suggestCharts:', error);\n",
              "      }\n",
              "      quickchartButtonEl.classList.remove('colab-df-spinner');\n",
              "      quickchartButtonEl.classList.add('colab-df-quickchart-complete');\n",
              "    }\n",
              "    (() => {\n",
              "      let quickchartButtonEl =\n",
              "        document.querySelector('#df-8a431483-11f0-4fa3-be61-03f4f29c038c button');\n",
              "      quickchartButtonEl.style.display =\n",
              "        google.colab.kernel.accessAllowed ? 'block' : 'none';\n",
              "    })();\n",
              "  </script>\n",
              "</div>\n",
              "\n",
              "    </div>\n",
              "  </div>\n"
            ],
            "application/vnd.google.colaboratory.intrinsic+json": {
              "type": "dataframe",
              "variable_name": "X"
            }
          },
          "metadata": {},
          "execution_count": 15
        }
      ]
    },
    {
      "cell_type": "markdown",
      "source": [
        "Checking for any missing data:"
      ],
      "metadata": {
        "id": "k6mHYH3JMkKu"
      }
    },
    {
      "cell_type": "code",
      "source": [
        "X.isna().sum()"
      ],
      "metadata": {
        "colab": {
          "base_uri": "https://localhost:8080/",
          "height": 868
        },
        "id": "HJgdVLRaMmjx",
        "outputId": "af9f12f6-6422-496f-d576-a98e3cb65177"
      },
      "execution_count": 16,
      "outputs": [
        {
          "output_type": "execute_result",
          "data": {
            "text/plain": [
              "neighbourhood                        0\n",
              "coordinates                          0\n",
              "room_type                            0\n",
              "minimum_nights                       0\n",
              "number_of_reviews                    0\n",
              "days_since_last_review            1458\n",
              "reviews_per_month                 1458\n",
              "calculated_host_listings_count       0\n",
              "availability_365                     0\n",
              "number_of_reviews_ltm                0\n",
              "number_of_bedrooms                   0\n",
              "number_of_beds                       0\n",
              "number_of_baths                      0\n",
              "type_of_accommodation                7\n",
              "score                             2643\n",
              "is_new                               0\n",
              "is_studio                            0\n",
              "has_shared_bath                      0\n",
              "has_half_bath                        0\n",
              "imperial_palace_distance             0\n",
              "nearest_convenience_store            0\n",
              "nearest_train_station                0\n",
              "nearest_airport                      0\n",
              "nearest_bus_station                  0\n",
              "nearest_subway                       0\n",
              "dtype: int64"
            ],
            "text/html": [
              "<table border=\"1\" class=\"dataframe\">\n",
              "  <thead>\n",
              "    <tr style=\"text-align: right;\">\n",
              "      <th></th>\n",
              "      <th>0</th>\n",
              "    </tr>\n",
              "  </thead>\n",
              "  <tbody>\n",
              "    <tr>\n",
              "      <th>neighbourhood</th>\n",
              "      <td>0</td>\n",
              "    </tr>\n",
              "    <tr>\n",
              "      <th>coordinates</th>\n",
              "      <td>0</td>\n",
              "    </tr>\n",
              "    <tr>\n",
              "      <th>room_type</th>\n",
              "      <td>0</td>\n",
              "    </tr>\n",
              "    <tr>\n",
              "      <th>minimum_nights</th>\n",
              "      <td>0</td>\n",
              "    </tr>\n",
              "    <tr>\n",
              "      <th>number_of_reviews</th>\n",
              "      <td>0</td>\n",
              "    </tr>\n",
              "    <tr>\n",
              "      <th>days_since_last_review</th>\n",
              "      <td>1458</td>\n",
              "    </tr>\n",
              "    <tr>\n",
              "      <th>reviews_per_month</th>\n",
              "      <td>1458</td>\n",
              "    </tr>\n",
              "    <tr>\n",
              "      <th>calculated_host_listings_count</th>\n",
              "      <td>0</td>\n",
              "    </tr>\n",
              "    <tr>\n",
              "      <th>availability_365</th>\n",
              "      <td>0</td>\n",
              "    </tr>\n",
              "    <tr>\n",
              "      <th>number_of_reviews_ltm</th>\n",
              "      <td>0</td>\n",
              "    </tr>\n",
              "    <tr>\n",
              "      <th>number_of_bedrooms</th>\n",
              "      <td>0</td>\n",
              "    </tr>\n",
              "    <tr>\n",
              "      <th>number_of_beds</th>\n",
              "      <td>0</td>\n",
              "    </tr>\n",
              "    <tr>\n",
              "      <th>number_of_baths</th>\n",
              "      <td>0</td>\n",
              "    </tr>\n",
              "    <tr>\n",
              "      <th>type_of_accommodation</th>\n",
              "      <td>7</td>\n",
              "    </tr>\n",
              "    <tr>\n",
              "      <th>score</th>\n",
              "      <td>2643</td>\n",
              "    </tr>\n",
              "    <tr>\n",
              "      <th>is_new</th>\n",
              "      <td>0</td>\n",
              "    </tr>\n",
              "    <tr>\n",
              "      <th>is_studio</th>\n",
              "      <td>0</td>\n",
              "    </tr>\n",
              "    <tr>\n",
              "      <th>has_shared_bath</th>\n",
              "      <td>0</td>\n",
              "    </tr>\n",
              "    <tr>\n",
              "      <th>has_half_bath</th>\n",
              "      <td>0</td>\n",
              "    </tr>\n",
              "    <tr>\n",
              "      <th>imperial_palace_distance</th>\n",
              "      <td>0</td>\n",
              "    </tr>\n",
              "    <tr>\n",
              "      <th>nearest_convenience_store</th>\n",
              "      <td>0</td>\n",
              "    </tr>\n",
              "    <tr>\n",
              "      <th>nearest_train_station</th>\n",
              "      <td>0</td>\n",
              "    </tr>\n",
              "    <tr>\n",
              "      <th>nearest_airport</th>\n",
              "      <td>0</td>\n",
              "    </tr>\n",
              "    <tr>\n",
              "      <th>nearest_bus_station</th>\n",
              "      <td>0</td>\n",
              "    </tr>\n",
              "    <tr>\n",
              "      <th>nearest_subway</th>\n",
              "      <td>0</td>\n",
              "    </tr>\n",
              "  </tbody>\n",
              "</table><br><label><b>dtype:</b> int64</label>"
            ]
          },
          "metadata": {},
          "execution_count": 16
        }
      ]
    },
    {
      "cell_type": "code",
      "source": [
        "(X.number_of_reviews==0).sum()"
      ],
      "metadata": {
        "colab": {
          "base_uri": "https://localhost:8080/"
        },
        "id": "U4Gv7jcpMrCG",
        "outputId": "e526b646-6f43-4a2d-cbef-f49452f02f34"
      },
      "execution_count": 17,
      "outputs": [
        {
          "output_type": "execute_result",
          "data": {
            "text/plain": [
              "1458"
            ]
          },
          "metadata": {},
          "execution_count": 17
        }
      ]
    },
    {
      "cell_type": "code",
      "source": [
        "X[[\"days_since_last_review\", \"reviews_per_month\", \"score\"]].describe()"
      ],
      "metadata": {
        "colab": {
          "base_uri": "https://localhost:8080/",
          "height": 300
        },
        "id": "SMzW2C1BNhnC",
        "outputId": "d4e27e52-eeee-419f-c9e3-be0f380de6b5"
      },
      "execution_count": 18,
      "outputs": [
        {
          "output_type": "execute_result",
          "data": {
            "text/plain": [
              "       days_since_last_review  reviews_per_month        score\n",
              "count            10775.000000       10775.000000  9590.000000\n",
              "mean                97.595360           1.520293     4.680880\n",
              "std                247.982866           1.654974     0.273886\n",
              "min                  0.000000           0.020000     2.000000\n",
              "25%                 10.000000           0.610000     4.570000\n",
              "50%                 23.000000           1.150000     4.740000\n",
              "75%                 55.000000           2.000000     4.860000\n",
              "max               1964.000000          53.330000     5.000000"
            ],
            "text/html": [
              "\n",
              "  <div id=\"df-70fd2d53-cf5c-4c87-aec2-e6b7ae3a7662\" class=\"colab-df-container\">\n",
              "    <div>\n",
              "<style scoped>\n",
              "    .dataframe tbody tr th:only-of-type {\n",
              "        vertical-align: middle;\n",
              "    }\n",
              "\n",
              "    .dataframe tbody tr th {\n",
              "        vertical-align: top;\n",
              "    }\n",
              "\n",
              "    .dataframe thead th {\n",
              "        text-align: right;\n",
              "    }\n",
              "</style>\n",
              "<table border=\"1\" class=\"dataframe\">\n",
              "  <thead>\n",
              "    <tr style=\"text-align: right;\">\n",
              "      <th></th>\n",
              "      <th>days_since_last_review</th>\n",
              "      <th>reviews_per_month</th>\n",
              "      <th>score</th>\n",
              "    </tr>\n",
              "  </thead>\n",
              "  <tbody>\n",
              "    <tr>\n",
              "      <th>count</th>\n",
              "      <td>10775.000000</td>\n",
              "      <td>10775.000000</td>\n",
              "      <td>9590.000000</td>\n",
              "    </tr>\n",
              "    <tr>\n",
              "      <th>mean</th>\n",
              "      <td>97.595360</td>\n",
              "      <td>1.520293</td>\n",
              "      <td>4.680880</td>\n",
              "    </tr>\n",
              "    <tr>\n",
              "      <th>std</th>\n",
              "      <td>247.982866</td>\n",
              "      <td>1.654974</td>\n",
              "      <td>0.273886</td>\n",
              "    </tr>\n",
              "    <tr>\n",
              "      <th>min</th>\n",
              "      <td>0.000000</td>\n",
              "      <td>0.020000</td>\n",
              "      <td>2.000000</td>\n",
              "    </tr>\n",
              "    <tr>\n",
              "      <th>25%</th>\n",
              "      <td>10.000000</td>\n",
              "      <td>0.610000</td>\n",
              "      <td>4.570000</td>\n",
              "    </tr>\n",
              "    <tr>\n",
              "      <th>50%</th>\n",
              "      <td>23.000000</td>\n",
              "      <td>1.150000</td>\n",
              "      <td>4.740000</td>\n",
              "    </tr>\n",
              "    <tr>\n",
              "      <th>75%</th>\n",
              "      <td>55.000000</td>\n",
              "      <td>2.000000</td>\n",
              "      <td>4.860000</td>\n",
              "    </tr>\n",
              "    <tr>\n",
              "      <th>max</th>\n",
              "      <td>1964.000000</td>\n",
              "      <td>53.330000</td>\n",
              "      <td>5.000000</td>\n",
              "    </tr>\n",
              "  </tbody>\n",
              "</table>\n",
              "</div>\n",
              "    <div class=\"colab-df-buttons\">\n",
              "\n",
              "  <div class=\"colab-df-container\">\n",
              "    <button class=\"colab-df-convert\" onclick=\"convertToInteractive('df-70fd2d53-cf5c-4c87-aec2-e6b7ae3a7662')\"\n",
              "            title=\"Convert this dataframe to an interactive table.\"\n",
              "            style=\"display:none;\">\n",
              "\n",
              "  <svg xmlns=\"http://www.w3.org/2000/svg\" height=\"24px\" viewBox=\"0 -960 960 960\">\n",
              "    <path d=\"M120-120v-720h720v720H120Zm60-500h600v-160H180v160Zm220 220h160v-160H400v160Zm0 220h160v-160H400v160ZM180-400h160v-160H180v160Zm440 0h160v-160H620v160ZM180-180h160v-160H180v160Zm440 0h160v-160H620v160Z\"/>\n",
              "  </svg>\n",
              "    </button>\n",
              "\n",
              "  <style>\n",
              "    .colab-df-container {\n",
              "      display:flex;\n",
              "      gap: 12px;\n",
              "    }\n",
              "\n",
              "    .colab-df-convert {\n",
              "      background-color: #E8F0FE;\n",
              "      border: none;\n",
              "      border-radius: 50%;\n",
              "      cursor: pointer;\n",
              "      display: none;\n",
              "      fill: #1967D2;\n",
              "      height: 32px;\n",
              "      padding: 0 0 0 0;\n",
              "      width: 32px;\n",
              "    }\n",
              "\n",
              "    .colab-df-convert:hover {\n",
              "      background-color: #E2EBFA;\n",
              "      box-shadow: 0px 1px 2px rgba(60, 64, 67, 0.3), 0px 1px 3px 1px rgba(60, 64, 67, 0.15);\n",
              "      fill: #174EA6;\n",
              "    }\n",
              "\n",
              "    .colab-df-buttons div {\n",
              "      margin-bottom: 4px;\n",
              "    }\n",
              "\n",
              "    [theme=dark] .colab-df-convert {\n",
              "      background-color: #3B4455;\n",
              "      fill: #D2E3FC;\n",
              "    }\n",
              "\n",
              "    [theme=dark] .colab-df-convert:hover {\n",
              "      background-color: #434B5C;\n",
              "      box-shadow: 0px 1px 3px 1px rgba(0, 0, 0, 0.15);\n",
              "      filter: drop-shadow(0px 1px 2px rgba(0, 0, 0, 0.3));\n",
              "      fill: #FFFFFF;\n",
              "    }\n",
              "  </style>\n",
              "\n",
              "    <script>\n",
              "      const buttonEl =\n",
              "        document.querySelector('#df-70fd2d53-cf5c-4c87-aec2-e6b7ae3a7662 button.colab-df-convert');\n",
              "      buttonEl.style.display =\n",
              "        google.colab.kernel.accessAllowed ? 'block' : 'none';\n",
              "\n",
              "      async function convertToInteractive(key) {\n",
              "        const element = document.querySelector('#df-70fd2d53-cf5c-4c87-aec2-e6b7ae3a7662');\n",
              "        const dataTable =\n",
              "          await google.colab.kernel.invokeFunction('convertToInteractive',\n",
              "                                                    [key], {});\n",
              "        if (!dataTable) return;\n",
              "\n",
              "        const docLinkHtml = 'Like what you see? Visit the ' +\n",
              "          '<a target=\"_blank\" href=https://colab.research.google.com/notebooks/data_table.ipynb>data table notebook</a>'\n",
              "          + ' to learn more about interactive tables.';\n",
              "        element.innerHTML = '';\n",
              "        dataTable['output_type'] = 'display_data';\n",
              "        await google.colab.output.renderOutput(dataTable, element);\n",
              "        const docLink = document.createElement('div');\n",
              "        docLink.innerHTML = docLinkHtml;\n",
              "        element.appendChild(docLink);\n",
              "      }\n",
              "    </script>\n",
              "  </div>\n",
              "\n",
              "\n",
              "<div id=\"df-614dd215-854e-4ce8-ac54-d6104b8656c3\">\n",
              "  <button class=\"colab-df-quickchart\" onclick=\"quickchart('df-614dd215-854e-4ce8-ac54-d6104b8656c3')\"\n",
              "            title=\"Suggest charts\"\n",
              "            style=\"display:none;\">\n",
              "\n",
              "<svg xmlns=\"http://www.w3.org/2000/svg\" height=\"24px\"viewBox=\"0 0 24 24\"\n",
              "     width=\"24px\">\n",
              "    <g>\n",
              "        <path d=\"M19 3H5c-1.1 0-2 .9-2 2v14c0 1.1.9 2 2 2h14c1.1 0 2-.9 2-2V5c0-1.1-.9-2-2-2zM9 17H7v-7h2v7zm4 0h-2V7h2v10zm4 0h-2v-4h2v4z\"/>\n",
              "    </g>\n",
              "</svg>\n",
              "  </button>\n",
              "\n",
              "<style>\n",
              "  .colab-df-quickchart {\n",
              "      --bg-color: #E8F0FE;\n",
              "      --fill-color: #1967D2;\n",
              "      --hover-bg-color: #E2EBFA;\n",
              "      --hover-fill-color: #174EA6;\n",
              "      --disabled-fill-color: #AAA;\n",
              "      --disabled-bg-color: #DDD;\n",
              "  }\n",
              "\n",
              "  [theme=dark] .colab-df-quickchart {\n",
              "      --bg-color: #3B4455;\n",
              "      --fill-color: #D2E3FC;\n",
              "      --hover-bg-color: #434B5C;\n",
              "      --hover-fill-color: #FFFFFF;\n",
              "      --disabled-bg-color: #3B4455;\n",
              "      --disabled-fill-color: #666;\n",
              "  }\n",
              "\n",
              "  .colab-df-quickchart {\n",
              "    background-color: var(--bg-color);\n",
              "    border: none;\n",
              "    border-radius: 50%;\n",
              "    cursor: pointer;\n",
              "    display: none;\n",
              "    fill: var(--fill-color);\n",
              "    height: 32px;\n",
              "    padding: 0;\n",
              "    width: 32px;\n",
              "  }\n",
              "\n",
              "  .colab-df-quickchart:hover {\n",
              "    background-color: var(--hover-bg-color);\n",
              "    box-shadow: 0 1px 2px rgba(60, 64, 67, 0.3), 0 1px 3px 1px rgba(60, 64, 67, 0.15);\n",
              "    fill: var(--button-hover-fill-color);\n",
              "  }\n",
              "\n",
              "  .colab-df-quickchart-complete:disabled,\n",
              "  .colab-df-quickchart-complete:disabled:hover {\n",
              "    background-color: var(--disabled-bg-color);\n",
              "    fill: var(--disabled-fill-color);\n",
              "    box-shadow: none;\n",
              "  }\n",
              "\n",
              "  .colab-df-spinner {\n",
              "    border: 2px solid var(--fill-color);\n",
              "    border-color: transparent;\n",
              "    border-bottom-color: var(--fill-color);\n",
              "    animation:\n",
              "      spin 1s steps(1) infinite;\n",
              "  }\n",
              "\n",
              "  @keyframes spin {\n",
              "    0% {\n",
              "      border-color: transparent;\n",
              "      border-bottom-color: var(--fill-color);\n",
              "      border-left-color: var(--fill-color);\n",
              "    }\n",
              "    20% {\n",
              "      border-color: transparent;\n",
              "      border-left-color: var(--fill-color);\n",
              "      border-top-color: var(--fill-color);\n",
              "    }\n",
              "    30% {\n",
              "      border-color: transparent;\n",
              "      border-left-color: var(--fill-color);\n",
              "      border-top-color: var(--fill-color);\n",
              "      border-right-color: var(--fill-color);\n",
              "    }\n",
              "    40% {\n",
              "      border-color: transparent;\n",
              "      border-right-color: var(--fill-color);\n",
              "      border-top-color: var(--fill-color);\n",
              "    }\n",
              "    60% {\n",
              "      border-color: transparent;\n",
              "      border-right-color: var(--fill-color);\n",
              "    }\n",
              "    80% {\n",
              "      border-color: transparent;\n",
              "      border-right-color: var(--fill-color);\n",
              "      border-bottom-color: var(--fill-color);\n",
              "    }\n",
              "    90% {\n",
              "      border-color: transparent;\n",
              "      border-bottom-color: var(--fill-color);\n",
              "    }\n",
              "  }\n",
              "</style>\n",
              "\n",
              "  <script>\n",
              "    async function quickchart(key) {\n",
              "      const quickchartButtonEl =\n",
              "        document.querySelector('#' + key + ' button');\n",
              "      quickchartButtonEl.disabled = true;  // To prevent multiple clicks.\n",
              "      quickchartButtonEl.classList.add('colab-df-spinner');\n",
              "      try {\n",
              "        const charts = await google.colab.kernel.invokeFunction(\n",
              "            'suggestCharts', [key], {});\n",
              "      } catch (error) {\n",
              "        console.error('Error during call to suggestCharts:', error);\n",
              "      }\n",
              "      quickchartButtonEl.classList.remove('colab-df-spinner');\n",
              "      quickchartButtonEl.classList.add('colab-df-quickchart-complete');\n",
              "    }\n",
              "    (() => {\n",
              "      let quickchartButtonEl =\n",
              "        document.querySelector('#df-614dd215-854e-4ce8-ac54-d6104b8656c3 button');\n",
              "      quickchartButtonEl.style.display =\n",
              "        google.colab.kernel.accessAllowed ? 'block' : 'none';\n",
              "    })();\n",
              "  </script>\n",
              "</div>\n",
              "\n",
              "    </div>\n",
              "  </div>\n"
            ],
            "application/vnd.google.colaboratory.intrinsic+json": {
              "type": "dataframe",
              "summary": "{\n  \"name\": \"X[[\\\"days_since_last_review\\\", \\\"reviews_per_month\\\", \\\"score\\\"]]\",\n  \"rows\": 8,\n  \"fields\": [\n    {\n      \"column\": \"days_since_last_review\",\n      \"properties\": {\n        \"dtype\": \"number\",\n        \"std\": 3748.199438544861,\n        \"min\": 0.0,\n        \"max\": 10775.0,\n        \"num_unique_values\": 8,\n        \"samples\": [\n          97.5953596287703,\n          23.0,\n          10775.0\n        ],\n        \"semantic_type\": \"\",\n        \"description\": \"\"\n      }\n    },\n    {\n      \"column\": \"reviews_per_month\",\n      \"properties\": {\n        \"dtype\": \"number\",\n        \"std\": 3806.5367458099136,\n        \"min\": 0.02,\n        \"max\": 10775.0,\n        \"num_unique_values\": 8,\n        \"samples\": [\n          1.520293271461717,\n          1.15,\n          10775.0\n        ],\n        \"semantic_type\": \"\",\n        \"description\": \"\"\n      }\n    },\n    {\n      \"column\": \"score\",\n      \"properties\": {\n        \"dtype\": \"number\",\n        \"std\": 3389.25794699168,\n        \"min\": 0.2738857577354575,\n        \"max\": 9590.0,\n        \"num_unique_values\": 8,\n        \"samples\": [\n          4.680880083420229,\n          4.74,\n          9590.0\n        ],\n        \"semantic_type\": \"\",\n        \"description\": \"\"\n      }\n    }\n  ]\n}"
            }
          },
          "metadata": {},
          "execution_count": 18
        }
      ]
    },
    {
      "cell_type": "code",
      "source": [
        "X.fillna(-1, inplace=True)"
      ],
      "metadata": {
        "id": "DNhWMBpCNzz8"
      },
      "execution_count": 19,
      "outputs": []
    },
    {
      "cell_type": "markdown",
      "source": [
        "Preparing a panel of boxplots to be inspected for extreme values:"
      ],
      "metadata": {
        "id": "mnGRiElgOCUB"
      }
    },
    {
      "cell_type": "code",
      "source": [
        "import matplotlib.pyplot as plt\n",
        "\n",
        "numeric = ['minimum_nights', 'number_of_reviews', 'days_since_last_review', 'reviews_per_month',\n",
        "           'calculated_host_listings_count', 'availability_365', 'score',\n",
        "           'number_of_reviews_ltm', 'number_of_bedrooms',\n",
        "           'number_of_beds', 'number_of_baths', 'imperial_palace_distance',\n",
        "           'nearest_convenience_store','nearest_train_station', 'nearest_airport',\n",
        "           'nearest_bus_station', 'nearest_subway']\n",
        "\n",
        "num_plots = len(numeric)\n",
        "num_rows = (num_plots + 2) // 3\n",
        "num_cols = min(num_plots, 3)\n",
        "\n",
        "fig, axes = plt.subplots(num_rows, num_cols, figsize=(8, 12))\n",
        "axes = axes.flatten()\n",
        "\n",
        "for i, feat in enumerate(numeric):\n",
        "    X[[feat]].boxplot(ax=axes[i])\n",
        "\n",
        "fig.tight_layout()\n",
        "plt.show()"
      ],
      "metadata": {
        "colab": {
          "base_uri": "https://localhost:8080/",
          "height": 1000
        },
        "id": "5jbQgZ8zN5sE",
        "outputId": "5d7e8b85-3470-4337-be37-96197d9fe521"
      },
      "execution_count": 20,
      "outputs": [
        {
          "output_type": "display_data",
          "data": {
            "text/plain": [
              "<Figure size 800x1200 with 18 Axes>"
            ],
            "image/png": "[encoded data removed]"
          },
          "metadata": {}
        }
      ]
    },
    {
      "cell_type": "markdown",
      "source": [
        "Winsorizing extreme values:"
      ],
      "metadata": {
        "id": "uW0OL1w7QViq"
      }
    },
    {
      "cell_type": "code",
      "source": [
        "from scipy.stats.mstats import winsorize\n",
        "\n",
        "lower_cut_percentile = 0.00\n",
        "upper_cut_percentile = 0.001\n",
        "\n",
        "X['minimum_nights'] = winsorize(X['minimum_nights'].values, limits=(lower_cut_percentile, upper_cut_percentile))\n",
        "\n",
        "X[['minimum_nights']].boxplot()"
      ],
      "metadata": {
        "colab": {
          "base_uri": "https://localhost:8080/",
          "height": 448
        },
        "id": "sRlVxhlaQWk2",
        "outputId": "257e3386-7517-4bdf-beaf-ffc3447ae97a"
      },
      "execution_count": 21,
      "outputs": [
        {
          "output_type": "execute_result",
          "data": {
            "text/plain": [
              "<Axes: >"
            ]
          },
          "metadata": {},
          "execution_count": 21
        },
        {
          "output_type": "display_data",
          "data": {
            "text/plain": [
              "<Figure size 640x480 with 1 Axes>"
            ],
            "image/png": "[encoded data removed]"
          },
          "metadata": {}
        }
      ]
    },
    {
      "cell_type": "code",
      "source": [
        "X['number_of_reviews'] = winsorize(X['number_of_reviews'].values, limits=(lower_cut_percentile, upper_cut_percentile))\n",
        "\n",
        "X[['number_of_reviews']].boxplot()"
      ],
      "metadata": {
        "colab": {
          "base_uri": "https://localhost:8080/",
          "height": 448
        },
        "id": "Eon8HTYXdFss",
        "outputId": "9693d995-5572-4b14-bad1-7a3da98d2401"
      },
      "execution_count": 22,
      "outputs": [
        {
          "output_type": "execute_result",
          "data": {
            "text/plain": [
              "<Axes: >"
            ]
          },
          "metadata": {},
          "execution_count": 22
        },
        {
          "output_type": "display_data",
          "data": {
            "text/plain": [
              "<Figure size 640x480 with 1 Axes>"
            ],
            "image/png": "[encoded data removed]"
          },
          "metadata": {}
        }
      ]
    },
    {
      "cell_type": "markdown",
      "source": [
        "Being a regression problem, I am figuring out the mean and the range of the target:"
      ],
      "metadata": {
        "id": "9ObddEXmdV7Q"
      }
    },
    {
      "cell_type": "code",
      "source": [
        "print(f\"minimum: {y.min()}\")\n",
        "print(f\"average: {y.mean().round(2)}\")\n",
        "print(f\"maximum: {y.max()}\")"
      ],
      "metadata": {
        "colab": {
          "base_uri": "https://localhost:8080/"
        },
        "id": "4ZZtePuzdZcZ",
        "outputId": "d89ac874-2b03-4c0a-bd88-82a20a5cb467"
      },
      "execution_count": 23,
      "outputs": [
        {
          "output_type": "stream",
          "name": "stdout",
          "text": [
            "minimum: 1500.0\n",
            "average: 37352.69\n",
            "maximum: 5202583.378082192\n"
          ]
        }
      ]
    },
    {
      "cell_type": "code",
      "source": [
        "perc = [1, 5, 10, 25, 50, 75, 90, 95, 99]\n",
        "for p in perc:\n",
        "    print(f\"percentile {p:2}: {np.percentile(y, p).round(2)}\")"
      ],
      "metadata": {
        "colab": {
          "base_uri": "https://localhost:8080/"
        },
        "id": "ezUe6GA3gyeL",
        "outputId": "ac2e76f3-fc82-4801-bd9d-6f7d91e0bbff"
      },
      "execution_count": 24,
      "outputs": [
        {
          "output_type": "stream",
          "name": "stdout",
          "text": [
            "percentile  1: 2960.25\n",
            "percentile  5: 5020.38\n",
            "percentile 10: 7322.82\n",
            "percentile 25: 11969.86\n",
            "percentile 50: 20000.0\n",
            "percentile 75: 39367.88\n",
            "percentile 90: 63203.12\n",
            "percentile 95: 79614.91\n",
            "percentile 99: 528215.33\n"
          ]
        }
      ]
    },
    {
      "cell_type": "code",
      "source": [
        "valid_samples = (y >= 5020) & (y <= 78914)"
      ],
      "metadata": {
        "id": "T8WfnxK2hTrI"
      },
      "execution_count": 25,
      "outputs": []
    },
    {
      "cell_type": "markdown",
      "source": [
        "Plotting the target distribution:"
      ],
      "metadata": {
        "id": "yu4XxHCUhs7s"
      }
    },
    {
      "cell_type": "code",
      "source": [
        "import matplotlib.pyplot as plt\n",
        "import seaborn as sns\n",
        "\n",
        "valid_y = y[valid_samples]\n",
        "sns.kdeplot(valid_y, fill=True)\n",
        "\n",
        "median = np.median(valid_y)\n",
        "plt.axvline(median, color='r', linestyle='--', linewidth=2, label='Median')\n",
        "\n",
        "plt.xlabel('Values')\n",
        "plt.ylabel('Density')\n",
        "plt.title('Distribution Curbe of Median')\n",
        "plt.legend()\n",
        "plt.show()"
      ],
      "metadata": {
        "colab": {
          "base_uri": "https://localhost:8080/",
          "height": 472
        },
        "id": "uAsBbGyJhua6",
        "outputId": "89500a28-3428-4f05-84bb-bf290e1da6f7"
      },
      "execution_count": 26,
      "outputs": [
        {
          "output_type": "display_data",
          "data": {
            "text/plain": [
              "<Figure size 640x480 with 1 Axes>"
            ],
            "image/png": "[encoded data removed]"
          },
          "metadata": {}
        }
      ]
    },
    {
      "cell_type": "code",
      "source": [
        "X = X[valid_samples]\n",
        "y = y[valid_samples]"
      ],
      "metadata": {
        "id": "YrzT74nTmy2p"
      },
      "execution_count": 27,
      "outputs": []
    },
    {
      "cell_type": "code",
      "source": [
        "X['neighbourhood'].value_counts()"
      ],
      "metadata": {
        "colab": {
          "base_uri": "https://localhost:8080/",
          "height": 1000
        },
        "id": "wxsnW2Ht8323",
        "outputId": "777da645-ad4c-4122-9128-b867d95b3aee"
      },
      "execution_count": 28,
      "outputs": [
        {
          "output_type": "execute_result",
          "data": {
            "text/plain": [
              "neighbourhood\n",
              "Shinjuku Ku            2260\n",
              "Taito Ku               1411\n",
              "Sumida Ku              1298\n",
              "Toshima Ku             1073\n",
              "Shibuya Ku              727\n",
              "Minato Ku               423\n",
              "Setagaya Ku             385\n",
              "Ota Ku                  385\n",
              "Nakano Ku               345\n",
              "Kita Ku                 309\n",
              "Chuo Ku                 257\n",
              "Katsushika Ku           255\n",
              "Suginami Ku             229\n",
              "Koto Ku                 202\n",
              "Bunkyo Ku               199\n",
              "Itabashi Ku             190\n",
              "Edogawa Ku              178\n",
              "Shinagawa Ku            158\n",
              "Chiyoda Ku              157\n",
              "Arakawa Ku              152\n",
              "Adachi Ku                97\n",
              "Nerima Ku                67\n",
              "Meguro Ku                63\n",
              "Musashino Shi            29\n",
              "Kokubunji Shi            15\n",
              "Fuchu Shi                14\n",
              "Hachioji Shi             14\n",
              "Mitaka Shi               12\n",
              "Machida Shi              12\n",
              "Akiruno Shi              10\n",
              "Koganei Shi              10\n",
              "Komae Shi                 9\n",
              "Chofu Shi                 9\n",
              "Higashimurayama Shi       7\n",
              "Ome Shi                   7\n",
              "Kodaira Shi               5\n",
              "Hino Shi                  5\n",
              "Tama Shi                  5\n",
              "Hamura Shi                4\n",
              "Nishitokyo Shi            3\n",
              "Tachikawa Shi             3\n",
              "Okutama Machi             2\n",
              "Kunitachi Shi             1\n",
              "Hinohara Mura             1\n",
              "Fussa Shi                 1\n",
              "Name: count, dtype: int64"
            ],
            "text/html": [
              "<table border=\"1\" class=\"dataframe\">\n",
              "  <thead>\n",
              "    <tr style=\"text-align: right;\">\n",
              "      <th></th>\n",
              "      <th>count</th>\n",
              "    </tr>\n",
              "    <tr>\n",
              "      <th>neighbourhood</th>\n",
              "      <th></th>\n",
              "    </tr>\n",
              "  </thead>\n",
              "  <tbody>\n",
              "    <tr>\n",
              "      <th>Shinjuku Ku</th>\n",
              "      <td>2260</td>\n",
              "    </tr>\n",
              "    <tr>\n",
              "      <th>Taito Ku</th>\n",
              "      <td>1411</td>\n",
              "    </tr>\n",
              "    <tr>\n",
              "      <th>Sumida Ku</th>\n",
              "      <td>1298</td>\n",
              "    </tr>\n",
              "    <tr>\n",
              "      <th>Toshima Ku</th>\n",
              "      <td>1073</td>\n",
              "    </tr>\n",
              "    <tr>\n",
              "      <th>Shibuya Ku</th>\n",
              "      <td>727</td>\n",
              "    </tr>\n",
              "    <tr>\n",
              "      <th>Minato Ku</th>\n",
              "      <td>423</td>\n",
              "    </tr>\n",
              "    <tr>\n",
              "      <th>Setagaya Ku</th>\n",
              "      <td>385</td>\n",
              "    </tr>\n",
              "    <tr>\n",
              "      <th>Ota Ku</th>\n",
              "      <td>385</td>\n",
              "    </tr>\n",
              "    <tr>\n",
              "      <th>Nakano Ku</th>\n",
              "      <td>345</td>\n",
              "    </tr>\n",
              "    <tr>\n",
              "      <th>Kita Ku</th>\n",
              "      <td>309</td>\n",
              "    </tr>\n",
              "    <tr>\n",
              "      <th>Chuo Ku</th>\n",
              "      <td>257</td>\n",
              "    </tr>\n",
              "    <tr>\n",
              "      <th>Katsushika Ku</th>\n",
              "      <td>255</td>\n",
              "    </tr>\n",
              "    <tr>\n",
              "      <th>Suginami Ku</th>\n",
              "      <td>229</td>\n",
              "    </tr>\n",
              "    <tr>\n",
              "      <th>Koto Ku</th>\n",
              "      <td>202</td>\n",
              "    </tr>\n",
              "    <tr>\n",
              "      <th>Bunkyo Ku</th>\n",
              "      <td>199</td>\n",
              "    </tr>\n",
              "    <tr>\n",
              "      <th>Itabashi Ku</th>\n",
              "      <td>190</td>\n",
              "    </tr>\n",
              "    <tr>\n",
              "      <th>Edogawa Ku</th>\n",
              "      <td>178</td>\n",
              "    </tr>\n",
              "    <tr>\n",
              "      <th>Shinagawa Ku</th>\n",
              "      <td>158</td>\n",
              "    </tr>\n",
              "    <tr>\n",
              "      <th>Chiyoda Ku</th>\n",
              "      <td>157</td>\n",
              "    </tr>\n",
              "    <tr>\n",
              "      <th>Arakawa Ku</th>\n",
              "      <td>152</td>\n",
              "    </tr>\n",
              "    <tr>\n",
              "      <th>Adachi Ku</th>\n",
              "      <td>97</td>\n",
              "    </tr>\n",
              "    <tr>\n",
              "      <th>Nerima Ku</th>\n",
              "      <td>67</td>\n",
              "    </tr>\n",
              "    <tr>\n",
              "      <th>Meguro Ku</th>\n",
              "      <td>63</td>\n",
              "    </tr>\n",
              "    <tr>\n",
              "      <th>Musashino Shi</th>\n",
              "      <td>29</td>\n",
              "    </tr>\n",
              "    <tr>\n",
              "      <th>Kokubunji Shi</th>\n",
              "      <td>15</td>\n",
              "    </tr>\n",
              "    <tr>\n",
              "      <th>Fuchu Shi</th>\n",
              "      <td>14</td>\n",
              "    </tr>\n",
              "    <tr>\n",
              "      <th>Hachioji Shi</th>\n",
              "      <td>14</td>\n",
              "    </tr>\n",
              "    <tr>\n",
              "      <th>Mitaka Shi</th>\n",
              "      <td>12</td>\n",
              "    </tr>\n",
              "    <tr>\n",
              "      <th>Machida Shi</th>\n",
              "      <td>12</td>\n",
              "    </tr>\n",
              "    <tr>\n",
              "      <th>Akiruno Shi</th>\n",
              "      <td>10</td>\n",
              "    </tr>\n",
              "    <tr>\n",
              "      <th>Koganei Shi</th>\n",
              "      <td>10</td>\n",
              "    </tr>\n",
              "    <tr>\n",
              "      <th>Komae Shi</th>\n",
              "      <td>9</td>\n",
              "    </tr>\n",
              "    <tr>\n",
              "      <th>Chofu Shi</th>\n",
              "      <td>9</td>\n",
              "    </tr>\n",
              "    <tr>\n",
              "      <th>Higashimurayama Shi</th>\n",
              "      <td>7</td>\n",
              "    </tr>\n",
              "    <tr>\n",
              "      <th>Ome Shi</th>\n",
              "      <td>7</td>\n",
              "    </tr>\n",
              "    <tr>\n",
              "      <th>Kodaira Shi</th>\n",
              "      <td>5</td>\n",
              "    </tr>\n",
              "    <tr>\n",
              "      <th>Hino Shi</th>\n",
              "      <td>5</td>\n",
              "    </tr>\n",
              "    <tr>\n",
              "      <th>Tama Shi</th>\n",
              "      <td>5</td>\n",
              "    </tr>\n",
              "    <tr>\n",
              "      <th>Hamura Shi</th>\n",
              "      <td>4</td>\n",
              "    </tr>\n",
              "    <tr>\n",
              "      <th>Nishitokyo Shi</th>\n",
              "      <td>3</td>\n",
              "    </tr>\n",
              "    <tr>\n",
              "      <th>Tachikawa Shi</th>\n",
              "      <td>3</td>\n",
              "    </tr>\n",
              "    <tr>\n",
              "      <th>Okutama Machi</th>\n",
              "      <td>2</td>\n",
              "    </tr>\n",
              "    <tr>\n",
              "      <th>Kunitachi Shi</th>\n",
              "      <td>1</td>\n",
              "    </tr>\n",
              "    <tr>\n",
              "      <th>Hinohara Mura</th>\n",
              "      <td>1</td>\n",
              "    </tr>\n",
              "    <tr>\n",
              "      <th>Fussa Shi</th>\n",
              "      <td>1</td>\n",
              "    </tr>\n",
              "  </tbody>\n",
              "</table><br><label><b>dtype:</b> int64</label>"
            ]
          },
          "metadata": {},
          "execution_count": 28
        }
      ]
    },
    {
      "cell_type": "markdown",
      "source": [
        "Using a KDTree to match each area with less than 30 accommodations with its nearest area with more than 30:"
      ],
      "metadata": {
        "id": "0z8pWT_39NiY"
      }
    },
    {
      "cell_type": "code",
      "source": [
        "neighbourhoods = (summary_listings[['neighbourhood', 'latitude', 'longitude']]\n",
        "           .groupby('neighbourhood')\n",
        "           .agg({'latitude': 'mean', 'longitude': 'mean', 'neighbourhood': 'count'}))\n",
        "\n",
        "less_than_30 = neighbourhoods[neighbourhoods['neighbourhood'] < 30]\n",
        "more_than_30 = neighbourhoods[neighbourhoods['neighbourhood'] > 30]\n",
        "\n",
        "kdtree = KDTree(more_than_30[['latitude', 'longitude']])\n",
        "change_list = {}\n",
        "\n",
        "for i in range(len(less_than_30)):\n",
        "    row = less_than_30.iloc[[i]]\n",
        "    _, idx = kdtree.query(row[['latitude', 'longitude']])\n",
        "    change_list[row.index[0]] = more_than_30.index[idx[0, 0]]\n",
        "\n",
        "X[\"neighbourhood_more_than_30\"] = X[\"neighbourhood\"].replace(change_list)"
      ],
      "metadata": {
        "id": "xQHZjt3T9Rzh"
      },
      "execution_count": 29,
      "outputs": []
    },
    {
      "cell_type": "code",
      "source": [
        "print(change_list)\n",
        "print(X[\"neighbourhood_more_than_30\"].value_counts())"
      ],
      "metadata": {
        "colab": {
          "base_uri": "https://localhost:8080/"
        },
        "id": "4RqFqpl7ASJH",
        "outputId": "052b5df4-9588-407b-f861-dc4e9e36efc8"
      },
      "execution_count": 30,
      "outputs": [
        {
          "output_type": "stream",
          "name": "stdout",
          "text": [
            "{'Akiruno Shi': 'Fuchu Shi', 'Akishima Shi': 'Fuchu Shi', 'Chofu Shi': 'Fuchu Shi', 'Fussa Shi': 'Fuchu Shi', 'Hachioji Shi': 'Fuchu Shi', 'Hamura Shi': 'Fuchu Shi', 'Higashimurayama Shi': 'Fuchu Shi', 'Hino Shi': 'Fuchu Shi', 'Hinohara Mura': 'Fuchu Shi', 'Inagi Shi': 'Fuchu Shi', 'Kodaira Shi': 'Fuchu Shi', 'Koganei Shi': 'Fuchu Shi', 'Kokubunji Shi': 'Fuchu Shi', 'Komae Shi': 'Setagaya Ku', 'Kunitachi Shi': 'Fuchu Shi', 'Machida Shi': 'Fuchu Shi', 'Mitaka Shi': 'Suginami Ku', 'Musashimurayama Shi': 'Fuchu Shi', 'Musashino Shi': 'Suginami Ku', 'Nishitokyo Shi': 'Suginami Ku', 'Okutama Machi': 'Fuchu Shi', 'Ome Shi': 'Fuchu Shi', 'Tachikawa Shi': 'Fuchu Shi', 'Tama Shi': 'Fuchu Shi'}\n",
            "neighbourhood_more_than_30\n",
            "Shinjuku Ku      2260\n",
            "Taito Ku         1411\n",
            "Sumida Ku        1298\n",
            "Toshima Ku       1073\n",
            "Shibuya Ku        727\n",
            "Minato Ku         423\n",
            "Setagaya Ku       394\n",
            "Ota Ku            385\n",
            "Nakano Ku         345\n",
            "Kita Ku           309\n",
            "Suginami Ku       273\n",
            "Chuo Ku           257\n",
            "Katsushika Ku     255\n",
            "Koto Ku           202\n",
            "Bunkyo Ku         199\n",
            "Itabashi Ku       190\n",
            "Edogawa Ku        178\n",
            "Shinagawa Ku      158\n",
            "Chiyoda Ku        157\n",
            "Arakawa Ku        152\n",
            "Fuchu Shi         125\n",
            "Adachi Ku          97\n",
            "Nerima Ku          67\n",
            "Meguro Ku          63\n",
            "Name: count, dtype: int64\n"
          ]
        }
      ]
    },
    {
      "cell_type": "markdown",
      "source": [
        "defining a stratified cross-validation strategy:"
      ],
      "metadata": {
        "id": "aSJUUjL8AwYw"
      }
    },
    {
      "cell_type": "code",
      "source": [
        "from sklearn.model_selection import StratifiedKFold\n",
        "\n",
        "cv = StratifiedKFold(5, shuffle=True, random_state=0)\n",
        "cv_splits = cv.split(X, y=X[\"neighbourhood_more_than_30\"])"
      ],
      "metadata": {
        "id": "x1QiV2R2Azzi"
      },
      "execution_count": 31,
      "outputs": []
    },
    {
      "cell_type": "code",
      "source": [
        "print(cv_splits)"
      ],
      "metadata": {
        "colab": {
          "base_uri": "https://localhost:8080/"
        },
        "id": "6mwb5G15Rpra",
        "outputId": "64e2b546-fd13-4af5-a9e2-8183f299df07"
      },
      "execution_count": 32,
      "outputs": [
        {
          "output_type": "stream",
          "name": "stdout",
          "text": [
            "<generator object _BaseKFold.split at 0x7c8bd1f0bed0>\n"
          ]
        }
      ]
    },
    {
      "cell_type": "markdown",
      "source": [
        "##  Preparing the pipeline\n",
        "\n",
        "Classifying the different kinds of features that we will be using into categorical features, numeric, and binary features:"
      ],
      "metadata": {
        "id": "TijiCE33R04e"
      }
    },
    {
      "cell_type": "code",
      "source": [
        "categorical = ['room_type', 'neighbourhood_more_than_30', 'type_of_accommodation', 'coordinates']\n",
        "numeric = ['minimum_nights', 'number_of_reviews', 'days_since_last_review', 'reviews_per_month',\n",
        "           'calculated_host_listings_count', 'availability_365', 'score',\n",
        "           'number_of_reviews_ltm', 'number_of_bedrooms',\n",
        "           'number_of_beds', 'number_of_baths', 'imperial_palace_distance',\n",
        "           'nearest_convenience_store','nearest_train_station', 'nearest_airport',\n",
        "           'nearest_bus_station', 'nearest_subway']\n",
        "binary = ['is_new', 'is_studio', 'has_shared_bath', 'has_half_bath']\n"
      ],
      "metadata": {
        "id": "uF6w0-KPRtMI"
      },
      "execution_count": 33,
      "outputs": []
    },
    {
      "cell_type": "code",
      "source": [
        "for feat in categorical:\n",
        "    print(f\"{feat} has {X[feat].nunique()} unique values\")"
      ],
      "metadata": {
        "colab": {
          "base_uri": "https://localhost:8080/"
        },
        "id": "mV_49TR38Aad",
        "outputId": "3922686a-6e33-42a6-973a-6c67d5158d63"
      },
      "execution_count": 34,
      "outputs": [
        {
          "output_type": "stream",
          "name": "stdout",
          "text": [
            "room_type has 4 unique values\n",
            "neighbourhood_more_than_30 has 24 unique values\n",
            "type_of_accommodation has 31 unique values\n",
            "coordinates has 302 unique values\n"
          ]
        }
      ]
    },
    {
      "cell_type": "code",
      "source": [
        "onehot_encoding = ['room_type']\n",
        "ordinal_encoding = ['neighbourhood_more_than_30', 'type_of_accommodation']\n",
        "target_encoding = ['coordinates']"
      ],
      "metadata": {
        "id": "KTR6hDmRCQng"
      },
      "execution_count": 35,
      "outputs": []
    },
    {
      "cell_type": "markdown",
      "source": [
        "defining column transformations:"
      ],
      "metadata": {
        "id": "haHABoy_C825"
      }
    },
    {
      "cell_type": "code",
      "source": [
        "pip install category_encoders"
      ],
      "metadata": {
        "colab": {
          "base_uri": "https://localhost:8080/"
        },
        "id": "VtKDXVB7IcSS",
        "outputId": "6055358d-3ae3-4198-b9de-b0c26c9ffa97"
      },
      "execution_count": 36,
      "outputs": [
        {
          "output_type": "stream",
          "name": "stdout",
          "text": [
            "Collecting category_encoders\n",
            "  Downloading category_encoders-2.6.3-py2.py3-none-any.whl.metadata (8.0 kB)\n",
            "Requirement already satisfied: numpy>=1.14.0 in /usr/local/lib/python3.10/dist-packages (from category_encoders) (1.26.4)\n",
            "Requirement already satisfied: scikit-learn>=0.20.0 in /usr/local/lib/python3.10/dist-packages (from category_encoders) (1.3.2)\n",
            "Requirement already satisfied: scipy>=1.0.0 in /usr/local/lib/python3.10/dist-packages (from category_encoders) (1.13.1)\n",
            "Requirement already satisfied: statsmodels>=0.9.0 in /usr/local/lib/python3.10/dist-packages (from category_encoders) (0.14.2)\n",
            "Requirement already satisfied: pandas>=1.0.5 in /usr/local/lib/python3.10/dist-packages (from category_encoders) (2.1.4)\n",
            "Requirement already satisfied: patsy>=0.5.1 in /usr/local/lib/python3.10/dist-packages (from category_encoders) (0.5.6)\n",
            "Requirement already satisfied: python-dateutil>=2.8.2 in /usr/local/lib/python3.10/dist-packages (from pandas>=1.0.5->category_encoders) (2.8.2)\n",
            "Requirement already satisfied: pytz>=2020.1 in /usr/local/lib/python3.10/dist-packages (from pandas>=1.0.5->category_encoders) (2024.1)\n",
            "Requirement already satisfied: tzdata>=2022.1 in /usr/local/lib/python3.10/dist-packages (from pandas>=1.0.5->category_encoders) (2024.1)\n",
            "Requirement already satisfied: six in /usr/local/lib/python3.10/dist-packages (from patsy>=0.5.1->category_encoders) (1.16.0)\n",
            "Requirement already satisfied: joblib>=1.1.1 in /usr/local/lib/python3.10/dist-packages (from scikit-learn>=0.20.0->category_encoders) (1.4.2)\n",
            "Requirement already satisfied: threadpoolctl>=2.0.0 in /usr/local/lib/python3.10/dist-packages (from scikit-learn>=0.20.0->category_encoders) (3.5.0)\n",
            "Requirement already satisfied: packaging>=21.3 in /usr/local/lib/python3.10/dist-packages (from statsmodels>=0.9.0->category_encoders) (24.1)\n",
            "Downloading category_encoders-2.6.3-py2.py3-none-any.whl (81 kB)\n",
            "\u001b[2K   \u001b[90m━━━━━━━━━━━━━━━━━━━━━━━━━━━━━━━━━━━━━━━━\u001b[0m \u001b[32m81.9/81.9 kB\u001b[0m \u001b[31m3.3 MB/s\u001b[0m eta \u001b[36m0:00:00\u001b[0m\n",
            "\u001b[?25hInstalling collected packages: category_encoders\n",
            "Successfully installed category_encoders-2.6.3\n"
          ]
        }
      ]
    },
    {
      "cell_type": "code",
      "source": [
        "from sklearn.preprocessing import OneHotEncoder, OrdinalEncoder\n",
        "from sklearn.compose import ColumnTransformer\n",
        "from sklearn.pipeline import Pipeline\n",
        "\n",
        "from category_encoders.target_encoder import TargetEncoder\n",
        "\n",
        "onehot_encoder = OneHotEncoder(handle_unknown='ignore')\n",
        "ordinal_enconder = OrdinalEncoder(handle_unknown=\"use_encoded_value\",\n",
        "                                  unknown_value=np.nan)\n",
        "target_encoder = TargetEncoder(cols=target_encoding,\n",
        "                               handle_unknown=\"value\", smoothing=0.5)\n",
        "\n",
        "column_transform = ColumnTransformer(\n",
        "    [('onehot_encoding', onehot_encoder, onehot_encoding),\n",
        "     ('ordinal_encoding', ordinal_enconder, ordinal_encoding),\n",
        "     ('target_encoding', target_encoder, target_encoding),\n",
        "     ('numeric', 'passthrough', numeric),\n",
        "     ('binary', 'passthrough', binary)],\n",
        "    remainder='drop',\n",
        "    verbose_feature_names_out=True,\n",
        "    sparse_threshold=0.0)\n"
      ],
      "metadata": {
        "id": "KRtrbVagDABT"
      },
      "execution_count": 37,
      "outputs": []
    },
    {
      "cell_type": "code",
      "source": [
        "for col in ordinal_encoding:\n",
        "    print(f\"Column '{col}' data types:\", X[col].apply(type).unique())"
      ],
      "metadata": {
        "colab": {
          "base_uri": "https://localhost:8080/"
        },
        "id": "ptZ9ZhqtiR0r",
        "outputId": "c8b7b13b-2b77-470b-b8ed-4c3182df949a"
      },
      "execution_count": 38,
      "outputs": [
        {
          "output_type": "stream",
          "name": "stdout",
          "text": [
            "Column 'neighbourhood_more_than_30' data types: [<class 'str'>]\n",
            "Column 'type_of_accommodation' data types: [<class 'str'> <class 'int'>]\n"
          ]
        }
      ]
    },
    {
      "cell_type": "code",
      "source": [
        "X['type_of_accommodation'] = X['type_of_accommodation'].astype(str)"
      ],
      "metadata": {
        "id": "CNZ1MeExjqUz"
      },
      "execution_count": 39,
      "outputs": []
    },
    {
      "cell_type": "code",
      "source": [
        "Xt = column_transform.fit_transform(X, y)\n",
        "column_transform.get_feature_names_out()"
      ],
      "metadata": {
        "colab": {
          "base_uri": "https://localhost:8080/"
        },
        "id": "P3RNpMsNJFYV",
        "outputId": "83cf5f7b-70f3-43a1-cf28-dd5f70299f89"
      },
      "execution_count": 40,
      "outputs": [
        {
          "output_type": "execute_result",
          "data": {
            "text/plain": [
              "array(['onehot_encoding__room_type_Entire home/apt',\n",
              "       'onehot_encoding__room_type_Hotel room',\n",
              "       'onehot_encoding__room_type_Private room',\n",
              "       'onehot_encoding__room_type_Shared room',\n",
              "       'ordinal_encoding__neighbourhood_more_than_30',\n",
              "       'ordinal_encoding__type_of_accommodation',\n",
              "       'target_encoding__coordinates', 'numeric__minimum_nights',\n",
              "       'numeric__number_of_reviews', 'numeric__days_since_last_review',\n",
              "       'numeric__reviews_per_month',\n",
              "       'numeric__calculated_host_listings_count',\n",
              "       'numeric__availability_365', 'numeric__score',\n",
              "       'numeric__number_of_reviews_ltm', 'numeric__number_of_bedrooms',\n",
              "       'numeric__number_of_beds', 'numeric__number_of_baths',\n",
              "       'numeric__imperial_palace_distance',\n",
              "       'numeric__nearest_convenience_store',\n",
              "       'numeric__nearest_train_station', 'numeric__nearest_airport',\n",
              "       'numeric__nearest_bus_station', 'numeric__nearest_subway',\n",
              "       'binary__is_new', 'binary__is_studio', 'binary__has_shared_bath',\n",
              "       'binary__has_half_bath'], dtype=object)"
            ]
          },
          "metadata": {},
          "execution_count": 40
        }
      ]
    },
    {
      "cell_type": "code",
      "source": [
        "data = pd.DataFrame(Xt, columns=column_transform.get_feature_names_out(), index=y.index)\n",
        "data = data.assign(target=y).reset_index()\n",
        "data.to_csv(\"/content/drive/MyDrive/XGBoost/airbnb_tokyo.csv\", index=False)"
      ],
      "metadata": {
        "id": "MCMzuXqk4QuC"
      },
      "execution_count": 41,
      "outputs": []
    },
    {
      "cell_type": "markdown",
      "source": [
        "## Building a baseline model"
      ],
      "metadata": {
        "id": "Sp6Y5nsN54iH"
      }
    },
    {
      "cell_type": "markdown",
      "source": [
        "Linear regression baseline model with diagnostic plots:"
      ],
      "metadata": {
        "id": "Fx87bidC563K"
      }
    },
    {
      "cell_type": "code",
      "source": [
        "import matplotlib.pyplot as plt\n",
        "from sklearn.linear_model import LinearRegression\n",
        "from sklearn.model_selection import cross_val_predict\n",
        "from sklearn.metrics import r2_score, mean_squared_error, mean_absolute_error\n",
        "\n",
        "lm = LinearRegression(fit_intercept=False)\n",
        "lm.fit(Xt, y)\n",
        "\n",
        "cv.splits = cv.split(X, y=X[\"neighbourhood_more_than_30\"])\n",
        "y_pred_cv = cross_val_predict(lm, Xt, y, cv=cv_splits)\n",
        "\n",
        "print(f\"predictiion range: {y_pred_cv.min()} - {y_pred_cv.max()}\")\n",
        "\n",
        "r2 = r2_score(y, y_pred_cv)\n",
        "rmse = np.sqrt(mean_squared_error(y, y_pred_cv))\n",
        "mae = mean_absolute_error(y, y_pred_cv)\n",
        "\n",
        "print(f'R-squared: {r2:.3f}')\n",
        "print(f'RMSE: {rmse:.3f}')\n",
        "print(f'MAE: {mae:.3f}')\n",
        "\n",
        "plt.scatter(y, y_pred_cv)\n",
        "plt.plot([y.min(), y.max()], [y.min(), y.max()], 'r--', label='Ideal Fit')\n",
        "plt.axhline(0, color='orange', linestyle='--', label='Zero Line')\n",
        "plt.xlabel('Actual')\n",
        "plt.ylabel('Predicted')\n",
        "plt.title('Linear Regression - Fitted Results')\n",
        "plt.legend()\n",
        "plt.show()\n"
      ],
      "metadata": {
        "id": "69FXwuVG6L1V",
        "colab": {
          "base_uri": "https://localhost:8080/",
          "height": 543
        },
        "outputId": "3fef41b8-5132-4d91-ebe9-0aca6ff7a1a9"
      },
      "execution_count": 42,
      "outputs": [
        {
          "output_type": "stream",
          "name": "stdout",
          "text": [
            "predictiion range: -11449.98265642974 - 185251.87879717664\n",
            "R-squared: 0.279\n",
            "RMSE: 15467.736\n",
            "MAE: 11914.801\n"
          ]
        },
        {
          "output_type": "display_data",
          "data": {
            "text/plain": [
              "<Figure size 640x480 with 1 Axes>"
            ],
            "image/png": "[encoded data removed]"
          },
          "metadata": {}
        }
      ]
    },
    {
      "cell_type": "markdown",
      "source": [
        "As a first step in examining the results, I calculate the percentage of predictions that are below or equal to zero; an unfeasible prediction because listings should be positive:"
      ],
      "metadata": {
        "id": "UnyMpnyu_47V"
      }
    },
    {
      "cell_type": "code",
      "source": [
        "(y_pred_cv <= 0).sum() / len(y_pred_cv)"
      ],
      "metadata": {
        "colab": {
          "base_uri": "https://localhost:8080/"
        },
        "id": "rxNmbdH6__ib",
        "outputId": "0449e4c7-214f-40c4-a26b-aa727fbfa229"
      },
      "execution_count": 43,
      "outputs": [
        {
          "output_type": "execute_result",
          "data": {
            "text/plain": [
              "0.003727950536461175"
            ]
          },
          "metadata": {},
          "execution_count": 43
        }
      ]
    },
    {
      "cell_type": "markdown",
      "source": [
        "Ideally, predictions should be greater than zero and in a linear model that could be achieved by a target transformation, for instance, a logarithmic transformation.\n",
        "\n",
        "However, the role of a baseline model is not to be a perfect model but just a model to highlight challenges in the data and be a helpful comparison for more sophisticated models.\n",
        "\n"
      ],
      "metadata": {
        "id": "ey6p2qoTAcCz"
      }
    },
    {
      "cell_type": "markdown",
      "source": [
        "locating the rows that are positive outliers:"
      ],
      "metadata": {
        "id": "T6Sl5zk0AiJm"
      }
    },
    {
      "cell_type": "code",
      "source": [
        "print(np.where(y_pred_cv > 100_000))"
      ],
      "metadata": {
        "colab": {
          "base_uri": "https://localhost:8080/"
        },
        "id": "MpfuEUE5Arxh",
        "outputId": "77db2c9f-1436-4143-b9bf-e249ef32effd"
      },
      "execution_count": 44,
      "outputs": [
        {
          "output_type": "stream",
          "name": "stdout",
          "text": [
            "(array([ 619, 1248, 5341, 7977, 9923]),)\n"
          ]
        }
      ]
    },
    {
      "cell_type": "markdown",
      "source": [
        "checking negative outliers:"
      ],
      "metadata": {
        "id": "zmAYLCAcBToU"
      }
    },
    {
      "cell_type": "code",
      "source": [
        "print(np.where(y_pred_cv < -25_000))\n"
      ],
      "metadata": {
        "colab": {
          "base_uri": "https://localhost:8080/"
        },
        "id": "Gjc5Vi1GAzRp",
        "outputId": "163b3ee7-eb03-4bf4-b544-fbefc1b64b6d"
      },
      "execution_count": 45,
      "outputs": [
        {
          "output_type": "stream",
          "name": "stdout",
          "text": [
            "(array([], dtype=int64),)\n"
          ]
        }
      ]
    },
    {
      "cell_type": "markdown",
      "source": [
        "inspection of the coefficients:"
      ],
      "metadata": {
        "id": "sJ9O1xCgBkrY"
      }
    },
    {
      "cell_type": "code",
      "source": [
        "def report_case(model, data, feature_names, case_no):\n",
        "    case_values = data[case_no]\n",
        "    coef_values = case_values * model.coef_\n",
        "    for feature_name, value, coef_value in zip(feature_names, case_values, coef_values):\n",
        "        print(f\"{feature_name:50s} ({value:10.2f}) : {coef_value:+0.2f}\")\n",
        "    print(\"-\" * 80)\n",
        "    print(\" \"*66 + f\"{np.sum(coef_values):+0.2f}\")\n"
      ],
      "metadata": {
        "id": "o-QVDWuLBmZS"
      },
      "execution_count": 46,
      "outputs": []
    },
    {
      "cell_type": "code",
      "source": [
        "report_case(model=lm,\n",
        "            data=Xt,\n",
        "            feature_names=column_transform.get_feature_names_out(),\n",
        "            case_no=9923)\n"
      ],
      "metadata": {
        "colab": {
          "base_uri": "https://localhost:8080/"
        },
        "id": "AjYU8XZoF5tW",
        "outputId": "f5a14a39-8f18-4d68-f056-870e9a6f13c8"
      },
      "execution_count": 47,
      "outputs": [
        {
          "output_type": "stream",
          "name": "stdout",
          "text": [
            "onehot_encoding__room_type_Entire home/apt         (      0.00) : -0.00\n",
            "onehot_encoding__room_type_Hotel room              (      0.00) : -0.00\n",
            "onehot_encoding__room_type_Private room            (      0.00) : -0.00\n",
            "onehot_encoding__room_type_Shared room             (      1.00) : -11793.48\n",
            "ordinal_encoding__neighbourhood_more_than_30       (     12.00) : +950.47\n",
            "ordinal_encoding__type_of_accommodation            (     17.00) : -1589.23\n",
            "target_encoding__coordinates                       (  26424.13) : +23784.93\n",
            "numeric__minimum_nights                            (      1.00) : -186.55\n",
            "numeric__number_of_reviews                         (     25.00) : -366.09\n",
            "numeric__days_since_last_review                    (      3.00) : -4.54\n",
            "numeric__reviews_per_month                         (     25.00) : +8211.67\n",
            "numeric__calculated_host_listings_count            (      1.00) : +88.91\n",
            "numeric__availability_365                          (    269.00) : +9385.22\n",
            "numeric__score                                     (      4.36) : -524.62\n",
            "numeric__number_of_reviews_ltm                     (      1.00) : +916.27\n",
            "numeric__number_of_bedrooms                        (      1.00) : +2940.49\n",
            "numeric__number_of_beds                            (     60.00) : +83990.36\n",
            "numeric__number_of_baths                           (      8.00) : -6367.07\n",
            "numeric__imperial_palace_distance                  (   4249.65) : -1017.89\n",
            "numeric__nearest_convenience_store                 (     65.29) : +150.33\n",
            "numeric__nearest_train_station                     (    359.31) : -336.51\n",
            "numeric__nearest_airport                           (   2411.29) : -850.12\n",
            "numeric__nearest_bus_station                       (    322.07) : -155.00\n",
            "numeric__nearest_subway                            (    519.26) : -96.79\n",
            "binary__is_new                                     (      0.00) : -0.00\n",
            "binary__is_studio                                  (      0.00) : +0.00\n",
            "binary__has_shared_bath                            (      1.00) : -7682.83\n",
            "binary__has_half_bath                              (      0.00) : -0.00\n",
            "--------------------------------------------------------------------------------\n",
            "                                                                  +99447.92\n"
          ]
        }
      ]
    },
    {
      "cell_type": "markdown",
      "source": [
        "In conclusion:\n",
        "\n",
        " The baseline model has signaled that successfully solving the problem presented by the Tokyo Airbnb dataset requires a better fitting mode that can handle positive predictions (they should be necessarily positive) and can represent non-linear relationships and interactions between a particular characteristic of the accommodation (a large number of bedrooms indicate a hostel, a high number of minimum stay nights indicates an accommodation for seasonal tenants).\n",
        "\n",
        "I will solve all these problems at once by using an XGBoost model, which should be able to deal with this data in a more sophisticated and smart way.\n",
        "\n"
      ],
      "metadata": {
        "id": "vkR0Jf2VGOB_"
      }
    },
    {
      "cell_type": "markdown",
      "source": [
        "## Building a first tentative model"
      ],
      "metadata": {
        "id": "Rg0cBju_GhW9"
      }
    },
    {
      "cell_type": "markdown",
      "source": [
        "I train an XGBoost regressor, and test its out-of-fold cross-validation predictions:"
      ],
      "metadata": {
        "id": "kn8sPxxHGu21"
      }
    },
    {
      "cell_type": "code",
      "source": [
        "from sklearn.model_selection import cross_validate\n",
        "from sklearn.metrics import r2_score, mean_squared_error, mean_absolute_error\n",
        "from xgboost import XGBRegressor\n",
        "\n",
        "xgb = XGBRegressor(booster='gbtree',\n",
        "                   objective='reg:gamma',\n",
        "                   n_estimators=300,\n",
        "                   max_depth=6)\n",
        "\n",
        "cv_splits = cv.split(X, y=X[\"neighbourhood_more_than_30\"])\n",
        "y_pred_cv = cross_val_predict(xgb, Xt, y, cv=cv_splits)\n",
        "\n",
        "print(f\"prediction range: {y_pred_cv.min()} - {y_pred_cv.max()}\")\n",
        "\n",
        "r2 = r2_score(y, y_pred_cv)\n",
        "rmse = np.sqrt(mean_squared_error(y, y_pred_cv))\n",
        "mae = mean_absolute_error(y, y_pred_cv)\n",
        "\n",
        "print(f'R-squared: {r2:.3f}')\n",
        "print(f'RMSE: {rmse:.3f}')\n",
        "print(f'MAE: {mae:.3f}')\n",
        "\n",
        "plt.scatter(y, y_pred_cv)\n",
        "plt.plot([y.min(), y.max()], [y.min(), y.max()], 'r--', label='Ideal Fit')\n",
        "plt.axhline(0, color='orange', linestyle='--', label='Zero Line')\n",
        "plt.xlabel('Actual')\n",
        "plt.ylabel('Predicted')\n",
        "plt.title('XGBoost - Fitted Results')\n",
        "plt.legend()\n",
        "plt.show()"
      ],
      "metadata": {
        "id": "5RS46ZjxGdaN",
        "colab": {
          "base_uri": "https://localhost:8080/",
          "height": 543
        },
        "outputId": "5a2a2db5-aee8-43da-8657-b7caadc157ae"
      },
      "execution_count": 49,
      "outputs": [
        {
          "output_type": "stream",
          "name": "stdout",
          "text": [
            "prediction range: 3257.68408203125 - 100652.203125\n",
            "R-squared: 0.654\n",
            "RMSE: 10715.278\n",
            "MAE: 6991.540\n"
          ]
        },
        {
          "output_type": "display_data",
          "data": {
            "text/plain": [
              "<Figure size 640x480 with 1 Axes>"
            ],
            "image/png": "[encoded data removed]"
          },
          "metadata": {}
        }
      ]
    },
    {
      "cell_type": "markdown",
      "source": [
        "## Optimizing the model\n",
        "\n",
        "I am going to use Optuna to efficiently explore a GBDT hyperparameter search space, adaptively choosing in a short set of rounds, based on the outcomes of the previous experiments, the next set of hyperparameters to be evaluated.\n",
        "\n",
        "The following code performs hyperparameter optimization using Optuna for the previously tested XGBoost Regressor model to find the best hyperparameters that minimize the mean absolute error (MAE) of the model.\n",
        "\n",
        "Finally, it then creates an XGBoost Regressor with the suggested hyperparameters at each test and performs cross-validation to evaluate the MAE."
      ],
      "metadata": {
        "id": "9YzEOldB7H4K"
      }
    },
    {
      "cell_type": "code",
      "source": [
        "pip install optuna"
      ],
      "metadata": {
        "colab": {
          "base_uri": "https://localhost:8080/"
        },
        "id": "lK8GgSzk9T1i",
        "outputId": "d16628c0-6773-4de4-b65c-b58b708f29f4"
      },
      "execution_count": 51,
      "outputs": [
        {
          "output_type": "stream",
          "name": "stdout",
          "text": [
            "Collecting optuna\n",
            "  Downloading optuna-3.6.1-py3-none-any.whl.metadata (17 kB)\n",
            "Collecting alembic>=1.5.0 (from optuna)\n",
            "  Downloading alembic-1.13.2-py3-none-any.whl.metadata (7.4 kB)\n",
            "Collecting colorlog (from optuna)\n",
            "  Downloading colorlog-6.8.2-py3-none-any.whl.metadata (10 kB)\n",
            "Requirement already satisfied: numpy in /usr/local/lib/python3.10/dist-packages (from optuna) (1.26.4)\n",
            "Requirement already satisfied: packaging>=20.0 in /usr/local/lib/python3.10/dist-packages (from optuna) (24.1)\n",
            "Requirement already satisfied: sqlalchemy>=1.3.0 in /usr/local/lib/python3.10/dist-packages (from optuna) (2.0.31)\n",
            "Requirement already satisfied: tqdm in /usr/local/lib/python3.10/dist-packages (from optuna) (4.66.4)\n",
            "Requirement already satisfied: PyYAML in /usr/local/lib/python3.10/dist-packages (from optuna) (6.0.1)\n",
            "Collecting Mako (from alembic>=1.5.0->optuna)\n",
            "  Downloading Mako-1.3.5-py3-none-any.whl.metadata (2.9 kB)\n",
            "Requirement already satisfied: typing-extensions>=4 in /usr/local/lib/python3.10/dist-packages (from alembic>=1.5.0->optuna) (4.12.2)\n",
            "Requirement already satisfied: greenlet!=0.4.17 in /usr/local/lib/python3.10/dist-packages (from sqlalchemy>=1.3.0->optuna) (3.0.3)\n",
            "Requirement already satisfied: MarkupSafe>=0.9.2 in /usr/local/lib/python3.10/dist-packages (from Mako->alembic>=1.5.0->optuna) (2.1.5)\n",
            "Downloading optuna-3.6.1-py3-none-any.whl (380 kB)\n",
            "\u001b[2K   \u001b[90m━━━━━━━━━━━━━━━━━━━━━━━━━━━━━━━━━━━━━━━━\u001b[0m \u001b[32m380.1/380.1 kB\u001b[0m \u001b[31m10.3 MB/s\u001b[0m eta \u001b[36m0:00:00\u001b[0m\n",
            "\u001b[?25hDownloading alembic-1.13.2-py3-none-any.whl (232 kB)\n",
            "\u001b[2K   \u001b[90m━━━━━━━━━━━━━━━━━━━━━━━━━━━━━━━━━━━━━━━━\u001b[0m \u001b[32m233.0/233.0 kB\u001b[0m \u001b[31m11.9 MB/s\u001b[0m eta \u001b[36m0:00:00\u001b[0m\n",
            "\u001b[?25hDownloading colorlog-6.8.2-py3-none-any.whl (11 kB)\n",
            "Downloading Mako-1.3.5-py3-none-any.whl (78 kB)\n",
            "\u001b[2K   \u001b[90m━━━━━━━━━━━━━━━━━━━━━━━━━━━━━━━━━━━━━━━━\u001b[0m \u001b[32m78.6/78.6 kB\u001b[0m \u001b[31m2.2 MB/s\u001b[0m eta \u001b[36m0:00:00\u001b[0m\n",
            "\u001b[?25hInstalling collected packages: Mako, colorlog, alembic, optuna\n",
            "Successfully installed Mako-1.3.5 alembic-1.13.2 colorlog-6.8.2 optuna-3.6.1\n"
          ]
        }
      ]
    },
    {
      "cell_type": "code",
      "source": [
        "import optuna\n",
        "\n",
        "def objective(trial):\n",
        "\n",
        "    params = {\n",
        "        'booster': trial.suggest_categorical('booster', ['gbtree', 'gblinear']),\n",
        "        'objective': trial.suggest_categorical('objective', ['reg:squarederror',\n",
        "                                                             'reg:gamma',\n",
        "                                                             'reg:tweedie']),\n",
        "        'n_estimators': trial.suggest_int('n_estimators', 100, 1000),\n",
        "        'learning_rate': trial.suggest_float('learning_rate', 0.01, 1.0, log=True),\n",
        "        'subsample': trial.suggest_float('subsample', 0.3, 1.0),\n",
        "        'colsample_bytree': trial.suggest_float('colsample_bytree', 0.3, 1.0),\n",
        "        'max_depth': trial.suggest_int('max_depth', 1, 7),\n",
        "        'min_child_weight': trial.suggest_int('min_child_weight', 1, 7),\n",
        "        'reg_lambda': trial.suggest_float('reg_lambda', 1e-9, 100.0, log=True),\n",
        "        'reg_alpha': trial.suggest_float('reg_alpha', 1e-9, 100.0, log=True),\n",
        "    }\n",
        "\n",
        "    if params['booster'] == 'gblinear':\n",
        "        keys_to_remove = [\"colsample_bytree\", \"max_depth\", \"min_child_weight\", \"subsample\"]\n",
        "        params = {key:value for key, value in params.items() if key not in keys_to_remove}\n",
        "\n",
        "    if params['objective'] == 'reg:tweedie':\n",
        "        # Must be between in range [1, 2) - 1=poisson 2=gamma\n",
        "        params['tweedie_variance_power'] = trial.suggest_float('tweedie_variance_power', 1.01, 1.99)\n",
        "\n",
        "    xgb = XGBRegressor(**params)\n",
        "    model_pipeline = Pipeline([('processing', column_transform), ('xgb', xgb)])\n",
        "    cv_splits = cv.split(X, y=X[\"neighbourhood_more_than_30\"])\n",
        "\n",
        "    cv_scores = cross_validate(estimator=model_pipeline,\n",
        "                               X=X,\n",
        "                               y=y,\n",
        "                               scoring='neg_mean_absolute_error',\n",
        "                               cv=cv_splits)\n",
        "\n",
        "    cv_evaluation = np.mean(np.abs(cv_scores['test_score']))\n",
        "    return cv_evaluation\n",
        "\n",
        "sqlite_db = \"sqlite:///sqlite.db\"\n",
        "study_name = \"optimize_xgboost_tokyo_airbnb\"\n",
        "study = optuna.create_study(storage=sqlite_db, study_name=study_name,\n",
        "                            direction=\"minimize\", load_if_exists=True)\n",
        "\n",
        "study.optimize(objective, n_trials=100)\n",
        "print(study.best_value)\n",
        "print(study.best_params)"
      ],
      "metadata": {
        "colab": {
          "base_uri": "https://localhost:8080/"
        },
        "id": "LY3UXZgr79wN",
        "outputId": "cc057929-3924-4f85-a565-12bc682b9990"
      },
      "execution_count": 52,
      "outputs": [
        {
          "output_type": "stream",
          "name": "stderr",
          "text": [
            "[I 2024-08-03 20:36:49,088] A new study created in RDB with name: optimize_xgboost_tokyo_airbnb\n",
            "[I 2024-08-03 20:37:19,685] Trial 0 finished with value: 9223.252174838253 and parameters: {'booster': 'gbtree', 'objective': 'reg:tweedie', 'n_estimators': 282, 'learning_rate': 0.2462601051935867, 'subsample': 0.7851933059141916, 'colsample_bytree': 0.9368300264715128, 'max_depth': 2, 'min_child_weight': 4, 'reg_lambda': 0.06887512225444875, 'reg_alpha': 0.0006734151730573911, 'tweedie_variance_power': 1.3890740506607455}. Best is trial 0 with value: 9223.252174838253.\n",
            "[I 2024-08-03 20:37:33,125] Trial 1 finished with value: 18610.835739552724 and parameters: {'booster': 'gblinear', 'objective': 'reg:gamma', 'n_estimators': 947, 'learning_rate': 0.3755501251375267, 'subsample': 0.8021716412289026, 'colsample_bytree': 0.3945088833834953, 'max_depth': 1, 'min_child_weight': 2, 'reg_lambda': 0.00041793594337708205, 'reg_alpha': 7.711356347991508e-08}. Best is trial 0 with value: 9223.252174838253.\n",
            "[I 2024-08-03 20:37:35,548] Trial 2 finished with value: 13186.318262765071 and parameters: {'booster': 'gblinear', 'objective': 'reg:squarederror', 'n_estimators': 186, 'learning_rate': 0.9034037902389902, 'subsample': 0.7095571982392186, 'colsample_bytree': 0.4679449150186098, 'max_depth': 5, 'min_child_weight': 1, 'reg_lambda': 30.369704442728196, 'reg_alpha': 1.088219695661629e-09}. Best is trial 0 with value: 9223.252174838253.\n",
            "[I 2024-08-03 20:37:47,940] Trial 3 finished with value: 22949.262656944316 and parameters: {'booster': 'gblinear', 'objective': 'reg:tweedie', 'n_estimators': 649, 'learning_rate': 0.011603639253916007, 'subsample': 0.5161200351275644, 'colsample_bytree': 0.5947566743607443, 'max_depth': 6, 'min_child_weight': 7, 'reg_lambda': 0.239929735456667, 'reg_alpha': 2.1025398459309623e-06, 'tweedie_variance_power': 1.5050668903246351}. Best is trial 0 with value: 9223.252174838253.\n",
            "[I 2024-08-03 20:37:57,514] Trial 4 finished with value: 12337.796854436543 and parameters: {'booster': 'gblinear', 'objective': 'reg:tweedie', 'n_estimators': 470, 'learning_rate': 0.1226919079818944, 'subsample': 0.6481522935325992, 'colsample_bytree': 0.8709118300122074, 'max_depth': 3, 'min_child_weight': 4, 'reg_lambda': 6.004634664415996e-08, 'reg_alpha': 1.7517595251445579e-09, 'tweedie_variance_power': 1.0850439844194204}. Best is trial 0 with value: 9223.252174838253.\n",
            "[I 2024-08-03 20:38:04,709] Trial 5 finished with value: 7746.700592032554 and parameters: {'booster': 'gbtree', 'objective': 'reg:tweedie', 'n_estimators': 318, 'learning_rate': 0.039254572606127545, 'subsample': 0.8432813448032692, 'colsample_bytree': 0.43050085203577615, 'max_depth': 7, 'min_child_weight': 1, 'reg_lambda': 8.561497150973773, 'reg_alpha': 0.0008559833944135186, 'tweedie_variance_power': 1.7503659545196029}. Best is trial 5 with value: 7746.700592032554.\n",
            "[I 2024-08-03 20:38:15,501] Trial 6 finished with value: 12079.597740759202 and parameters: {'booster': 'gblinear', 'objective': 'reg:squarederror', 'n_estimators': 712, 'learning_rate': 0.5006754978983501, 'subsample': 0.8070722613220958, 'colsample_bytree': 0.7533547557836666, 'max_depth': 4, 'min_child_weight': 3, 'reg_lambda': 0.08078459792115422, 'reg_alpha': 1.913611198824534e-09}. Best is trial 5 with value: 7746.700592032554.\n",
            "[I 2024-08-03 20:38:25,199] Trial 7 finished with value: 9599.728678321591 and parameters: {'booster': 'gbtree', 'objective': 'reg:squarederror', 'n_estimators': 403, 'learning_rate': 0.01489009557843741, 'subsample': 0.5859979573691614, 'colsample_bytree': 0.6443919600578332, 'max_depth': 4, 'min_child_weight': 2, 'reg_lambda': 0.015081033680115883, 'reg_alpha': 10.346774742565312}. Best is trial 5 with value: 7746.700592032554.\n",
            "[I 2024-08-03 20:38:29,138] Trial 8 finished with value: 8232.5185760997 and parameters: {'booster': 'gbtree', 'objective': 'reg:gamma', 'n_estimators': 263, 'learning_rate': 0.07979905670220062, 'subsample': 0.6445046208484106, 'colsample_bytree': 0.8726906525756011, 'max_depth': 5, 'min_child_weight': 1, 'reg_lambda': 5.765261823539881, 'reg_alpha': 4.234752795704342e-05}. Best is trial 5 with value: 7746.700592032554.\n",
            "[I 2024-08-03 20:39:11,659] Trial 9 finished with value: 10630.362246267305 and parameters: {'booster': 'gbtree', 'objective': 'reg:squarederror', 'n_estimators': 975, 'learning_rate': 0.6131422079630058, 'subsample': 0.615081860759574, 'colsample_bytree': 0.9425332228573655, 'max_depth': 7, 'min_child_weight': 4, 'reg_lambda': 0.050876400683149865, 'reg_alpha': 2.552194912703937e-07}. Best is trial 5 with value: 7746.700592032554.\n",
            "[I 2024-08-03 20:39:13,102] Trial 10 finished with value: 26335.41868546161 and parameters: {'booster': 'gbtree', 'objective': 'reg:tweedie', 'n_estimators': 117, 'learning_rate': 0.029434343336929458, 'subsample': 0.9620274301746499, 'colsample_bytree': 0.30008028168640377, 'max_depth': 7, 'min_child_weight': 6, 'reg_lambda': 3.727594802765056e-08, 'reg_alpha': 0.05871836885575167, 'tweedie_variance_power': 1.9898287795739649}. Best is trial 5 with value: 7746.700592032554.\n",
            "[I 2024-08-03 20:39:21,047] Trial 11 finished with value: 9045.399817099853 and parameters: {'booster': 'gbtree', 'objective': 'reg:gamma', 'n_estimators': 330, 'learning_rate': 0.04941671573526789, 'subsample': 0.33807110933192097, 'colsample_bytree': 0.7654352449718387, 'max_depth': 6, 'min_child_weight': 1, 'reg_lambda': 83.2270671631533, 'reg_alpha': 0.00035869220313461506}. Best is trial 5 with value: 7746.700592032554.\n",
            "[I 2024-08-03 20:39:23,987] Trial 12 finished with value: 8297.745332708047 and parameters: {'booster': 'gbtree', 'objective': 'reg:gamma', 'n_estimators': 241, 'learning_rate': 0.08633395188631164, 'subsample': 0.9809549993969889, 'colsample_bytree': 0.5643635101982519, 'max_depth': 5, 'min_child_weight': 1, 'reg_lambda': 4.890215520490426, 'reg_alpha': 0.02846327361910032}. Best is trial 5 with value: 7746.700592032554.\n",
            "[I 2024-08-03 20:39:36,088] Trial 13 finished with value: 8028.065256197049 and parameters: {'booster': 'gbtree', 'objective': 'reg:gamma', 'n_estimators': 536, 'learning_rate': 0.03502378487893574, 'subsample': 0.4140946938736123, 'colsample_bytree': 0.47185983346466426, 'max_depth': 6, 'min_child_weight': 2, 'reg_lambda': 1.5874110213895316e-05, 'reg_alpha': 1.4496402796821716e-05}. Best is trial 5 with value: 7746.700592032554.\n",
            "[I 2024-08-03 20:39:53,037] Trial 14 finished with value: 8019.3853544468075 and parameters: {'booster': 'gbtree', 'objective': 'reg:tweedie', 'n_estimators': 587, 'learning_rate': 0.02469507018417739, 'subsample': 0.31134676427881747, 'colsample_bytree': 0.4769512142135141, 'max_depth': 7, 'min_child_weight': 2, 'reg_lambda': 4.340357237373234e-06, 'reg_alpha': 0.03591645803905424, 'tweedie_variance_power': 1.895892676519804}. Best is trial 5 with value: 7746.700592032554.\n",
            "[I 2024-08-03 20:40:17,375] Trial 15 finished with value: 7612.919112721397 and parameters: {'booster': 'gbtree', 'objective': 'reg:tweedie', 'n_estimators': 755, 'learning_rate': 0.022212371307510023, 'subsample': 0.8998737346223562, 'colsample_bytree': 0.3115406062587576, 'max_depth': 7, 'min_child_weight': 3, 'reg_lambda': 3.875113608333648e-06, 'reg_alpha': 0.12642679831127726, 'tweedie_variance_power': 1.9019942034139559}. Best is trial 15 with value: 7612.919112721397.\n",
            "[I 2024-08-03 20:40:31,953] Trial 16 finished with value: 8551.024279415014 and parameters: {'booster': 'gbtree', 'objective': 'reg:tweedie', 'n_estimators': 796, 'learning_rate': 0.016287635153212115, 'subsample': 0.8984098998593718, 'colsample_bytree': 0.3042941909240462, 'max_depth': 7, 'min_child_weight': 5, 'reg_lambda': 0.000485828948670306, 'reg_alpha': 93.17491565193545, 'tweedie_variance_power': 1.710008039163716}. Best is trial 15 with value: 7612.919112721397.\n",
            "[I 2024-08-03 20:40:48,453] Trial 17 finished with value: 6819.810389157059 and parameters: {'booster': 'gbtree', 'objective': 'reg:tweedie', 'n_estimators': 824, 'learning_rate': 0.0551776204047713, 'subsample': 0.879317069625323, 'colsample_bytree': 0.39168592424465243, 'max_depth': 6, 'min_child_weight': 3, 'reg_lambda': 1.8561326755039187e-06, 'reg_alpha': 0.7894402893061978, 'tweedie_variance_power': 1.7632645157588935}. Best is trial 17 with value: 6819.810389157059.\n",
            "[I 2024-08-03 20:41:05,337] Trial 18 finished with value: 6774.068342358117 and parameters: {'booster': 'gbtree', 'objective': 'reg:tweedie', 'n_estimators': 825, 'learning_rate': 0.1225961588860027, 'subsample': 0.8957418676641195, 'colsample_bytree': 0.3689632026036289, 'max_depth': 6, 'min_child_weight': 3, 'reg_lambda': 1.5391228439280667e-09, 'reg_alpha': 1.4178585580564824, 'tweedie_variance_power': 1.719541166963197}. Best is trial 18 with value: 6774.068342358117.\n",
            "[I 2024-08-03 20:41:15,749] Trial 19 finished with value: 7974.1394538285285 and parameters: {'booster': 'gbtree', 'objective': 'reg:tweedie', 'n_estimators': 877, 'learning_rate': 0.1697879070502228, 'subsample': 0.7259085832520469, 'colsample_bytree': 0.39810288868328364, 'max_depth': 3, 'min_child_weight': 3, 'reg_lambda': 2.3551001020162783e-09, 'reg_alpha': 1.4881831669278793, 'tweedie_variance_power': 1.574177640469876}. Best is trial 18 with value: 6774.068342358117.\n",
            "[I 2024-08-03 20:41:30,916] Trial 20 finished with value: 7098.860147119481 and parameters: {'booster': 'gbtree', 'objective': 'reg:tweedie', 'n_estimators': 883, 'learning_rate': 0.05294542264607738, 'subsample': 0.9021202649625581, 'colsample_bytree': 0.5343354969117737, 'max_depth': 5, 'min_child_weight': 5, 'reg_lambda': 1.5867809257471208e-09, 'reg_alpha': 2.311077041505862, 'tweedie_variance_power': 1.6920259325996347}. Best is trial 18 with value: 6774.068342358117.\n",
            "[I 2024-08-03 20:41:46,184] Trial 21 finished with value: 7053.505202724738 and parameters: {'booster': 'gbtree', 'objective': 'reg:tweedie', 'n_estimators': 852, 'learning_rate': 0.05947766233049628, 'subsample': 0.9053612651628257, 'colsample_bytree': 0.5419937253192316, 'max_depth': 5, 'min_child_weight': 5, 'reg_lambda': 2.6167666013669586e-09, 'reg_alpha': 0.7642849766426156, 'tweedie_variance_power': 1.684154380605423}. Best is trial 18 with value: 6774.068342358117.\n",
            "[I 2024-08-03 20:42:10,270] Trial 22 finished with value: 6676.177737303961 and parameters: {'booster': 'gbtree', 'objective': 'reg:tweedie', 'n_estimators': 867, 'learning_rate': 0.06720828147650172, 'subsample': 0.9926723040292281, 'colsample_bytree': 0.38920814851318464, 'max_depth': 6, 'min_child_weight': 5, 'reg_lambda': 7.724758753865511e-08, 'reg_alpha': 0.651766828633204, 'tweedie_variance_power': 1.7632963799578385}. Best is trial 22 with value: 6676.177737303961.\n",
            "[I 2024-08-03 20:42:23,098] Trial 23 finished with value: 7133.852147044204 and parameters: {'booster': 'gbtree', 'objective': 'reg:tweedie', 'n_estimators': 683, 'learning_rate': 0.1300900360650083, 'subsample': 0.9883224772232817, 'colsample_bytree': 0.36804316661280273, 'max_depth': 6, 'min_child_weight': 6, 'reg_lambda': 1.1592810262798679e-07, 'reg_alpha': 53.42082424739564, 'tweedie_variance_power': 1.8055945012294115}. Best is trial 22 with value: 6676.177737303961.\n",
            "[I 2024-08-03 20:42:38,885] Trial 24 finished with value: 7126.997469110403 and parameters: {'booster': 'gbtree', 'objective': 'reg:tweedie', 'n_estimators': 801, 'learning_rate': 0.2207284890068125, 'subsample': 0.8490215396874626, 'colsample_bytree': 0.34758322158461374, 'max_depth': 6, 'min_child_weight': 4, 'reg_lambda': 3.14626037347574e-07, 'reg_alpha': 0.003757922168648468, 'tweedie_variance_power': 1.5744438621530297}. Best is trial 22 with value: 6676.177737303961.\n",
            "[I 2024-08-03 20:43:02,800] Trial 25 finished with value: 6681.904996766117 and parameters: {'booster': 'gbtree', 'objective': 'reg:tweedie', 'n_estimators': 985, 'learning_rate': 0.07546250334609877, 'subsample': 0.7198942080790856, 'colsample_bytree': 0.4353372808986707, 'max_depth': 6, 'min_child_weight': 3, 'reg_lambda': 1.0341629949228591e-06, 'reg_alpha': 0.385724958884407, 'tweedie_variance_power': 1.8319247456179946}. Best is trial 22 with value: 6676.177737303961.\n",
            "[I 2024-08-03 20:43:17,908] Trial 26 finished with value: 13617.436380420273 and parameters: {'booster': 'gblinear', 'objective': 'reg:tweedie', 'n_estimators': 934, 'learning_rate': 0.07680447312283856, 'subsample': 0.7352262093570541, 'colsample_bytree': 0.48185159388942217, 'max_depth': 4, 'min_child_weight': 6, 'reg_lambda': 1.6233206554705542e-08, 'reg_alpha': 16.221157008367825, 'tweedie_variance_power': 1.3862721154911042}. Best is trial 22 with value: 6676.177737303961.\n",
            "[I 2024-08-03 20:43:41,688] Trial 27 finished with value: 6660.711071087624 and parameters: {'booster': 'gbtree', 'objective': 'reg:tweedie', 'n_estimators': 912, 'learning_rate': 0.11779193407043195, 'subsample': 0.9372961484285948, 'colsample_bytree': 0.7111661640182374, 'max_depth': 6, 'min_child_weight': 5, 'reg_lambda': 4.2412834063485094e-05, 'reg_alpha': 0.0062514601289513924, 'tweedie_variance_power': 1.8664551059096965}. Best is trial 27 with value: 6660.711071087624.\n",
            "[I 2024-08-03 20:43:58,683] Trial 28 finished with value: 7796.863524993268 and parameters: {'booster': 'gbtree', 'objective': 'reg:squarederror', 'n_estimators': 917, 'learning_rate': 0.16872854634952683, 'subsample': 0.5488116071865236, 'colsample_bytree': 0.7198375095865586, 'max_depth': 4, 'min_child_weight': 5, 'reg_lambda': 7.81643837270964e-05, 'reg_alpha': 0.0075214981271186036}. Best is trial 27 with value: 6660.711071087624.\n",
            "[I 2024-08-03 20:44:11,463] Trial 29 finished with value: 7668.838523562694 and parameters: {'booster': 'gbtree', 'objective': 'reg:tweedie', 'n_estimators': 960, 'learning_rate': 0.22157465772327792, 'subsample': 0.9560367759795709, 'colsample_bytree': 0.6861060142383612, 'max_depth': 3, 'min_child_weight': 6, 'reg_lambda': 0.002838553355552336, 'reg_alpha': 0.002436067303798037, 'tweedie_variance_power': 1.8686292132628781}. Best is trial 27 with value: 6660.711071087624.\n",
            "[I 2024-08-03 20:44:18,622] Trial 30 finished with value: 10879.416985240454 and parameters: {'booster': 'gbtree', 'objective': 'reg:tweedie', 'n_estimators': 980, 'learning_rate': 0.09811161293344793, 'subsample': 0.45357378419219185, 'colsample_bytree': 0.6475878188485114, 'max_depth': 1, 'min_child_weight': 7, 'reg_lambda': 3.2032305918984685e-05, 'reg_alpha': 0.0001051627988371583, 'tweedie_variance_power': 1.9884740632708033}. Best is trial 27 with value: 6660.711071087624.\n",
            "[I 2024-08-03 20:44:50,160] Trial 31 finished with value: 6647.025893970477 and parameters: {'booster': 'gbtree', 'objective': 'reg:tweedie', 'n_estimators': 999, 'learning_rate': 0.1211583064614242, 'subsample': 0.937083629290048, 'colsample_bytree': 0.8266731699037364, 'max_depth': 6, 'min_child_weight': 4, 'reg_lambda': 4.516992669328406e-07, 'reg_alpha': 0.20003284849047526, 'tweedie_variance_power': 1.8300823358699652}. Best is trial 31 with value: 6647.025893970477.\n",
            "[I 2024-08-03 20:45:13,204] Trial 32 finished with value: 7564.495981669888 and parameters: {'booster': 'gbtree', 'objective': 'reg:tweedie', 'n_estimators': 989, 'learning_rate': 0.33690798786683845, 'subsample': 0.7695831716226584, 'colsample_bytree': 0.8164342799173815, 'max_depth': 5, 'min_child_weight': 4, 'reg_lambda': 5.180738029744996e-07, 'reg_alpha': 0.1055509602669309, 'tweedie_variance_power': 1.8307648616526864}. Best is trial 31 with value: 6647.025893970477.\n",
            "[I 2024-08-03 20:45:44,907] Trial 33 finished with value: 6554.6661365457985 and parameters: {'booster': 'gbtree', 'objective': 'reg:tweedie', 'n_estimators': 908, 'learning_rate': 0.07106923730281753, 'subsample': 0.9323875307400527, 'colsample_bytree': 0.8803350236611379, 'max_depth': 6, 'min_child_weight': 5, 'reg_lambda': 4.701350202454787e-07, 'reg_alpha': 0.30047358342279534, 'tweedie_variance_power': 1.909268978580007}. Best is trial 33 with value: 6554.6661365457985.\n",
            "[I 2024-08-03 20:46:00,665] Trial 34 finished with value: 15562.290329156498 and parameters: {'booster': 'gblinear', 'objective': 'reg:tweedie', 'n_estimators': 916, 'learning_rate': 0.32336818685035074, 'subsample': 0.9450984474461164, 'colsample_bytree': 0.8881490877141934, 'max_depth': 6, 'min_child_weight': 5, 'reg_lambda': 0.00014108756299465328, 'reg_alpha': 0.009414487640041389, 'tweedie_variance_power': 1.9526467042222613}. Best is trial 33 with value: 6554.6661365457985.\n",
            "[I 2024-08-03 20:46:14,932] Trial 35 finished with value: 13448.676050035361 and parameters: {'booster': 'gblinear', 'objective': 'reg:tweedie', 'n_estimators': 749, 'learning_rate': 0.14797729780445226, 'subsample': 0.9415722885558179, 'colsample_bytree': 0.9860210011053047, 'max_depth': 5, 'min_child_weight': 5, 'reg_lambda': 1.8220082584801655e-08, 'reg_alpha': 0.22094911639499895, 'tweedie_variance_power': 1.9012395596567941}. Best is trial 33 with value: 6554.6661365457985.\n",
            "[I 2024-08-03 20:47:02,391] Trial 36 finished with value: 6392.895292153824 and parameters: {'booster': 'gbtree', 'objective': 'reg:tweedie', 'n_estimators': 882, 'learning_rate': 0.10265102818528561, 'subsample': 0.8365085461542442, 'colsample_bytree': 0.7908551290464058, 'max_depth': 7, 'min_child_weight': 4, 'reg_lambda': 9.104664239128319e-06, 'reg_alpha': 9.573682016461186, 'tweedie_variance_power': 1.638341247256218}. Best is trial 36 with value: 6392.895292153824.\n",
            "[I 2024-08-03 20:47:09,047] Trial 37 finished with value: 42911.23116819519 and parameters: {'booster': 'gblinear', 'objective': 'reg:gamma', 'n_estimators': 608, 'learning_rate': 0.10177332699076147, 'subsample': 0.8204562742042405, 'colsample_bytree': 0.8163282498292197, 'max_depth': 7, 'min_child_weight': 4, 'reg_lambda': 1.1142744142541499e-05, 'reg_alpha': 0.0014454131209809522}. Best is trial 36 with value: 6392.895292153824.\n",
            "[I 2024-08-03 20:47:50,784] Trial 38 finished with value: 7529.855922221868 and parameters: {'booster': 'gbtree', 'objective': 'reg:squarederror', 'n_estimators': 910, 'learning_rate': 0.27624826266251806, 'subsample': 0.7725776233061917, 'colsample_bytree': 0.8296058669491337, 'max_depth': 7, 'min_child_weight': 4, 'reg_lambda': 0.0016854429837746781, 'reg_alpha': 5.670205261299171}. Best is trial 36 with value: 6392.895292153824.\n",
            "[I 2024-08-03 20:48:27,216] Trial 39 finished with value: 6448.216503036597 and parameters: {'booster': 'gbtree', 'objective': 'reg:tweedie', 'n_estimators': 748, 'learning_rate': 0.04368473037962749, 'subsample': 0.8479520448927959, 'colsample_bytree': 0.7701027102269566, 'max_depth': 7, 'min_child_weight': 4, 'reg_lambda': 4.3100887898906604e-05, 'reg_alpha': 25.606045743230748, 'tweedie_variance_power': 1.6151164997937768}. Best is trial 36 with value: 6392.895292153824.\n",
            "[I 2024-08-03 20:48:39,961] Trial 40 finished with value: 16415.99385879456 and parameters: {'booster': 'gblinear', 'objective': 'reg:tweedie', 'n_estimators': 737, 'learning_rate': 0.039550764357952614, 'subsample': 0.8593820595248758, 'colsample_bytree': 0.9202688697961915, 'max_depth': 7, 'min_child_weight': 4, 'reg_lambda': 2.7409717455956883e-07, 'reg_alpha': 26.36403283581523, 'tweedie_variance_power': 1.606626853183891}. Best is trial 36 with value: 6392.895292153824.\n",
            "[I 2024-08-03 20:49:21,963] Trial 41 finished with value: 6389.525422576944 and parameters: {'booster': 'gbtree', 'objective': 'reg:tweedie', 'n_estimators': 784, 'learning_rate': 0.105443605960297, 'subsample': 0.9286095721918308, 'colsample_bytree': 0.7807239172195497, 'max_depth': 7, 'min_child_weight': 4, 'reg_lambda': 0.0005991030166866313, 'reg_alpha': 5.614246050759813, 'tweedie_variance_power': 1.6255202445901464}. Best is trial 41 with value: 6389.525422576944.\n",
            "[I 2024-08-03 20:49:53,108] Trial 42 finished with value: 6677.77975525641 and parameters: {'booster': 'gbtree', 'objective': 'reg:tweedie', 'n_estimators': 670, 'learning_rate': 0.18283093100739312, 'subsample': 0.814258759107326, 'colsample_bytree': 0.776709902344849, 'max_depth': 7, 'min_child_weight': 4, 'reg_lambda': 0.0003538087234196847, 'reg_alpha': 13.145253528669718, 'tweedie_variance_power': 1.6361500109671114}. Best is trial 41 with value: 6389.525422576944.\n",
            "[I 2024-08-03 20:50:33,332] Trial 43 finished with value: 6503.642776400073 and parameters: {'booster': 'gbtree', 'objective': 'reg:tweedie', 'n_estimators': 776, 'learning_rate': 0.04125065708360315, 'subsample': 0.6809202856606895, 'colsample_bytree': 0.8482128305618458, 'max_depth': 7, 'min_child_weight': 4, 'reg_lambda': 0.0019658472775421518, 'reg_alpha': 5.253716243478917, 'tweedie_variance_power': 1.3573262781405255}. Best is trial 41 with value: 6389.525422576944.\n",
            "[I 2024-08-03 20:51:05,233] Trial 44 finished with value: 6753.318728287211 and parameters: {'booster': 'gbtree', 'objective': 'reg:squarederror', 'n_estimators': 787, 'learning_rate': 0.040702208019285584, 'subsample': 0.6832535331589592, 'colsample_bytree': 0.7819234199301314, 'max_depth': 7, 'min_child_weight': 4, 'reg_lambda': 0.0049945637122009385, 'reg_alpha': 5.120176497403522}. Best is trial 41 with value: 6389.525422576944.\n",
            "[I 2024-08-03 20:51:42,673] Trial 45 finished with value: 6470.337490351047 and parameters: {'booster': 'gbtree', 'objective': 'reg:tweedie', 'n_estimators': 705, 'learning_rate': 0.04547699522854352, 'subsample': 0.7890389045354064, 'colsample_bytree': 0.8573294493931071, 'max_depth': 7, 'min_child_weight': 3, 'reg_lambda': 0.000826160657564901, 'reg_alpha': 3.8808600856325444, 'tweedie_variance_power': 1.3666443345329715}. Best is trial 41 with value: 6389.525422576944.\n",
            "[I 2024-08-03 20:51:48,099] Trial 46 finished with value: 9545.840400510056 and parameters: {'booster': 'gbtree', 'objective': 'reg:gamma', 'n_estimators': 499, 'learning_rate': 0.029319615061635808, 'subsample': 0.7873203479278061, 'colsample_bytree': 0.8511930440818517, 'max_depth': 7, 'min_child_weight': 3, 'reg_lambda': 0.3556858756303881, 'reg_alpha': 34.1587469149047}. Best is trial 41 with value: 6389.525422576944.\n",
            "[I 2024-08-03 20:52:19,900] Trial 47 finished with value: 6574.125166899905 and parameters: {'booster': 'gbtree', 'objective': 'reg:tweedie', 'n_estimators': 632, 'learning_rate': 0.04520729764475284, 'subsample': 0.6749087772658222, 'colsample_bytree': 0.7353927284651984, 'max_depth': 7, 'min_child_weight': 2, 'reg_lambda': 0.0012856415142866793, 'reg_alpha': 3.75590148042271, 'tweedie_variance_power': 1.3329673796955508}. Best is trial 41 with value: 6389.525422576944.\n",
            "[I 2024-08-03 20:52:56,829] Trial 48 finished with value: 6655.996039860731 and parameters: {'booster': 'gbtree', 'objective': 'reg:tweedie', 'n_estimators': 699, 'learning_rate': 0.03259639503800477, 'subsample': 0.6020313906336858, 'colsample_bytree': 0.928468510489525, 'max_depth': 7, 'min_child_weight': 3, 'reg_lambda': 0.013101099584906675, 'reg_alpha': 97.77197675176143, 'tweedie_variance_power': 1.466115182347361}. Best is trial 41 with value: 6389.525422576944.\n",
            "[I 2024-08-03 20:53:24,551] Trial 49 finished with value: 7033.414980915181 and parameters: {'booster': 'gbtree', 'objective': 'reg:squarederror', 'n_estimators': 723, 'learning_rate': 0.019733955576955616, 'subsample': 0.8324365789646435, 'colsample_bytree': 0.7901733797472458, 'max_depth': 7, 'min_child_weight': 4, 'reg_lambda': 0.00020344336998873486, 'reg_alpha': 1.1427975960331593e-07}. Best is trial 41 with value: 6389.525422576944.\n",
            "[I 2024-08-03 20:53:45,527] Trial 50 finished with value: 6548.122722246077 and parameters: {'booster': 'gbtree', 'objective': 'reg:gamma', 'n_estimators': 556, 'learning_rate': 0.09227136846935502, 'subsample': 0.8678926714851117, 'colsample_bytree': 0.6211237609706999, 'max_depth': 7, 'min_child_weight': 3, 'reg_lambda': 0.0006478520653573693, 'reg_alpha': 1.0444103985970281e-08}. Best is trial 41 with value: 6389.525422576944.\n",
            "[I 2024-08-03 20:54:03,246] Trial 51 finished with value: 25150.16876261722 and parameters: {'booster': 'gbtree', 'objective': 'reg:gamma', 'n_estimators': 578, 'learning_rate': 0.010743656406498284, 'subsample': 0.762182354275111, 'colsample_bytree': 0.6806307029484234, 'max_depth': 7, 'min_child_weight': 3, 'reg_lambda': 0.0007255234744535306, 'reg_alpha': 1.3096543943830193e-08}. Best is trial 41 with value: 6389.525422576944.\n",
            "[I 2024-08-03 20:54:26,596] Trial 52 finished with value: 6560.7504493359465 and parameters: {'booster': 'gbtree', 'objective': 'reg:gamma', 'n_estimators': 537, 'learning_rate': 0.09648384256297468, 'subsample': 0.8614414346714179, 'colsample_bytree': 0.5920933576750818, 'max_depth': 7, 'min_child_weight': 2, 'reg_lambda': 0.008064695233472804, 'reg_alpha': 1.3004445244311861e-05}. Best is trial 41 with value: 6389.525422576944.\n",
            "[I 2024-08-03 20:54:42,233] Trial 53 finished with value: 11664.049000401206 and parameters: {'booster': 'gbtree', 'objective': 'reg:gamma', 'n_estimators': 383, 'learning_rate': 0.02607961614164977, 'subsample': 0.8002820851836987, 'colsample_bytree': 0.9070539424285512, 'max_depth': 7, 'min_child_weight': 3, 'reg_lambda': 0.05178735089906497, 'reg_alpha': 1.9274880425691276e-06}. Best is trial 41 with value: 6389.525422576944.\n",
            "[I 2024-08-03 20:55:10,647] Trial 54 finished with value: 6532.0273862164995 and parameters: {'booster': 'gbtree', 'objective': 'reg:gamma', 'n_estimators': 762, 'learning_rate': 0.06398144329200846, 'subsample': 0.740509381917633, 'colsample_bytree': 0.7514173044444843, 'max_depth': 7, 'min_child_weight': 4, 'reg_lambda': 1.2269895467979886e-05, 'reg_alpha': 1.2205441321289615e-08}. Best is trial 41 with value: 6389.525422576944.\n",
            "[I 2024-08-03 20:55:30,123] Trial 55 finished with value: 7074.607420086417 and parameters: {'booster': 'gbtree', 'objective': 'reg:gamma', 'n_estimators': 778, 'learning_rate': 0.0640582045424665, 'subsample': 0.7501960712772212, 'colsample_bytree': 0.7526784796951311, 'max_depth': 7, 'min_child_weight': 4, 'reg_lambda': 5.683635209551303e-06, 'reg_alpha': 8.03479241036305}. Best is trial 41 with value: 6389.525422576944.\n",
            "[I 2024-08-03 20:56:19,697] Trial 56 finished with value: 6456.9867408036025 and parameters: {'booster': 'gbtree', 'objective': 'reg:tweedie', 'n_estimators': 828, 'learning_rate': 0.045048028625780084, 'subsample': 0.6967782715220429, 'colsample_bytree': 0.8571894553029913, 'max_depth': 7, 'min_child_weight': 4, 'reg_lambda': 2.032789641294004e-05, 'reg_alpha': 3.1372982725273655, 'tweedie_variance_power': 1.2713232219140054}. Best is trial 41 with value: 6389.525422576944.\n",
            "[I 2024-08-03 20:56:47,622] Trial 57 finished with value: 20234.59829931745 and parameters: {'booster': 'gbtree', 'objective': 'reg:tweedie', 'n_estimators': 831, 'learning_rate': 0.9675231548959756, 'subsample': 0.6361774965373314, 'colsample_bytree': 0.9778282287881842, 'max_depth': 6, 'min_child_weight': 4, 'reg_lambda': 6.88274182121555e-05, 'reg_alpha': 2.2101831541724137, 'tweedie_variance_power': 1.2482173336972944}. Best is trial 41 with value: 6389.525422576944.\n",
            "[I 2024-08-03 20:56:51,765] Trial 58 finished with value: 11064.684457853682 and parameters: {'booster': 'gbtree', 'objective': 'reg:tweedie', 'n_estimators': 667, 'learning_rate': 0.050201302288821886, 'subsample': 0.68748681503229, 'colsample_bytree': 0.8499936695808228, 'max_depth': 1, 'min_child_weight': 3, 'reg_lambda': 0.00011163514855486316, 'reg_alpha': 21.346211753268683, 'tweedie_variance_power': 1.2059787305278609}. Best is trial 41 with value: 6389.525422576944.\n",
            "[I 2024-08-03 20:57:05,413] Trial 59 finished with value: 17193.529156151293 and parameters: {'booster': 'gblinear', 'objective': 'reg:tweedie', 'n_estimators': 836, 'learning_rate': 0.018141457508786187, 'subsample': 0.6609263367406045, 'colsample_bytree': 0.8014664067893145, 'max_depth': 2, 'min_child_weight': 4, 'reg_lambda': 2.6149599311160997e-05, 'reg_alpha': 51.534392014548885, 'tweedie_variance_power': 1.4909581814461381}. Best is trial 41 with value: 6389.525422576944.\n",
            "[I 2024-08-03 20:57:29,997] Trial 60 finished with value: 6925.344818902844 and parameters: {'booster': 'gbtree', 'objective': 'reg:tweedie', 'n_estimators': 713, 'learning_rate': 0.03269118790037739, 'subsample': 0.7097167940209088, 'colsample_bytree': 0.8561497545298583, 'max_depth': 6, 'min_child_weight': 4, 'reg_lambda': 0.20800573919879578, 'reg_alpha': 0.028989979374389845, 'tweedie_variance_power': 1.275529848351553}. Best is trial 41 with value: 6389.525422576944.\n",
            "[I 2024-08-03 20:58:14,895] Trial 61 finished with value: 6508.151545308821 and parameters: {'booster': 'gbtree', 'objective': 'reg:tweedie', 'n_estimators': 766, 'learning_rate': 0.060576994274396626, 'subsample': 0.7928718326946896, 'colsample_bytree': 0.9541987579627965, 'max_depth': 7, 'min_child_weight': 4, 'reg_lambda': 1.074013064019849e-05, 'reg_alpha': 1.233628428845035, 'tweedie_variance_power': 1.1432505516339142}. Best is trial 41 with value: 6389.525422576944.\n",
            "[I 2024-08-03 20:58:58,224] Trial 62 finished with value: 6436.83782421465 and parameters: {'booster': 'gbtree', 'objective': 'reg:tweedie', 'n_estimators': 816, 'learning_rate': 0.04440231211677395, 'subsample': 0.7933461575869534, 'colsample_bytree': 0.9556822763319828, 'max_depth': 7, 'min_child_weight': 4, 'reg_lambda': 6.806412318826518e-06, 'reg_alpha': 1.4120007286767498, 'tweedie_variance_power': 1.1488929268843602}. Best is trial 41 with value: 6389.525422576944.\n",
            "[I 2024-08-03 20:59:06,034] Trial 63 finished with value: 2.203769572370938e+17 and parameters: {'booster': 'gbtree', 'objective': 'reg:tweedie', 'n_estimators': 809, 'learning_rate': 0.04554568171602713, 'subsample': 0.8373957256778812, 'colsample_bytree': 0.9555106373580554, 'max_depth': 7, 'min_child_weight': 5, 'reg_lambda': 1.8671042160680084e-06, 'reg_alpha': 3.5958495727868267, 'tweedie_variance_power': 1.0129049215675276}. Best is trial 41 with value: 6389.525422576944.\n",
            "[I 2024-08-03 20:59:53,935] Trial 64 finished with value: 6642.127202321775 and parameters: {'booster': 'gbtree', 'objective': 'reg:tweedie', 'n_estimators': 874, 'learning_rate': 0.02488342606927343, 'subsample': 0.6259895423812473, 'colsample_bytree': 0.8986258016108917, 'max_depth': 7, 'min_child_weight': 3, 'reg_lambda': 0.00026325700245879324, 'reg_alpha': 0.626204458448143, 'tweedie_variance_power': 1.4122509088064767}. Best is trial 41 with value: 6389.525422576944.\n",
            "[I 2024-08-03 21:00:39,729] Trial 65 finished with value: 7141.205694547735 and parameters: {'booster': 'gbtree', 'objective': 'reg:tweedie', 'n_estimators': 849, 'learning_rate': 0.012565850286653473, 'subsample': 0.885620854993603, 'colsample_bytree': 0.8424086755752106, 'max_depth': 7, 'min_child_weight': 4, 'reg_lambda': 1.6885649584686332e-06, 'reg_alpha': 12.048232370179507, 'tweedie_variance_power': 1.3233251626437663}. Best is trial 41 with value: 6389.525422576944.\n",
            "[I 2024-08-03 21:00:59,420] Trial 66 finished with value: 6983.787296262327 and parameters: {'booster': 'gbtree', 'objective': 'reg:tweedie', 'n_estimators': 648, 'learning_rate': 0.03671839664893383, 'subsample': 0.5812489161062432, 'colsample_bytree': 0.8737100414168822, 'max_depth': 6, 'min_child_weight': 3, 'reg_lambda': 4.617644894244963e-06, 'reg_alpha': 2.1604918212601403, 'tweedie_variance_power': 1.1591264710757794}. Best is trial 41 with value: 6389.525422576944.\n",
            "[I 2024-08-03 21:01:28,944] Trial 67 finished with value: 6654.9894468881375 and parameters: {'booster': 'gbtree', 'objective': 'reg:tweedie', 'n_estimators': 806, 'learning_rate': 0.05357114438458056, 'subsample': 0.9159888816097378, 'colsample_bytree': 0.802417910961028, 'max_depth': 6, 'min_child_weight': 5, 'reg_lambda': 4.9575657216420614e-05, 'reg_alpha': 0.06071483073038563, 'tweedie_variance_power': 1.5614902219231372}. Best is trial 41 with value: 6389.525422576944.\n",
            "[I 2024-08-03 21:02:02,008] Trial 68 finished with value: 6560.007709154568 and parameters: {'booster': 'gbtree', 'objective': 'reg:tweedie', 'n_estimators': 733, 'learning_rate': 0.08035286242662527, 'subsample': 0.7011331904673938, 'colsample_bytree': 0.677957479992602, 'max_depth': 7, 'min_child_weight': 4, 'reg_lambda': 0.0270605153429851, 'reg_alpha': 9.153422301849812, 'tweedie_variance_power': 1.3990800333832876}. Best is trial 41 with value: 6389.525422576944.\n",
            "[I 2024-08-03 21:02:43,305] Trial 69 finished with value: 6517.458952850675 and parameters: {'booster': 'gbtree', 'objective': 'reg:tweedie', 'n_estimators': 952, 'learning_rate': 0.04272876449446133, 'subsample': 0.8084371706348177, 'colsample_bytree': 0.7663070795589388, 'max_depth': 7, 'min_child_weight': 2, 'reg_lambda': 0.0027606953248012957, 'reg_alpha': 53.5273016633432, 'tweedie_variance_power': 1.6551700964574794}. Best is trial 41 with value: 6389.525422576944.\n",
            "[I 2024-08-03 21:03:06,457] Trial 70 finished with value: 7144.373077205343 and parameters: {'booster': 'gbtree', 'objective': 'reg:tweedie', 'n_estimators': 692, 'learning_rate': 0.029946464418828575, 'subsample': 0.8397991341444956, 'colsample_bytree': 0.7235447177627279, 'max_depth': 6, 'min_child_weight': 5, 'reg_lambda': 2.491002847101429e-05, 'reg_alpha': 0.6406332040377548, 'tweedie_variance_power': 1.530547098642051}. Best is trial 41 with value: 6389.525422576944.\n",
            "[I 2024-08-03 21:03:53,704] Trial 71 finished with value: 6431.71423708268 and parameters: {'booster': 'gbtree', 'objective': 'reg:tweedie', 'n_estimators': 785, 'learning_rate': 0.058426676569977354, 'subsample': 0.7881808158546798, 'colsample_bytree': 0.9557695713296984, 'max_depth': 7, 'min_child_weight': 4, 'reg_lambda': 9.22596898486471e-06, 'reg_alpha': 1.6508994952246312, 'tweedie_variance_power': 1.07751798483264}. Best is trial 41 with value: 6389.525422576944.\n",
            "[I 2024-08-03 21:04:25,134] Trial 72 finished with value: 6728.184751447235 and parameters: {'booster': 'gbtree', 'objective': 'reg:tweedie', 'n_estimators': 784, 'learning_rate': 0.04877557348531875, 'subsample': 0.775497264336431, 'colsample_bytree': 0.9635947656178656, 'max_depth': 7, 'min_child_weight': 4, 'reg_lambda': 7.146585110708923e-06, 'reg_alpha': 1.4053312441743613, 'tweedie_variance_power': 1.032738605486442}. Best is trial 41 with value: 6389.525422576944.\n",
            "[I 2024-08-03 21:05:18,771] Trial 73 finished with value: 6629.292253030767 and parameters: {'booster': 'gbtree', 'objective': 'reg:tweedie', 'n_estimators': 885, 'learning_rate': 0.10801229323814118, 'subsample': 0.727538094558833, 'colsample_bytree': 0.934425539933076, 'max_depth': 7, 'min_child_weight': 4, 'reg_lambda': 0.00015597757049592759, 'reg_alpha': 3.8397923149415174, 'tweedie_variance_power': 1.09426682913978}. Best is trial 41 with value: 6389.525422576944.\n",
            "[I 2024-08-03 21:06:04,244] Trial 74 finished with value: 6470.800291888945 and parameters: {'booster': 'gbtree', 'objective': 'reg:tweedie', 'n_estimators': 852, 'learning_rate': 0.057195626898430996, 'subsample': 0.7600416560502496, 'colsample_bytree': 0.9160108555020694, 'max_depth': 7, 'min_child_weight': 4, 'reg_lambda': 0.0012020621574209969, 'reg_alpha': 25.165514896405885, 'tweedie_variance_power': 1.1152903282353825}. Best is trial 41 with value: 6389.525422576944.\n",
            "[I 2024-08-03 21:06:41,871] Trial 75 finished with value: 6540.404311665511 and parameters: {'booster': 'gbtree', 'objective': 'reg:tweedie', 'n_estimators': 864, 'learning_rate': 0.07989895376398681, 'subsample': 0.8249425252263531, 'colsample_bytree': 0.9920449491438055, 'max_depth': 6, 'min_child_weight': 4, 'reg_lambda': 2.0985853730266132e-06, 'reg_alpha': 23.348702585138806, 'tweedie_variance_power': 1.0919989811064381}. Best is trial 41 with value: 6389.525422576944.\n",
            "[I 2024-08-03 21:06:55,270] Trial 76 finished with value: 12318.60529491899 and parameters: {'booster': 'gblinear', 'objective': 'reg:tweedie', 'n_estimators': 818, 'learning_rate': 0.05792466389996971, 'subsample': 0.7545374019406281, 'colsample_bytree': 0.9084307087325563, 'max_depth': 7, 'min_child_weight': 5, 'reg_lambda': 0.0008335604942403753, 'reg_alpha': 45.44682009334378, 'tweedie_variance_power': 1.1554884412395816}. Best is trial 41 with value: 6389.525422576944.\n",
            "[I 2024-08-03 21:07:01,690] Trial 77 finished with value: 8830.143574839236 and parameters: {'booster': 'gbtree', 'objective': 'reg:tweedie', 'n_estimators': 890, 'learning_rate': 0.14719789599420316, 'subsample': 0.7862917316781346, 'colsample_bytree': 0.8771649505735583, 'max_depth': 2, 'min_child_weight': 3, 'reg_lambda': 2.0180088002881878e-05, 'reg_alpha': 14.164620881497626, 'tweedie_variance_power': 1.198609188072108}. Best is trial 41 with value: 6389.525422576944.\n",
            "[I 2024-08-03 21:07:09,597] Trial 78 finished with value: 8052.851741190464 and parameters: {'booster': 'gbtree', 'objective': 'reg:squarederror', 'n_estimators': 116, 'learning_rate': 0.493506934170852, 'subsample': 0.9689842013317624, 'colsample_bytree': 0.9420446463803187, 'max_depth': 7, 'min_child_weight': 4, 'reg_lambda': 7.136386380616234e-05, 'reg_alpha': 0.1063418730372373}. Best is trial 41 with value: 6389.525422576944.\n",
            "[I 2024-08-03 21:07:35,364] Trial 79 finished with value: 7058.634232360409 and parameters: {'booster': 'gbtree', 'objective': 'reg:tweedie', 'n_estimators': 738, 'learning_rate': 0.03656854045691332, 'subsample': 0.8750045583235074, 'colsample_bytree': 0.892200821178563, 'max_depth': 6, 'min_child_weight': 5, 'reg_lambda': 3.497340322927634e-05, 'reg_alpha': 91.03508583330836, 'tweedie_variance_power': 1.0569647916942038}. Best is trial 41 with value: 6389.525422576944.\n",
            "[I 2024-08-03 21:08:29,377] Trial 80 finished with value: 6489.934519691576 and parameters: {'booster': 'gbtree', 'objective': 'reg:tweedie', 'n_estimators': 854, 'learning_rate': 0.07403348998729542, 'subsample': 0.8512884019269534, 'colsample_bytree': 0.9661864611556151, 'max_depth': 7, 'min_child_weight': 4, 'reg_lambda': 0.004306948438969645, 'reg_alpha': 1.1701888909572287, 'tweedie_variance_power': 1.1243935016709736}. Best is trial 41 with value: 6389.525422576944.\n",
            "[I 2024-08-03 21:09:16,436] Trial 81 finished with value: 6604.718030884168 and parameters: {'booster': 'gbtree', 'objective': 'reg:tweedie', 'n_estimators': 842, 'learning_rate': 0.08672202244740601, 'subsample': 0.805634766381952, 'colsample_bytree': 0.972317587366117, 'max_depth': 7, 'min_child_weight': 4, 'reg_lambda': 0.00047545708179404185, 'reg_alpha': 1.2706526168935097, 'tweedie_variance_power': 1.1213239902456442}. Best is trial 41 with value: 6389.525422576944.\n",
            "[I 2024-08-03 21:10:04,264] Trial 82 finished with value: 6433.856538181267 and parameters: {'booster': 'gbtree', 'objective': 'reg:tweedie', 'n_estimators': 811, 'learning_rate': 0.06848358823320166, 'subsample': 0.913487316343187, 'colsample_bytree': 0.9317007959046337, 'max_depth': 7, 'min_child_weight': 4, 'reg_lambda': 0.004647583493091001, 'reg_alpha': 0.41461112005865086, 'tweedie_variance_power': 1.2055045595069345}. Best is trial 41 with value: 6389.525422576944.\n",
            "[I 2024-08-03 21:10:51,226] Trial 83 finished with value: 6448.464378920272 and parameters: {'booster': 'gbtree', 'objective': 'reg:tweedie', 'n_estimators': 794, 'learning_rate': 0.052663547248129924, 'subsample': 0.8928082928279877, 'colsample_bytree': 0.9296713152939173, 'max_depth': 7, 'min_child_weight': 4, 'reg_lambda': 8.300045989598079e-07, 'reg_alpha': 0.4874332893082144, 'tweedie_variance_power': 1.2017789710105422}. Best is trial 41 with value: 6389.525422576944.\n",
            "[I 2024-08-03 21:11:37,391] Trial 84 finished with value: 6432.350240833048 and parameters: {'booster': 'gbtree', 'objective': 'reg:tweedie', 'n_estimators': 755, 'learning_rate': 0.06806422083400598, 'subsample': 0.9020235378746986, 'colsample_bytree': 0.9953032897217198, 'max_depth': 7, 'min_child_weight': 4, 'reg_lambda': 1.7599468441806402e-07, 'reg_alpha': 0.4061210643652823, 'tweedie_variance_power': 1.2481547341281007}. Best is trial 41 with value: 6389.525422576944.\n",
            "[I 2024-08-03 21:12:22,385] Trial 85 finished with value: 6454.332454176986 and parameters: {'booster': 'gbtree', 'objective': 'reg:tweedie', 'n_estimators': 796, 'learning_rate': 0.06887823050642712, 'subsample': 0.9049548493861548, 'colsample_bytree': 0.9966437675391634, 'max_depth': 7, 'min_child_weight': 4, 'reg_lambda': 8.086456715603951e-07, 'reg_alpha': 0.39354749212250334, 'tweedie_variance_power': 1.2221349101058459}. Best is trial 41 with value: 6389.525422576944.\n",
            "[I 2024-08-03 21:12:36,262] Trial 86 finished with value: 7495.363984999848 and parameters: {'booster': 'gbtree', 'objective': 'reg:tweedie', 'n_estimators': 799, 'learning_rate': 0.067644094226923, 'subsample': 0.9020497880500332, 'colsample_bytree': 0.9975022086664109, 'max_depth': 4, 'min_child_weight': 4, 'reg_lambda': 1.876697072163437e-07, 'reg_alpha': 0.3166734774600234, 'tweedie_variance_power': 1.192435821323164}. Best is trial 41 with value: 6389.525422576944.\n",
            "[I 2024-08-03 21:13:15,353] Trial 87 finished with value: 6562.436505764441 and parameters: {'booster': 'gbtree', 'objective': 'reg:tweedie', 'n_estimators': 933, 'learning_rate': 0.08820347287798909, 'subsample': 0.9302231461342869, 'colsample_bytree': 0.9996411679790049, 'max_depth': 6, 'min_child_weight': 4, 'reg_lambda': 7.81072082395653e-07, 'reg_alpha': 0.4758939057052799, 'tweedie_variance_power': 1.237746993915618}. Best is trial 41 with value: 6389.525422576944.\n",
            "[I 2024-08-03 21:13:18,753] Trial 88 finished with value: 18515.447068174126 and parameters: {'booster': 'gblinear', 'objective': 'reg:tweedie', 'n_estimators': 222, 'learning_rate': 0.11062504629786887, 'subsample': 0.9176666629013063, 'colsample_bytree': 0.9518792829063171, 'max_depth': 7, 'min_child_weight': 4, 'reg_lambda': 8.84178138197835e-08, 'reg_alpha': 0.1850000541921388, 'tweedie_variance_power': 1.6172936007195822}. Best is trial 41 with value: 6389.525422576944.\n",
            "[I 2024-08-03 21:14:00,735] Trial 89 finished with value: 6557.64306734624 and parameters: {'booster': 'gbtree', 'objective': 'reg:tweedie', 'n_estimators': 757, 'learning_rate': 0.13268482449806362, 'subsample': 0.9734228319354701, 'colsample_bytree': 0.9292777001046204, 'max_depth': 7, 'min_child_weight': 5, 'reg_lambda': 2.7332337952408274e-08, 'reg_alpha': 0.01796811217934591, 'tweedie_variance_power': 1.6845692404616968}. Best is trial 41 with value: 6389.525422576944.\n",
            "[I 2024-08-03 21:14:37,495] Trial 90 finished with value: 6649.455200494779 and parameters: {'booster': 'gbtree', 'objective': 'reg:squarederror', 'n_estimators': 790, 'learning_rate': 0.0698326106438054, 'subsample': 0.8864474423410957, 'colsample_bytree': 0.97970591644657, 'max_depth': 7, 'min_child_weight': 4, 'reg_lambda': 3.1167278076357905e-06, 'reg_alpha': 0.05642056558525286}. Best is trial 41 with value: 6389.525422576944.\n",
            "[I 2024-08-03 21:15:25,023] Trial 91 finished with value: 6439.711234535609 and parameters: {'booster': 'gbtree', 'objective': 'reg:tweedie', 'n_estimators': 833, 'learning_rate': 0.05249286011301848, 'subsample': 0.918543118833284, 'colsample_bytree': 0.9434933847806735, 'max_depth': 7, 'min_child_weight': 4, 'reg_lambda': 8.202060669112977e-07, 'reg_alpha': 2.3531129641682735, 'tweedie_variance_power': 1.2608341794853157}. Best is trial 41 with value: 6389.525422576944.\n",
            "[I 2024-08-03 21:16:16,195] Trial 92 finished with value: 6400.825943867096 and parameters: {'booster': 'gbtree', 'objective': 'reg:tweedie', 'n_estimators': 897, 'learning_rate': 0.05243109525394629, 'subsample': 0.9099987450317741, 'colsample_bytree': 0.9461103540173313, 'max_depth': 7, 'min_child_weight': 4, 'reg_lambda': 8.72493912937383e-07, 'reg_alpha': 0.17147119086890825, 'tweedie_variance_power': 1.2938496973184146}. Best is trial 41 with value: 6389.525422576944.\n",
            "[I 2024-08-03 21:17:07,736] Trial 93 finished with value: 6398.819056541439 and parameters: {'booster': 'gbtree', 'objective': 'reg:tweedie', 'n_estimators': 932, 'learning_rate': 0.05194414897482817, 'subsample': 0.9543682039798502, 'colsample_bytree': 0.9463096126500329, 'max_depth': 7, 'min_child_weight': 4, 'reg_lambda': 1.929554837646837e-07, 'reg_alpha': 0.1434939051881371, 'tweedie_variance_power': 1.2895382944984817}. Best is trial 41 with value: 6389.525422576944.\n",
            "[I 2024-08-03 21:17:57,471] Trial 94 finished with value: 6466.617255039751 and parameters: {'booster': 'gbtree', 'objective': 'reg:tweedie', 'n_estimators': 896, 'learning_rate': 0.05770969192536888, 'subsample': 0.9957148700115627, 'colsample_bytree': 0.9495137575119473, 'max_depth': 7, 'min_child_weight': 4, 'reg_lambda': 1.6607168400419575e-07, 'reg_alpha': 0.1419072315499193, 'tweedie_variance_power': 1.3032936158362491}. Best is trial 41 with value: 6389.525422576944.\n",
            "[I 2024-08-03 21:18:53,341] Trial 95 finished with value: 6464.156511157441 and parameters: {'booster': 'gbtree', 'objective': 'reg:tweedie', 'n_estimators': 925, 'learning_rate': 0.03854820390982032, 'subsample': 0.9555476134037483, 'colsample_bytree': 0.9726061612060207, 'max_depth': 7, 'min_child_weight': 4, 'reg_lambda': 3.348466790094554e-07, 'reg_alpha': 0.013934839784472826, 'tweedie_variance_power': 1.274004578573078}. Best is trial 41 with value: 6389.525422576944.\n",
            "[I 2024-08-03 21:19:44,769] Trial 96 finished with value: 6395.204495838154 and parameters: {'booster': 'gbtree', 'objective': 'reg:tweedie', 'n_estimators': 971, 'learning_rate': 0.050132169827347896, 'subsample': 0.9267722469893006, 'colsample_bytree': 0.9100013691173878, 'max_depth': 7, 'min_child_weight': 4, 'reg_lambda': 6.017348825820113e-09, 'reg_alpha': 0.9168081104809336, 'tweedie_variance_power': 1.7213543171414964}. Best is trial 41 with value: 6389.525422576944.\n",
            "[I 2024-08-03 21:20:39,680] Trial 97 finished with value: 6389.199835933243 and parameters: {'booster': 'gbtree', 'objective': 'reg:tweedie', 'n_estimators': 964, 'learning_rate': 0.050248270654634435, 'subsample': 0.92123902797313, 'colsample_bytree': 0.9127039769210571, 'max_depth': 7, 'min_child_weight': 4, 'reg_lambda': 4.590879310302508e-08, 'reg_alpha': 0.8076491083325608, 'tweedie_variance_power': 1.7177300827936384}. Best is trial 97 with value: 6389.199835933243.\n",
            "[I 2024-08-03 21:21:10,967] Trial 98 finished with value: 6601.588492387414 and parameters: {'booster': 'gbtree', 'objective': 'reg:tweedie', 'n_estimators': 976, 'learning_rate': 0.08127451977200707, 'subsample': 0.9509160499624012, 'colsample_bytree': 0.9002563200139251, 'max_depth': 6, 'min_child_weight': 5, 'reg_lambda': 1.1882720333562054e-08, 'reg_alpha': 0.089617409056176, 'tweedie_variance_power': 1.7489419258649042}. Best is trial 97 with value: 6389.199835933243.\n",
            "[I 2024-08-03 21:22:05,761] Trial 99 finished with value: 6485.411864637383 and parameters: {'booster': 'gbtree', 'objective': 'reg:tweedie', 'n_estimators': 960, 'learning_rate': 0.10180863839639649, 'subsample': 0.9802470280699938, 'colsample_bytree': 0.916600453526693, 'max_depth': 7, 'min_child_weight': 3, 'reg_lambda': 1.08448126192904e-08, 'reg_alpha': 0.25449382510937124, 'tweedie_variance_power': 1.7047729513743064}. Best is trial 97 with value: 6389.199835933243.\n"
          ]
        },
        {
          "output_type": "stream",
          "name": "stdout",
          "text": [
            "6389.199835933243\n",
            "{'booster': 'gbtree', 'objective': 'reg:tweedie', 'n_estimators': 964, 'learning_rate': 0.050248270654634435, 'subsample': 0.92123902797313, 'colsample_bytree': 0.9127039769210571, 'max_depth': 7, 'min_child_weight': 4, 'reg_lambda': 4.590879310302508e-08, 'reg_alpha': 0.8076491083325608, 'tweedie_variance_power': 1.7177300827936384}\n"
          ]
        }
      ]
    }
  ]
}