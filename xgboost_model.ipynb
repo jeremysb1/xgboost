{
  "nbformat": 4,
  "nbformat_minor": 0,
  "metadata": {
    "colab": {
      "provenance": [],
      "mount_file_id": "1_5UETGh-BboAykfCXyLDI6mgyF5JK3S4",
      "authorship_tag": "ABX9TyN88oMuiE7pYTbVInINHSzo",
      "include_colab_link": true
    },
    "kernelspec": {
      "name": "python3",
      "display_name": "Python 3"
    },
    "language_info": {
      "name": "python"
    }
  },
  "cells": [
    {
      "cell_type": "markdown",
      "metadata": {
        "id": "view-in-github",
        "colab_type": "text"
      },
      "source": [
        "<a href=\"https://colab.research.google.com/github/jeremysb1/xgboost/blob/main/xgboost_model.ipynb\" target=\"_parent\"><img src=\"https://colab.research.google.com/assets/colab-badge.svg\" alt=\"Open In Colab\"/></a>"
      ]
    },
    {
      "cell_type": "markdown",
      "source": [
        "I am building a model to predict prices using a regression-based approach with XGBoost."
      ],
      "metadata": {
        "id": "JbME15Eqmc3W"
      }
    },
    {
      "cell_type": "code",
      "execution_count": 1,
      "metadata": {
        "id": "iAq2S8tUmGsZ"
      },
      "outputs": [],
      "source": [
        "import pandas as pd\n",
        "summary_listings = pd.read_csv(\"/content/drive/MyDrive/XGBoost/listings.csv\")"
      ]
    }
  ]
}