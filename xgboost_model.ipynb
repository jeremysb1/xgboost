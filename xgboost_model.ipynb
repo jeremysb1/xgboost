{
  "nbformat": 4,
  "nbformat_minor": 0,
  "metadata": {
    "colab": {
      "provenance": [],
      "mount_file_id": "1_5UETGh-BboAykfCXyLDI6mgyF5JK3S4",
      "authorship_tag": "ABX9TyPFduZG/h7mSWDiNLBlPBum",
      "include_colab_link": true
    },
    "kernelspec": {
      "name": "python3",
      "display_name": "Python 3"
    },
    "language_info": {
      "name": "python"
    }
  },
  "cells": [
    {
      "cell_type": "markdown",
      "metadata": {
        "id": "view-in-github",
        "colab_type": "text"
      },
      "source": [
        "<a href=\"https://colab.research.google.com/github/jeremysb1/xgboost/blob/main/xgboost_model.ipynb\" target=\"_parent\"><img src=\"https://colab.research.google.com/assets/colab-badge.svg\" alt=\"Open In Colab\"/></a>"
      ]
    },
    {
      "cell_type": "markdown",
      "source": [
        "I am building a model to predict prices using a regression-based approach with XGBoost."
      ],
      "metadata": {
        "id": "JbME15Eqmc3W"
      }
    },
    {
      "cell_type": "code",
      "execution_count": 1,
      "metadata": {
        "id": "iAq2S8tUmGsZ"
      },
      "outputs": [],
      "source": [
        "import pandas as pd\n",
        "summary_listings = pd.read_csv(\"/content/drive/MyDrive/XGBoost/listings.csv\")"
      ]
    },
    {
      "cell_type": "code",
      "source": [
        "summary_listings.dtypes"
      ],
      "metadata": {
        "colab": {
          "base_uri": "https://localhost:8080/"
        },
        "id": "TWzTo8P0LBRr",
        "outputId": "dac7e565-b7da-459e-a07f-9e8c0deca208"
      },
      "execution_count": 2,
      "outputs": [
        {
          "output_type": "execute_result",
          "data": {
            "text/plain": [
              "id                                  int64\n",
              "name                               object\n",
              "host_id                             int64\n",
              "host_name                          object\n",
              "neighbourhood_group               float64\n",
              "neighbourhood                      object\n",
              "latitude                          float64\n",
              "longitude                         float64\n",
              "room_type                          object\n",
              "price                               int64\n",
              "minimum_nights                      int64\n",
              "number_of_reviews                   int64\n",
              "last_review                        object\n",
              "reviews_per_month                 float64\n",
              "calculated_host_listings_count      int64\n",
              "availability_365                    int64\n",
              "number_of_reviews_ltm               int64\n",
              "license                            object\n",
              "dtype: object"
            ]
          },
          "metadata": {},
          "execution_count": 2
        }
      ]
    },
    {
      "cell_type": "code",
      "source": [
        "summary_listings['name'].iloc[0]"
      ],
      "metadata": {
        "colab": {
          "base_uri": "https://localhost:8080/",
          "height": 35
        },
        "id": "q4AGj9YQMWp4",
        "outputId": "d8a99fa1-14c6-4620-b29d-312ac34f0b4b"
      },
      "execution_count": 3,
      "outputs": [
        {
          "output_type": "execute_result",
          "data": {
            "text/plain": [
              "'Rental unit in Sumida · ★4.77 · 1 bedroom · 2 beds · 1 bath'"
            ],
            "application/vnd.google.colaboratory.intrinsic+json": {
              "type": "string"
            }
          },
          "metadata": {},
          "execution_count": 3
        }
      ]
    },
    {
      "cell_type": "markdown",
      "source": [
        "Extracting information from text descriptions:"
      ],
      "metadata": {
        "id": "sVQVIXP2NgpX"
      }
    },
    {
      "cell_type": "code",
      "source": [
        "import re\n",
        "\n",
        "classification_list = ['aparthotel', 'barn', 'bed and breakfast', 'boutique hotel',\n",
        "                       'bungalow', 'cabin', 'camper/rv', 'chalet', 'condo', 'cottage',\n",
        "                       'earthen home', 'farm stay', 'guest suite', 'guesthouse', 'home',\n",
        "                       'hostel', 'hotel', 'houseboat', 'hut', 'loft', 'place to stay',\n",
        "                       'rental unit', 'resort', 'ryokan', 'serviced apartment',\n",
        "                       'tiny home', 'townhouse', 'treehouse', 'vacation home', 'villa']\n",
        "\n",
        "summary_listings = summary_listings.assign(\n",
        "    type_of_accommodation=(summary_listings['name']\n",
        "                           .str.extract(f\"({'|'.join(classification_list)})\",\n",
        "                                        flags=re.IGNORECASE)),\n",
        "    area_of_tokyo=(summary_listings['name']\n",
        "                   .str.extract(r'in\\s(.*?)\\s·',\n",
        "                                flags=re.IGNORECASE)),\n",
        "    score=(summary_listings['name']\n",
        "           .str.extract(r'★(\\d+\\.\\d+)', flags=re.IGNORECASE)\n",
        "           .astype(float)),\n",
        "    number_of_bedrooms=(summary_listings['name']\n",
        "                        .str.extract(r'(\\d+)\\s*(?:bedroom|bedrooms)',\n",
        "                                     flags=re.IGNORECASE)\n",
        "                        .fillna(0)\n",
        "                        .astype(int)),\n",
        "    number_of_beds=(summary_listings['name']\n",
        "                    .str.extract(r'(\\d+)\\s+(?:beds?\\b)',\n",
        "                                 flags=re.IGNORECASE)\n",
        "                    .fillna(0)\n",
        "                    .astype(int)),\n",
        "    number_of_baths=(summary_listings['name']\n",
        "                     .str.extract(r'(?P<baths>\\d+)\\s*(shared\\s+)?(?:half-)?baths?\\b',\n",
        "                                  flags=re.IGNORECASE)[\"baths\"]\n",
        "                     .fillna(0)\n",
        "                     .astype(int)),\n",
        ")"
      ],
      "metadata": {
        "id": "-B3qnrYcNkMB"
      },
      "execution_count": 4,
      "outputs": []
    },
    {
      "cell_type": "code",
      "source": [
        "import numpy as np\n",
        "from datetime import datetime\n",
        "\n",
        "summary_listings = summary_listings.assign(\n",
        "    is_new = (summary_listings['name']\n",
        "              .str.lower()\n",
        "              .str.contains('new', case=False)\n",
        "              .astype(int)),\n",
        "    is_studio = (summary_listings['name']\n",
        "                 .str.lower()\n",
        "                 .str.contains('studio', case=False)\n",
        "                 .astype(int)),\n",
        "    has_shared_bath = (summary_listings['name']\n",
        "                 .str.lower()\n",
        "                 .str.contains('shared', case=False)\n",
        "                 .astype(int)),\n",
        "    has_half_bath = (summary_listings['name']\n",
        "                 .str.lower()\n",
        "                 .str.contains('half', case=False)\n",
        "                 .astype(int)),\n",
        ")\n",
        "\n",
        "summary_listings['days_since_last_review'] = (datetime.today() - pd.to_datetime(summary_listings['last_review'])).dt.days\n",
        "summary_listings['days_since_last_review'] = (summary_listings['days_since_last_review'] -\n",
        "                                              summary_listings['days_since_last_review'].min())\n",
        "\n",
        "zero_reviews = summary_listings['number_of_reviews'] == 0\n",
        "ratio = summary_listings['number_of_reviews_ltm'] / summary_listings['number_of_reviews']\n",
        "summary_listings['number_of_reviews_ltm'] = np.where(zero_reviews, 0, ratio)"
      ],
      "metadata": {
        "id": "Z3Ng8TmyX165"
      },
      "execution_count": 5,
      "outputs": []
    },
    {
      "cell_type": "markdown",
      "source": [
        "Creating the target from daily listings:"
      ],
      "metadata": {
        "id": "AULG1_Yk2Nf2"
      }
    },
    {
      "cell_type": "code",
      "source": [
        "calendar = pd.read_csv(\"/content/drive/MyDrive/XGBoost/calendar.csv\")\n",
        "\n",
        "calendar[\"adjusted_price\"] = calendar[\"adjusted_price\"].apply(lambda x: float(x.replace('$', '').replace(',', '')))\n",
        "\n",
        "price_stats = (calendar.groupby('listing_id')['adjusted_price']\n",
        "                       .agg(['mean', 'min', 'max']))\n"
      ],
      "metadata": {
        "id": "Tk7UaAZh2OVT"
      },
      "execution_count": 6,
      "outputs": []
    },
    {
      "cell_type": "code",
      "source": [
        "price_stats.head()"
      ],
      "metadata": {
        "colab": {
          "base_uri": "https://localhost:8080/",
          "height": 238
        },
        "id": "BqtihYTY4HZS",
        "outputId": "3657fa6e-240f-4381-c722-05107803eeeb"
      },
      "execution_count": 7,
      "outputs": [
        {
          "output_type": "execute_result",
          "data": {
            "text/plain": [
              "                    mean      min      max\n",
              "listing_id                                \n",
              "197677      12000.000000  12000.0  12000.0\n",
              "776070       8902.000000   8902.0   8902.0\n",
              "905944      24680.221918  23740.0  29675.0\n",
              "1016831     20378.082192  15000.0  25000.0\n",
              "1196177     22127.671233   4500.0  30000.0"
            ],
            "text/html": [
              "\n",
              "  <div id=\"df-8d1f891f-667e-4862-af9f-c3b7a544d369\" class=\"colab-df-container\">\n",
              "    <div>\n",
              "<style scoped>\n",
              "    .dataframe tbody tr th:only-of-type {\n",
              "        vertical-align: middle;\n",
              "    }\n",
              "\n",
              "    .dataframe tbody tr th {\n",
              "        vertical-align: top;\n",
              "    }\n",
              "\n",
              "    .dataframe thead th {\n",
              "        text-align: right;\n",
              "    }\n",
              "</style>\n",
              "<table border=\"1\" class=\"dataframe\">\n",
              "  <thead>\n",
              "    <tr style=\"text-align: right;\">\n",
              "      <th></th>\n",
              "      <th>mean</th>\n",
              "      <th>min</th>\n",
              "      <th>max</th>\n",
              "    </tr>\n",
              "    <tr>\n",
              "      <th>listing_id</th>\n",
              "      <th></th>\n",
              "      <th></th>\n",
              "      <th></th>\n",
              "    </tr>\n",
              "  </thead>\n",
              "  <tbody>\n",
              "    <tr>\n",
              "      <th>197677</th>\n",
              "      <td>12000.000000</td>\n",
              "      <td>12000.0</td>\n",
              "      <td>12000.0</td>\n",
              "    </tr>\n",
              "    <tr>\n",
              "      <th>776070</th>\n",
              "      <td>8902.000000</td>\n",
              "      <td>8902.0</td>\n",
              "      <td>8902.0</td>\n",
              "    </tr>\n",
              "    <tr>\n",
              "      <th>905944</th>\n",
              "      <td>24680.221918</td>\n",
              "      <td>23740.0</td>\n",
              "      <td>29675.0</td>\n",
              "    </tr>\n",
              "    <tr>\n",
              "      <th>1016831</th>\n",
              "      <td>20378.082192</td>\n",
              "      <td>15000.0</td>\n",
              "      <td>25000.0</td>\n",
              "    </tr>\n",
              "    <tr>\n",
              "      <th>1196177</th>\n",
              "      <td>22127.671233</td>\n",
              "      <td>4500.0</td>\n",
              "      <td>30000.0</td>\n",
              "    </tr>\n",
              "  </tbody>\n",
              "</table>\n",
              "</div>\n",
              "    <div class=\"colab-df-buttons\">\n",
              "\n",
              "  <div class=\"colab-df-container\">\n",
              "    <button class=\"colab-df-convert\" onclick=\"convertToInteractive('df-8d1f891f-667e-4862-af9f-c3b7a544d369')\"\n",
              "            title=\"Convert this dataframe to an interactive table.\"\n",
              "            style=\"display:none;\">\n",
              "\n",
              "  <svg xmlns=\"http://www.w3.org/2000/svg\" height=\"24px\" viewBox=\"0 -960 960 960\">\n",
              "    <path d=\"M120-120v-720h720v720H120Zm60-500h600v-160H180v160Zm220 220h160v-160H400v160Zm0 220h160v-160H400v160ZM180-400h160v-160H180v160Zm440 0h160v-160H620v160ZM180-180h160v-160H180v160Zm440 0h160v-160H620v160Z\"/>\n",
              "  </svg>\n",
              "    </button>\n",
              "\n",
              "  <style>\n",
              "    .colab-df-container {\n",
              "      display:flex;\n",
              "      gap: 12px;\n",
              "    }\n",
              "\n",
              "    .colab-df-convert {\n",
              "      background-color: #E8F0FE;\n",
              "      border: none;\n",
              "      border-radius: 50%;\n",
              "      cursor: pointer;\n",
              "      display: none;\n",
              "      fill: #1967D2;\n",
              "      height: 32px;\n",
              "      padding: 0 0 0 0;\n",
              "      width: 32px;\n",
              "    }\n",
              "\n",
              "    .colab-df-convert:hover {\n",
              "      background-color: #E2EBFA;\n",
              "      box-shadow: 0px 1px 2px rgba(60, 64, 67, 0.3), 0px 1px 3px 1px rgba(60, 64, 67, 0.15);\n",
              "      fill: #174EA6;\n",
              "    }\n",
              "\n",
              "    .colab-df-buttons div {\n",
              "      margin-bottom: 4px;\n",
              "    }\n",
              "\n",
              "    [theme=dark] .colab-df-convert {\n",
              "      background-color: #3B4455;\n",
              "      fill: #D2E3FC;\n",
              "    }\n",
              "\n",
              "    [theme=dark] .colab-df-convert:hover {\n",
              "      background-color: #434B5C;\n",
              "      box-shadow: 0px 1px 3px 1px rgba(0, 0, 0, 0.15);\n",
              "      filter: drop-shadow(0px 1px 2px rgba(0, 0, 0, 0.3));\n",
              "      fill: #FFFFFF;\n",
              "    }\n",
              "  </style>\n",
              "\n",
              "    <script>\n",
              "      const buttonEl =\n",
              "        document.querySelector('#df-8d1f891f-667e-4862-af9f-c3b7a544d369 button.colab-df-convert');\n",
              "      buttonEl.style.display =\n",
              "        google.colab.kernel.accessAllowed ? 'block' : 'none';\n",
              "\n",
              "      async function convertToInteractive(key) {\n",
              "        const element = document.querySelector('#df-8d1f891f-667e-4862-af9f-c3b7a544d369');\n",
              "        const dataTable =\n",
              "          await google.colab.kernel.invokeFunction('convertToInteractive',\n",
              "                                                    [key], {});\n",
              "        if (!dataTable) return;\n",
              "\n",
              "        const docLinkHtml = 'Like what you see? Visit the ' +\n",
              "          '<a target=\"_blank\" href=https://colab.research.google.com/notebooks/data_table.ipynb>data table notebook</a>'\n",
              "          + ' to learn more about interactive tables.';\n",
              "        element.innerHTML = '';\n",
              "        dataTable['output_type'] = 'display_data';\n",
              "        await google.colab.output.renderOutput(dataTable, element);\n",
              "        const docLink = document.createElement('div');\n",
              "        docLink.innerHTML = docLinkHtml;\n",
              "        element.appendChild(docLink);\n",
              "      }\n",
              "    </script>\n",
              "  </div>\n",
              "\n",
              "\n",
              "<div id=\"df-73a4a3f3-47e8-4a12-98b9-5eef16393547\">\n",
              "  <button class=\"colab-df-quickchart\" onclick=\"quickchart('df-73a4a3f3-47e8-4a12-98b9-5eef16393547')\"\n",
              "            title=\"Suggest charts\"\n",
              "            style=\"display:none;\">\n",
              "\n",
              "<svg xmlns=\"http://www.w3.org/2000/svg\" height=\"24px\"viewBox=\"0 0 24 24\"\n",
              "     width=\"24px\">\n",
              "    <g>\n",
              "        <path d=\"M19 3H5c-1.1 0-2 .9-2 2v14c0 1.1.9 2 2 2h14c1.1 0 2-.9 2-2V5c0-1.1-.9-2-2-2zM9 17H7v-7h2v7zm4 0h-2V7h2v10zm4 0h-2v-4h2v4z\"/>\n",
              "    </g>\n",
              "</svg>\n",
              "  </button>\n",
              "\n",
              "<style>\n",
              "  .colab-df-quickchart {\n",
              "      --bg-color: #E8F0FE;\n",
              "      --fill-color: #1967D2;\n",
              "      --hover-bg-color: #E2EBFA;\n",
              "      --hover-fill-color: #174EA6;\n",
              "      --disabled-fill-color: #AAA;\n",
              "      --disabled-bg-color: #DDD;\n",
              "  }\n",
              "\n",
              "  [theme=dark] .colab-df-quickchart {\n",
              "      --bg-color: #3B4455;\n",
              "      --fill-color: #D2E3FC;\n",
              "      --hover-bg-color: #434B5C;\n",
              "      --hover-fill-color: #FFFFFF;\n",
              "      --disabled-bg-color: #3B4455;\n",
              "      --disabled-fill-color: #666;\n",
              "  }\n",
              "\n",
              "  .colab-df-quickchart {\n",
              "    background-color: var(--bg-color);\n",
              "    border: none;\n",
              "    border-radius: 50%;\n",
              "    cursor: pointer;\n",
              "    display: none;\n",
              "    fill: var(--fill-color);\n",
              "    height: 32px;\n",
              "    padding: 0;\n",
              "    width: 32px;\n",
              "  }\n",
              "\n",
              "  .colab-df-quickchart:hover {\n",
              "    background-color: var(--hover-bg-color);\n",
              "    box-shadow: 0 1px 2px rgba(60, 64, 67, 0.3), 0 1px 3px 1px rgba(60, 64, 67, 0.15);\n",
              "    fill: var(--button-hover-fill-color);\n",
              "  }\n",
              "\n",
              "  .colab-df-quickchart-complete:disabled,\n",
              "  .colab-df-quickchart-complete:disabled:hover {\n",
              "    background-color: var(--disabled-bg-color);\n",
              "    fill: var(--disabled-fill-color);\n",
              "    box-shadow: none;\n",
              "  }\n",
              "\n",
              "  .colab-df-spinner {\n",
              "    border: 2px solid var(--fill-color);\n",
              "    border-color: transparent;\n",
              "    border-bottom-color: var(--fill-color);\n",
              "    animation:\n",
              "      spin 1s steps(1) infinite;\n",
              "  }\n",
              "\n",
              "  @keyframes spin {\n",
              "    0% {\n",
              "      border-color: transparent;\n",
              "      border-bottom-color: var(--fill-color);\n",
              "      border-left-color: var(--fill-color);\n",
              "    }\n",
              "    20% {\n",
              "      border-color: transparent;\n",
              "      border-left-color: var(--fill-color);\n",
              "      border-top-color: var(--fill-color);\n",
              "    }\n",
              "    30% {\n",
              "      border-color: transparent;\n",
              "      border-left-color: var(--fill-color);\n",
              "      border-top-color: var(--fill-color);\n",
              "      border-right-color: var(--fill-color);\n",
              "    }\n",
              "    40% {\n",
              "      border-color: transparent;\n",
              "      border-right-color: var(--fill-color);\n",
              "      border-top-color: var(--fill-color);\n",
              "    }\n",
              "    60% {\n",
              "      border-color: transparent;\n",
              "      border-right-color: var(--fill-color);\n",
              "    }\n",
              "    80% {\n",
              "      border-color: transparent;\n",
              "      border-right-color: var(--fill-color);\n",
              "      border-bottom-color: var(--fill-color);\n",
              "    }\n",
              "    90% {\n",
              "      border-color: transparent;\n",
              "      border-bottom-color: var(--fill-color);\n",
              "    }\n",
              "  }\n",
              "</style>\n",
              "\n",
              "  <script>\n",
              "    async function quickchart(key) {\n",
              "      const quickchartButtonEl =\n",
              "        document.querySelector('#' + key + ' button');\n",
              "      quickchartButtonEl.disabled = true;  // To prevent multiple clicks.\n",
              "      quickchartButtonEl.classList.add('colab-df-spinner');\n",
              "      try {\n",
              "        const charts = await google.colab.kernel.invokeFunction(\n",
              "            'suggestCharts', [key], {});\n",
              "      } catch (error) {\n",
              "        console.error('Error during call to suggestCharts:', error);\n",
              "      }\n",
              "      quickchartButtonEl.classList.remove('colab-df-spinner');\n",
              "      quickchartButtonEl.classList.add('colab-df-quickchart-complete');\n",
              "    }\n",
              "    (() => {\n",
              "      let quickchartButtonEl =\n",
              "        document.querySelector('#df-73a4a3f3-47e8-4a12-98b9-5eef16393547 button');\n",
              "      quickchartButtonEl.style.display =\n",
              "        google.colab.kernel.accessAllowed ? 'block' : 'none';\n",
              "    })();\n",
              "  </script>\n",
              "</div>\n",
              "\n",
              "    </div>\n",
              "  </div>\n"
            ],
            "application/vnd.google.colaboratory.intrinsic+json": {
              "type": "dataframe",
              "variable_name": "price_stats",
              "summary": "{\n  \"name\": \"price_stats\",\n  \"rows\": 12233,\n  \"fields\": [\n    {\n      \"column\": \"listing_id\",\n      \"properties\": {\n        \"dtype\": \"number\",\n        \"std\": 418907431896969472,\n        \"min\": 197677,\n        \"max\": 985976243957210319,\n        \"num_unique_values\": 12233,\n        \"samples\": [\n          45659760,\n          40688341,\n          911358191906777884\n        ],\n        \"semantic_type\": \"\",\n        \"description\": \"\"\n      }\n    },\n    {\n      \"column\": \"mean\",\n      \"properties\": {\n        \"dtype\": \"number\",\n        \"std\": 94755.83343603817,\n        \"min\": 1500.0,\n        \"max\": 5202583.378082192,\n        \"num_unique_values\": 9176,\n        \"samples\": [\n          90394.52054794521,\n          11317.808219178081,\n          15869.315068493152\n        ],\n        \"semantic_type\": \"\",\n        \"description\": \"\"\n      }\n    },\n    {\n      \"column\": \"min\",\n      \"properties\": {\n        \"dtype\": \"number\",\n        \"std\": 67116.24115988036,\n        \"min\": 1484.0,\n        \"max\": 1306500.0,\n        \"num_unique_values\": 1857,\n        \"samples\": [\n          12900.0,\n          11737.0,\n          4937.0\n        ],\n        \"semantic_type\": \"\",\n        \"description\": \"\"\n      }\n    },\n    {\n      \"column\": \"max\",\n      \"properties\": {\n        \"dtype\": \"number\",\n        \"std\": 139472.4280690437,\n        \"min\": 1500.0,\n        \"max\": 7999999.0,\n        \"num_unique_values\": 1774,\n        \"samples\": [\n          55560.0,\n          145850.0,\n          51782.0\n        ],\n        \"semantic_type\": \"\",\n        \"description\": \"\"\n      }\n    }\n  ]\n}"
            }
          },
          "metadata": {},
          "execution_count": 7
        }
      ]
    },
    {
      "cell_type": "markdown",
      "source": [
        "Creating a high cardinality geographical feature:"
      ],
      "metadata": {
        "id": "cj_aP71vvZYS"
      }
    },
    {
      "cell_type": "code",
      "source": [
        "def bin_2_cat(feature, bins=32):\n",
        "    min_value = feature.min()\n",
        "    bin_size = (feature.max() - min_value) / bins\n",
        "    return ((feature - min_value) / bin_size).astype(int)\n",
        "\n",
        "summary_listings['coordinates'] = (bin_2_cat(summary_listings['latitude']) * 1000 +\n",
        "                                  bin_2_cat(summary_listings['longitude']))\n",
        "\n",
        "print(summary_listings['coordinates'].nunique())"
      ],
      "metadata": {
        "colab": {
          "base_uri": "https://localhost:8080/"
        },
        "id": "MbmPK1DtvbzG",
        "outputId": "c1c23b3e-f92f-4a4c-9ef7-08090ffec9c2"
      },
      "execution_count": 8,
      "outputs": [
        {
          "output_type": "stream",
          "name": "stdout",
          "text": [
            "325\n"
          ]
        }
      ]
    },
    {
      "cell_type": "markdown",
      "source": [
        "Creating a feature comparing the location of our Airbnb accommodation with the area of the Imperial Palace because of its importanceon real estate valuations."
      ],
      "metadata": {
        "id": "iTbHhtxMGrvL"
      }
    },
    {
      "cell_type": "code",
      "source": [
        "imperial_palace_lat = 35.6841822633\n",
        "imperial_palace_lon = 139.751471994\n",
        "\n",
        "def degrees_to_meters(distance_degrees, latitude):\n",
        "    conversion_factor = 111000\n",
        "    distance_meters = (distance_degrees * conversion_factor\n",
        "                       * np.cos(np.radians(latitude)))\n",
        "    return distance_meters\n",
        "\n",
        "distance_degrees = (np.abs(summary_listings['latitude'] - imperial_palace_lat) +\n",
        "                    np.abs(summary_listings['longitude'] - imperial_palace_lon))\n",
        "\n",
        "summary_listings['imperial_palace_distance'] = degrees_to_meters(distance_degrees,\n",
        "                                                                 summary_listings['latitude'])"
      ],
      "metadata": {
        "id": "Qm2SZRHvGwkt"
      },
      "execution_count": 9,
      "outputs": []
    },
    {
      "cell_type": "code",
      "source": [
        "summary_listings.imperial_palace_distance.mean()"
      ],
      "metadata": {
        "colab": {
          "base_uri": "https://localhost:8080/"
        },
        "id": "6Bhv8wNMKC7V",
        "outputId": "5558cbcb-01fa-4582-f77b-8a927a670911"
      },
      "execution_count": 10,
      "outputs": [
        {
          "output_type": "execute_result",
          "data": {
            "text/plain": [
              "7979.657691732742"
            ]
          },
          "metadata": {},
          "execution_count": 10
        }
      ]
    },
    {
      "cell_type": "markdown",
      "source": [
        "The average distance to the Imperial Palace is around 7,9 kilometers."
      ],
      "metadata": {
        "id": "z6r5XA15KPoz"
      }
    },
    {
      "cell_type": "markdown",
      "source": [
        "Identifying the listing that is located nearest to the Imperial Palace:"
      ],
      "metadata": {
        "id": "IRywkyRLKWL8"
      }
    },
    {
      "cell_type": "code",
      "source": [
        "(summary_listings[['id', 'name', 'neighbourhood', 'imperial_palace_distance']].iloc[np.argmin(summary_listings['imperial_palace_distance'])])"
      ],
      "metadata": {
        "id": "tqrCfXQyKR75",
        "colab": {
          "base_uri": "https://localhost:8080/"
        },
        "outputId": "19be40bc-414a-4d47-ce9d-2ba580a476bb"
      },
      "execution_count": 11,
      "outputs": [
        {
          "output_type": "execute_result",
          "data": {
            "text/plain": [
              "id                                                         874407512426725982\n",
              "name                        Home in Shibuya City · ★4.64 · 3 bedrooms · 6 ...\n",
              "neighbourhood                                                      Chiyoda Ku\n",
              "imperial_palace_distance                                           137.394271\n",
              "Name: 9883, dtype: object"
            ]
          },
          "metadata": {},
          "execution_count": 11
        }
      ]
    },
    {
      "cell_type": "markdown",
      "source": [
        "Enriching the dataset with a csv file from kaggle showing the proximity of venues adding value to an accommodation."
      ],
      "metadata": {
        "id": "VIWCFDx5f_P0"
      }
    },
    {
      "cell_type": "code",
      "source": [
        "from sklearn.neighbors import KDTree\n",
        "\n",
        "relevant_spots = pd.read_csv(\"/content/drive/MyDrive/XGBoost/relevant_spots_Tokyo.csv\")\n",
        "\n",
        "venue_categories = ['Convenience Store', 'Train Station', 'Airport', 'Bus Station', 'Subway']\n",
        "\n",
        "min_distances = {'listing_id': summary_listings['id']}\n",
        "\n",
        "for venue in venue_categories:\n",
        "    venue_filter = relevant_spots['venueCategory'] == venue\n",
        "    venues = relevant_spots[['latitude', 'longitude']][venue_filter]\n",
        "    tree = KDTree(venues, metric='manhattan')\n",
        "    distance, index = tree.query(summary_listings[['latitude', 'longitude']], k=1)\n",
        "    min_distances['nearest_' + venue.lower().replace(\" \", \"_\")] = degrees_to_meters(np.ravel(distance), summary_listings['latitude'])\n",
        "\n",
        "min_distances = pd.DataFrame(min_distances)"
      ],
      "metadata": {
        "id": "Fng9nnF7gKJK"
      },
      "execution_count": 12,
      "outputs": []
    },
    {
      "cell_type": "code",
      "source": [
        "min_distances.head()"
      ],
      "metadata": {
        "colab": {
          "base_uri": "https://localhost:8080/",
          "height": 206
        },
        "id": "Jh7-gVzIGep0",
        "outputId": "6bbd4378-61d7-4b54-fd95-9a51a0fdc6e6"
      },
      "execution_count": 13,
      "outputs": [
        {
          "output_type": "execute_result",
          "data": {
            "text/plain": [
              "   listing_id  nearest_convenience_store  nearest_train_station  \\\n",
              "0      197677                 475.837692             666.488917   \n",
              "1      776070                 114.974697             384.929313   \n",
              "2      905944                 155.409734             268.125319   \n",
              "3     1016831                 389.067861             377.813210   \n",
              "4     1196177                 838.151520             243.734144   \n",
              "\n",
              "   nearest_airport  nearest_bus_station  nearest_subway  \n",
              "0      8326.122756           829.211343     1733.788985  \n",
              "1      5430.623850           453.968550      784.313916  \n",
              "2      2929.393383           783.601883      999.752343  \n",
              "3      2914.601177           365.480803     1764.993415  \n",
              "4      8538.784439           732.718147     1084.853768  "
            ],
            "text/html": [
              "\n",
              "  <div id=\"df-3cc763ca-9f95-48f3-8202-16e5a616c35f\" class=\"colab-df-container\">\n",
              "    <div>\n",
              "<style scoped>\n",
              "    .dataframe tbody tr th:only-of-type {\n",
              "        vertical-align: middle;\n",
              "    }\n",
              "\n",
              "    .dataframe tbody tr th {\n",
              "        vertical-align: top;\n",
              "    }\n",
              "\n",
              "    .dataframe thead th {\n",
              "        text-align: right;\n",
              "    }\n",
              "</style>\n",
              "<table border=\"1\" class=\"dataframe\">\n",
              "  <thead>\n",
              "    <tr style=\"text-align: right;\">\n",
              "      <th></th>\n",
              "      <th>listing_id</th>\n",
              "      <th>nearest_convenience_store</th>\n",
              "      <th>nearest_train_station</th>\n",
              "      <th>nearest_airport</th>\n",
              "      <th>nearest_bus_station</th>\n",
              "      <th>nearest_subway</th>\n",
              "    </tr>\n",
              "  </thead>\n",
              "  <tbody>\n",
              "    <tr>\n",
              "      <th>0</th>\n",
              "      <td>197677</td>\n",
              "      <td>475.837692</td>\n",
              "      <td>666.488917</td>\n",
              "      <td>8326.122756</td>\n",
              "      <td>829.211343</td>\n",
              "      <td>1733.788985</td>\n",
              "    </tr>\n",
              "    <tr>\n",
              "      <th>1</th>\n",
              "      <td>776070</td>\n",
              "      <td>114.974697</td>\n",
              "      <td>384.929313</td>\n",
              "      <td>5430.623850</td>\n",
              "      <td>453.968550</td>\n",
              "      <td>784.313916</td>\n",
              "    </tr>\n",
              "    <tr>\n",
              "      <th>2</th>\n",
              "      <td>905944</td>\n",
              "      <td>155.409734</td>\n",
              "      <td>268.125319</td>\n",
              "      <td>2929.393383</td>\n",
              "      <td>783.601883</td>\n",
              "      <td>999.752343</td>\n",
              "    </tr>\n",
              "    <tr>\n",
              "      <th>3</th>\n",
              "      <td>1016831</td>\n",
              "      <td>389.067861</td>\n",
              "      <td>377.813210</td>\n",
              "      <td>2914.601177</td>\n",
              "      <td>365.480803</td>\n",
              "      <td>1764.993415</td>\n",
              "    </tr>\n",
              "    <tr>\n",
              "      <th>4</th>\n",
              "      <td>1196177</td>\n",
              "      <td>838.151520</td>\n",
              "      <td>243.734144</td>\n",
              "      <td>8538.784439</td>\n",
              "      <td>732.718147</td>\n",
              "      <td>1084.853768</td>\n",
              "    </tr>\n",
              "  </tbody>\n",
              "</table>\n",
              "</div>\n",
              "    <div class=\"colab-df-buttons\">\n",
              "\n",
              "  <div class=\"colab-df-container\">\n",
              "    <button class=\"colab-df-convert\" onclick=\"convertToInteractive('df-3cc763ca-9f95-48f3-8202-16e5a616c35f')\"\n",
              "            title=\"Convert this dataframe to an interactive table.\"\n",
              "            style=\"display:none;\">\n",
              "\n",
              "  <svg xmlns=\"http://www.w3.org/2000/svg\" height=\"24px\" viewBox=\"0 -960 960 960\">\n",
              "    <path d=\"M120-120v-720h720v720H120Zm60-500h600v-160H180v160Zm220 220h160v-160H400v160Zm0 220h160v-160H400v160ZM180-400h160v-160H180v160Zm440 0h160v-160H620v160ZM180-180h160v-160H180v160Zm440 0h160v-160H620v160Z\"/>\n",
              "  </svg>\n",
              "    </button>\n",
              "\n",
              "  <style>\n",
              "    .colab-df-container {\n",
              "      display:flex;\n",
              "      gap: 12px;\n",
              "    }\n",
              "\n",
              "    .colab-df-convert {\n",
              "      background-color: #E8F0FE;\n",
              "      border: none;\n",
              "      border-radius: 50%;\n",
              "      cursor: pointer;\n",
              "      display: none;\n",
              "      fill: #1967D2;\n",
              "      height: 32px;\n",
              "      padding: 0 0 0 0;\n",
              "      width: 32px;\n",
              "    }\n",
              "\n",
              "    .colab-df-convert:hover {\n",
              "      background-color: #E2EBFA;\n",
              "      box-shadow: 0px 1px 2px rgba(60, 64, 67, 0.3), 0px 1px 3px 1px rgba(60, 64, 67, 0.15);\n",
              "      fill: #174EA6;\n",
              "    }\n",
              "\n",
              "    .colab-df-buttons div {\n",
              "      margin-bottom: 4px;\n",
              "    }\n",
              "\n",
              "    [theme=dark] .colab-df-convert {\n",
              "      background-color: #3B4455;\n",
              "      fill: #D2E3FC;\n",
              "    }\n",
              "\n",
              "    [theme=dark] .colab-df-convert:hover {\n",
              "      background-color: #434B5C;\n",
              "      box-shadow: 0px 1px 3px 1px rgba(0, 0, 0, 0.15);\n",
              "      filter: drop-shadow(0px 1px 2px rgba(0, 0, 0, 0.3));\n",
              "      fill: #FFFFFF;\n",
              "    }\n",
              "  </style>\n",
              "\n",
              "    <script>\n",
              "      const buttonEl =\n",
              "        document.querySelector('#df-3cc763ca-9f95-48f3-8202-16e5a616c35f button.colab-df-convert');\n",
              "      buttonEl.style.display =\n",
              "        google.colab.kernel.accessAllowed ? 'block' : 'none';\n",
              "\n",
              "      async function convertToInteractive(key) {\n",
              "        const element = document.querySelector('#df-3cc763ca-9f95-48f3-8202-16e5a616c35f');\n",
              "        const dataTable =\n",
              "          await google.colab.kernel.invokeFunction('convertToInteractive',\n",
              "                                                    [key], {});\n",
              "        if (!dataTable) return;\n",
              "\n",
              "        const docLinkHtml = 'Like what you see? Visit the ' +\n",
              "          '<a target=\"_blank\" href=https://colab.research.google.com/notebooks/data_table.ipynb>data table notebook</a>'\n",
              "          + ' to learn more about interactive tables.';\n",
              "        element.innerHTML = '';\n",
              "        dataTable['output_type'] = 'display_data';\n",
              "        await google.colab.output.renderOutput(dataTable, element);\n",
              "        const docLink = document.createElement('div');\n",
              "        docLink.innerHTML = docLinkHtml;\n",
              "        element.appendChild(docLink);\n",
              "      }\n",
              "    </script>\n",
              "  </div>\n",
              "\n",
              "\n",
              "<div id=\"df-7ef3433f-7474-40fa-8f61-d680332f1068\">\n",
              "  <button class=\"colab-df-quickchart\" onclick=\"quickchart('df-7ef3433f-7474-40fa-8f61-d680332f1068')\"\n",
              "            title=\"Suggest charts\"\n",
              "            style=\"display:none;\">\n",
              "\n",
              "<svg xmlns=\"http://www.w3.org/2000/svg\" height=\"24px\"viewBox=\"0 0 24 24\"\n",
              "     width=\"24px\">\n",
              "    <g>\n",
              "        <path d=\"M19 3H5c-1.1 0-2 .9-2 2v14c0 1.1.9 2 2 2h14c1.1 0 2-.9 2-2V5c0-1.1-.9-2-2-2zM9 17H7v-7h2v7zm4 0h-2V7h2v10zm4 0h-2v-4h2v4z\"/>\n",
              "    </g>\n",
              "</svg>\n",
              "  </button>\n",
              "\n",
              "<style>\n",
              "  .colab-df-quickchart {\n",
              "      --bg-color: #E8F0FE;\n",
              "      --fill-color: #1967D2;\n",
              "      --hover-bg-color: #E2EBFA;\n",
              "      --hover-fill-color: #174EA6;\n",
              "      --disabled-fill-color: #AAA;\n",
              "      --disabled-bg-color: #DDD;\n",
              "  }\n",
              "\n",
              "  [theme=dark] .colab-df-quickchart {\n",
              "      --bg-color: #3B4455;\n",
              "      --fill-color: #D2E3FC;\n",
              "      --hover-bg-color: #434B5C;\n",
              "      --hover-fill-color: #FFFFFF;\n",
              "      --disabled-bg-color: #3B4455;\n",
              "      --disabled-fill-color: #666;\n",
              "  }\n",
              "\n",
              "  .colab-df-quickchart {\n",
              "    background-color: var(--bg-color);\n",
              "    border: none;\n",
              "    border-radius: 50%;\n",
              "    cursor: pointer;\n",
              "    display: none;\n",
              "    fill: var(--fill-color);\n",
              "    height: 32px;\n",
              "    padding: 0;\n",
              "    width: 32px;\n",
              "  }\n",
              "\n",
              "  .colab-df-quickchart:hover {\n",
              "    background-color: var(--hover-bg-color);\n",
              "    box-shadow: 0 1px 2px rgba(60, 64, 67, 0.3), 0 1px 3px 1px rgba(60, 64, 67, 0.15);\n",
              "    fill: var(--button-hover-fill-color);\n",
              "  }\n",
              "\n",
              "  .colab-df-quickchart-complete:disabled,\n",
              "  .colab-df-quickchart-complete:disabled:hover {\n",
              "    background-color: var(--disabled-bg-color);\n",
              "    fill: var(--disabled-fill-color);\n",
              "    box-shadow: none;\n",
              "  }\n",
              "\n",
              "  .colab-df-spinner {\n",
              "    border: 2px solid var(--fill-color);\n",
              "    border-color: transparent;\n",
              "    border-bottom-color: var(--fill-color);\n",
              "    animation:\n",
              "      spin 1s steps(1) infinite;\n",
              "  }\n",
              "\n",
              "  @keyframes spin {\n",
              "    0% {\n",
              "      border-color: transparent;\n",
              "      border-bottom-color: var(--fill-color);\n",
              "      border-left-color: var(--fill-color);\n",
              "    }\n",
              "    20% {\n",
              "      border-color: transparent;\n",
              "      border-left-color: var(--fill-color);\n",
              "      border-top-color: var(--fill-color);\n",
              "    }\n",
              "    30% {\n",
              "      border-color: transparent;\n",
              "      border-left-color: var(--fill-color);\n",
              "      border-top-color: var(--fill-color);\n",
              "      border-right-color: var(--fill-color);\n",
              "    }\n",
              "    40% {\n",
              "      border-color: transparent;\n",
              "      border-right-color: var(--fill-color);\n",
              "      border-top-color: var(--fill-color);\n",
              "    }\n",
              "    60% {\n",
              "      border-color: transparent;\n",
              "      border-right-color: var(--fill-color);\n",
              "    }\n",
              "    80% {\n",
              "      border-color: transparent;\n",
              "      border-right-color: var(--fill-color);\n",
              "      border-bottom-color: var(--fill-color);\n",
              "    }\n",
              "    90% {\n",
              "      border-color: transparent;\n",
              "      border-bottom-color: var(--fill-color);\n",
              "    }\n",
              "  }\n",
              "</style>\n",
              "\n",
              "  <script>\n",
              "    async function quickchart(key) {\n",
              "      const quickchartButtonEl =\n",
              "        document.querySelector('#' + key + ' button');\n",
              "      quickchartButtonEl.disabled = true;  // To prevent multiple clicks.\n",
              "      quickchartButtonEl.classList.add('colab-df-spinner');\n",
              "      try {\n",
              "        const charts = await google.colab.kernel.invokeFunction(\n",
              "            'suggestCharts', [key], {});\n",
              "      } catch (error) {\n",
              "        console.error('Error during call to suggestCharts:', error);\n",
              "      }\n",
              "      quickchartButtonEl.classList.remove('colab-df-spinner');\n",
              "      quickchartButtonEl.classList.add('colab-df-quickchart-complete');\n",
              "    }\n",
              "    (() => {\n",
              "      let quickchartButtonEl =\n",
              "        document.querySelector('#df-7ef3433f-7474-40fa-8f61-d680332f1068 button');\n",
              "      quickchartButtonEl.style.display =\n",
              "        google.colab.kernel.accessAllowed ? 'block' : 'none';\n",
              "    })();\n",
              "  </script>\n",
              "</div>\n",
              "\n",
              "    </div>\n",
              "  </div>\n"
            ],
            "application/vnd.google.colaboratory.intrinsic+json": {
              "type": "dataframe",
              "variable_name": "min_distances",
              "summary": "{\n  \"name\": \"min_distances\",\n  \"rows\": 12234,\n  \"fields\": [\n    {\n      \"column\": \"listing_id\",\n      \"properties\": {\n        \"dtype\": \"number\",\n        \"std\": 418901211062636160,\n        \"min\": 197677,\n        \"max\": 985976243957210319,\n        \"num_unique_values\": 12234,\n        \"samples\": [\n          873566792463359402,\n          942589052879944516,\n          873568560033414421\n        ],\n        \"semantic_type\": \"\",\n        \"description\": \"\"\n      }\n    },\n    {\n      \"column\": \"nearest_convenience_store\",\n      \"properties\": {\n        \"dtype\": \"number\",\n        \"std\": 1572.1812046308125,\n        \"min\": 1.233024174498056,\n        \"max\": 35772.512867148616,\n        \"num_unique_values\": 11167,\n        \"samples\": [\n          187.23378427963706,\n          213.0012152404515,\n          170.7320529206844\n        ],\n        \"semantic_type\": \"\",\n        \"description\": \"\"\n      }\n    },\n    {\n      \"column\": \"nearest_train_station\",\n      \"properties\": {\n        \"dtype\": \"number\",\n        \"std\": 1604.3815680391056,\n        \"min\": 2.1430159907027817,\n        \"max\": 35898.021892628974,\n        \"num_unique_values\": 11167,\n        \"samples\": [\n          822.6959768503057,\n          250.2036397691806,\n          387.8591066713095\n        ],\n        \"semantic_type\": \"\",\n        \"description\": \"\"\n      }\n    },\n    {\n      \"column\": \"nearest_airport\",\n      \"properties\": {\n        \"dtype\": \"number\",\n        \"std\": 3269.8852205065273,\n        \"min\": 56.36617443732709,\n        \"max\": 48209.41204397507,\n        \"num_unique_values\": 11167,\n        \"samples\": [\n          3657.008847717162,\n          1824.9250404927861,\n          5634.990493326576\n        ],\n        \"semantic_type\": \"\",\n        \"description\": \"\"\n      }\n    },\n    {\n      \"column\": \"nearest_bus_station\",\n      \"properties\": {\n        \"dtype\": \"number\",\n        \"std\": 1669.3177998025903,\n        \"min\": 6.378559864549455,\n        \"max\": 38336.00716817935,\n        \"num_unique_values\": 11167,\n        \"samples\": [\n          101.04995239128905,\n          390.8720671096348,\n          343.28190954133134\n        ],\n        \"semantic_type\": \"\",\n        \"description\": \"\"\n      }\n    },\n    {\n      \"column\": \"nearest_subway\",\n      \"properties\": {\n        \"dtype\": \"number\",\n        \"std\": 3005.5846491407383,\n        \"min\": 7.132941236483565,\n        \"max\": 45421.08491166745,\n        \"num_unique_values\": 11167,\n        \"samples\": [\n          234.39607827168965,\n          832.8973552430416,\n          669.7088043054221\n        ],\n        \"semantic_type\": \"\",\n        \"description\": \"\"\n      }\n    }\n  ]\n}"
            }
          },
          "metadata": {},
          "execution_count": 13
        }
      ]
    },
    {
      "cell_type": "markdown",
      "source": [
        "Finalizing the predictive features and their target:"
      ],
      "metadata": {
        "id": "KqJZKSMqJAXY"
      }
    },
    {
      "cell_type": "code",
      "source": [
        "summary_listings_features = [\n",
        "    'neighbourhood',\n",
        "    'coordinates',\n",
        "    'room_type',\n",
        "    'minimum_nights', 'number_of_reviews', 'days_since_last_review',\n",
        "    'reviews_per_month', 'calculated_host_listings_count',\n",
        "    'availability_365', 'number_of_reviews_ltm',\n",
        "    'number_of_bedrooms', 'number_of_beds', 'number_of_baths',\n",
        "    'type_of_accommodation', 'score', 'is_new',\n",
        "    'is_studio', 'has_shared_bath', 'has_half_bath',\n",
        "    'imperial_palace_distance'\n",
        "]\n",
        "\n",
        "summarized = summary_listings[['id'] + summary_listings_features].rename({'id': 'listing_id'}, axis=1)\n",
        "\n",
        "X = summarized.merge(min_distances, on='listing_id').set_index('listing_id')\n",
        "\n",
        "X = X.reindex(price_stats.index)\n",
        "price_stats_ordered = price_stats.reindex(X.index)\n",
        "y = price_stats_ordered['mean'].copy()"
      ],
      "metadata": {
        "id": "rJi1gLNsJEGK"
      },
      "execution_count": 14,
      "outputs": []
    },
    {
      "cell_type": "code",
      "source": [
        "X.head()"
      ],
      "metadata": {
        "colab": {
          "base_uri": "https://localhost:8080/",
          "height": 374
        },
        "id": "zqtftgUTMKeT",
        "outputId": "c40e0625-8b7a-4da9-ffa2-eb3454cc10be"
      },
      "execution_count": 15,
      "outputs": [
        {
          "output_type": "execute_result",
          "data": {
            "text/plain": [
              "           neighbourhood  coordinates        room_type  minimum_nights  \\\n",
              "listing_id                                                               \n",
              "197677         Sumida Ku        20028  Entire home/apt               3   \n",
              "776070           Kita Ku        22026     Private room               3   \n",
              "905944        Shibuya Ku        16022  Entire home/apt               3   \n",
              "1016831      Setagaya Ku        14022     Private room              30   \n",
              "1196177        Adachi Ku        23027     Private room               2   \n",
              "\n",
              "            number_of_reviews  days_since_last_review  reviews_per_month  \\\n",
              "listing_id                                                                 \n",
              "197677                    174                    42.0               1.19   \n",
              "776070                    248                    28.0               1.88   \n",
              "905944                    194                    13.0               1.52   \n",
              "1016831                   256                     6.0               2.01   \n",
              "1196177                   100                     5.0               0.81   \n",
              "\n",
              "            calculated_host_listings_count  availability_365  \\\n",
              "listing_id                                                     \n",
              "197677                                   1                39   \n",
              "776070                                   1               116   \n",
              "905944                                   5               166   \n",
              "1016831                                  1                53   \n",
              "1196177                                  1               112   \n",
              "\n",
              "            number_of_reviews_ltm  ...  is_new  is_studio  has_shared_bath  \\\n",
              "listing_id                         ...                                       \n",
              "197677                   0.045977  ...       0          0                0   \n",
              "776070                   0.072581  ...       0          0                1   \n",
              "905944                   0.046392  ...       0          0                0   \n",
              "1016831                  0.175781  ...       0          0                1   \n",
              "1196177                  0.050000  ...       0          0                1   \n",
              "\n",
              "           has_half_bath  imperial_palace_distance  nearest_convenience_store  \\\n",
              "listing_id                                                                      \n",
              "197677                 0               9687.728076                 475.837692   \n",
              "776070                 0               6483.053730                 114.974697   \n",
              "905944                 0               7069.339820                 155.409734   \n",
              "1016831                0               9588.347677                 389.067861   \n",
              "1196177                0               9591.131160                 838.151520   \n",
              "\n",
              "            nearest_train_station  nearest_airport  nearest_bus_station  \\\n",
              "listing_id                                                                \n",
              "197677                 666.488917      8326.122756           829.211343   \n",
              "776070                 384.929313      5430.623850           453.968550   \n",
              "905944                 268.125319      2929.393383           783.601883   \n",
              "1016831                377.813210      2914.601177           365.480803   \n",
              "1196177                243.734144      8538.784439           732.718147   \n",
              "\n",
              "            nearest_subway  \n",
              "listing_id                  \n",
              "197677         1733.788985  \n",
              "776070          784.313916  \n",
              "905944          999.752343  \n",
              "1016831        1764.993415  \n",
              "1196177        1084.853768  \n",
              "\n",
              "[5 rows x 25 columns]"
            ],
            "text/html": [
              "\n",
              "  <div id=\"df-ec8b54c0-7683-4eca-ac22-515ae7577b34\" class=\"colab-df-container\">\n",
              "    <div>\n",
              "<style scoped>\n",
              "    .dataframe tbody tr th:only-of-type {\n",
              "        vertical-align: middle;\n",
              "    }\n",
              "\n",
              "    .dataframe tbody tr th {\n",
              "        vertical-align: top;\n",
              "    }\n",
              "\n",
              "    .dataframe thead th {\n",
              "        text-align: right;\n",
              "    }\n",
              "</style>\n",
              "<table border=\"1\" class=\"dataframe\">\n",
              "  <thead>\n",
              "    <tr style=\"text-align: right;\">\n",
              "      <th></th>\n",
              "      <th>neighbourhood</th>\n",
              "      <th>coordinates</th>\n",
              "      <th>room_type</th>\n",
              "      <th>minimum_nights</th>\n",
              "      <th>number_of_reviews</th>\n",
              "      <th>days_since_last_review</th>\n",
              "      <th>reviews_per_month</th>\n",
              "      <th>calculated_host_listings_count</th>\n",
              "      <th>availability_365</th>\n",
              "      <th>number_of_reviews_ltm</th>\n",
              "      <th>...</th>\n",
              "      <th>is_new</th>\n",
              "      <th>is_studio</th>\n",
              "      <th>has_shared_bath</th>\n",
              "      <th>has_half_bath</th>\n",
              "      <th>imperial_palace_distance</th>\n",
              "      <th>nearest_convenience_store</th>\n",
              "      <th>nearest_train_station</th>\n",
              "      <th>nearest_airport</th>\n",
              "      <th>nearest_bus_station</th>\n",
              "      <th>nearest_subway</th>\n",
              "    </tr>\n",
              "    <tr>\n",
              "      <th>listing_id</th>\n",
              "      <th></th>\n",
              "      <th></th>\n",
              "      <th></th>\n",
              "      <th></th>\n",
              "      <th></th>\n",
              "      <th></th>\n",
              "      <th></th>\n",
              "      <th></th>\n",
              "      <th></th>\n",
              "      <th></th>\n",
              "      <th></th>\n",
              "      <th></th>\n",
              "      <th></th>\n",
              "      <th></th>\n",
              "      <th></th>\n",
              "      <th></th>\n",
              "      <th></th>\n",
              "      <th></th>\n",
              "      <th></th>\n",
              "      <th></th>\n",
              "      <th></th>\n",
              "    </tr>\n",
              "  </thead>\n",
              "  <tbody>\n",
              "    <tr>\n",
              "      <th>197677</th>\n",
              "      <td>Sumida Ku</td>\n",
              "      <td>20028</td>\n",
              "      <td>Entire home/apt</td>\n",
              "      <td>3</td>\n",
              "      <td>174</td>\n",
              "      <td>42.0</td>\n",
              "      <td>1.19</td>\n",
              "      <td>1</td>\n",
              "      <td>39</td>\n",
              "      <td>0.045977</td>\n",
              "      <td>...</td>\n",
              "      <td>0</td>\n",
              "      <td>0</td>\n",
              "      <td>0</td>\n",
              "      <td>0</td>\n",
              "      <td>9687.728076</td>\n",
              "      <td>475.837692</td>\n",
              "      <td>666.488917</td>\n",
              "      <td>8326.122756</td>\n",
              "      <td>829.211343</td>\n",
              "      <td>1733.788985</td>\n",
              "    </tr>\n",
              "    <tr>\n",
              "      <th>776070</th>\n",
              "      <td>Kita Ku</td>\n",
              "      <td>22026</td>\n",
              "      <td>Private room</td>\n",
              "      <td>3</td>\n",
              "      <td>248</td>\n",
              "      <td>28.0</td>\n",
              "      <td>1.88</td>\n",
              "      <td>1</td>\n",
              "      <td>116</td>\n",
              "      <td>0.072581</td>\n",
              "      <td>...</td>\n",
              "      <td>0</td>\n",
              "      <td>0</td>\n",
              "      <td>1</td>\n",
              "      <td>0</td>\n",
              "      <td>6483.053730</td>\n",
              "      <td>114.974697</td>\n",
              "      <td>384.929313</td>\n",
              "      <td>5430.623850</td>\n",
              "      <td>453.968550</td>\n",
              "      <td>784.313916</td>\n",
              "    </tr>\n",
              "    <tr>\n",
              "      <th>905944</th>\n",
              "      <td>Shibuya Ku</td>\n",
              "      <td>16022</td>\n",
              "      <td>Entire home/apt</td>\n",
              "      <td>3</td>\n",
              "      <td>194</td>\n",
              "      <td>13.0</td>\n",
              "      <td>1.52</td>\n",
              "      <td>5</td>\n",
              "      <td>166</td>\n",
              "      <td>0.046392</td>\n",
              "      <td>...</td>\n",
              "      <td>0</td>\n",
              "      <td>0</td>\n",
              "      <td>0</td>\n",
              "      <td>0</td>\n",
              "      <td>7069.339820</td>\n",
              "      <td>155.409734</td>\n",
              "      <td>268.125319</td>\n",
              "      <td>2929.393383</td>\n",
              "      <td>783.601883</td>\n",
              "      <td>999.752343</td>\n",
              "    </tr>\n",
              "    <tr>\n",
              "      <th>1016831</th>\n",
              "      <td>Setagaya Ku</td>\n",
              "      <td>14022</td>\n",
              "      <td>Private room</td>\n",
              "      <td>30</td>\n",
              "      <td>256</td>\n",
              "      <td>6.0</td>\n",
              "      <td>2.01</td>\n",
              "      <td>1</td>\n",
              "      <td>53</td>\n",
              "      <td>0.175781</td>\n",
              "      <td>...</td>\n",
              "      <td>0</td>\n",
              "      <td>0</td>\n",
              "      <td>1</td>\n",
              "      <td>0</td>\n",
              "      <td>9588.347677</td>\n",
              "      <td>389.067861</td>\n",
              "      <td>377.813210</td>\n",
              "      <td>2914.601177</td>\n",
              "      <td>365.480803</td>\n",
              "      <td>1764.993415</td>\n",
              "    </tr>\n",
              "    <tr>\n",
              "      <th>1196177</th>\n",
              "      <td>Adachi Ku</td>\n",
              "      <td>23027</td>\n",
              "      <td>Private room</td>\n",
              "      <td>2</td>\n",
              "      <td>100</td>\n",
              "      <td>5.0</td>\n",
              "      <td>0.81</td>\n",
              "      <td>1</td>\n",
              "      <td>112</td>\n",
              "      <td>0.050000</td>\n",
              "      <td>...</td>\n",
              "      <td>0</td>\n",
              "      <td>0</td>\n",
              "      <td>1</td>\n",
              "      <td>0</td>\n",
              "      <td>9591.131160</td>\n",
              "      <td>838.151520</td>\n",
              "      <td>243.734144</td>\n",
              "      <td>8538.784439</td>\n",
              "      <td>732.718147</td>\n",
              "      <td>1084.853768</td>\n",
              "    </tr>\n",
              "  </tbody>\n",
              "</table>\n",
              "<p>5 rows × 25 columns</p>\n",
              "</div>\n",
              "    <div class=\"colab-df-buttons\">\n",
              "\n",
              "  <div class=\"colab-df-container\">\n",
              "    <button class=\"colab-df-convert\" onclick=\"convertToInteractive('df-ec8b54c0-7683-4eca-ac22-515ae7577b34')\"\n",
              "            title=\"Convert this dataframe to an interactive table.\"\n",
              "            style=\"display:none;\">\n",
              "\n",
              "  <svg xmlns=\"http://www.w3.org/2000/svg\" height=\"24px\" viewBox=\"0 -960 960 960\">\n",
              "    <path d=\"M120-120v-720h720v720H120Zm60-500h600v-160H180v160Zm220 220h160v-160H400v160Zm0 220h160v-160H400v160ZM180-400h160v-160H180v160Zm440 0h160v-160H620v160ZM180-180h160v-160H180v160Zm440 0h160v-160H620v160Z\"/>\n",
              "  </svg>\n",
              "    </button>\n",
              "\n",
              "  <style>\n",
              "    .colab-df-container {\n",
              "      display:flex;\n",
              "      gap: 12px;\n",
              "    }\n",
              "\n",
              "    .colab-df-convert {\n",
              "      background-color: #E8F0FE;\n",
              "      border: none;\n",
              "      border-radius: 50%;\n",
              "      cursor: pointer;\n",
              "      display: none;\n",
              "      fill: #1967D2;\n",
              "      height: 32px;\n",
              "      padding: 0 0 0 0;\n",
              "      width: 32px;\n",
              "    }\n",
              "\n",
              "    .colab-df-convert:hover {\n",
              "      background-color: #E2EBFA;\n",
              "      box-shadow: 0px 1px 2px rgba(60, 64, 67, 0.3), 0px 1px 3px 1px rgba(60, 64, 67, 0.15);\n",
              "      fill: #174EA6;\n",
              "    }\n",
              "\n",
              "    .colab-df-buttons div {\n",
              "      margin-bottom: 4px;\n",
              "    }\n",
              "\n",
              "    [theme=dark] .colab-df-convert {\n",
              "      background-color: #3B4455;\n",
              "      fill: #D2E3FC;\n",
              "    }\n",
              "\n",
              "    [theme=dark] .colab-df-convert:hover {\n",
              "      background-color: #434B5C;\n",
              "      box-shadow: 0px 1px 3px 1px rgba(0, 0, 0, 0.15);\n",
              "      filter: drop-shadow(0px 1px 2px rgba(0, 0, 0, 0.3));\n",
              "      fill: #FFFFFF;\n",
              "    }\n",
              "  </style>\n",
              "\n",
              "    <script>\n",
              "      const buttonEl =\n",
              "        document.querySelector('#df-ec8b54c0-7683-4eca-ac22-515ae7577b34 button.colab-df-convert');\n",
              "      buttonEl.style.display =\n",
              "        google.colab.kernel.accessAllowed ? 'block' : 'none';\n",
              "\n",
              "      async function convertToInteractive(key) {\n",
              "        const element = document.querySelector('#df-ec8b54c0-7683-4eca-ac22-515ae7577b34');\n",
              "        const dataTable =\n",
              "          await google.colab.kernel.invokeFunction('convertToInteractive',\n",
              "                                                    [key], {});\n",
              "        if (!dataTable) return;\n",
              "\n",
              "        const docLinkHtml = 'Like what you see? Visit the ' +\n",
              "          '<a target=\"_blank\" href=https://colab.research.google.com/notebooks/data_table.ipynb>data table notebook</a>'\n",
              "          + ' to learn more about interactive tables.';\n",
              "        element.innerHTML = '';\n",
              "        dataTable['output_type'] = 'display_data';\n",
              "        await google.colab.output.renderOutput(dataTable, element);\n",
              "        const docLink = document.createElement('div');\n",
              "        docLink.innerHTML = docLinkHtml;\n",
              "        element.appendChild(docLink);\n",
              "      }\n",
              "    </script>\n",
              "  </div>\n",
              "\n",
              "\n",
              "<div id=\"df-a95ff6f9-68f8-487d-9dea-220b0d79e992\">\n",
              "  <button class=\"colab-df-quickchart\" onclick=\"quickchart('df-a95ff6f9-68f8-487d-9dea-220b0d79e992')\"\n",
              "            title=\"Suggest charts\"\n",
              "            style=\"display:none;\">\n",
              "\n",
              "<svg xmlns=\"http://www.w3.org/2000/svg\" height=\"24px\"viewBox=\"0 0 24 24\"\n",
              "     width=\"24px\">\n",
              "    <g>\n",
              "        <path d=\"M19 3H5c-1.1 0-2 .9-2 2v14c0 1.1.9 2 2 2h14c1.1 0 2-.9 2-2V5c0-1.1-.9-2-2-2zM9 17H7v-7h2v7zm4 0h-2V7h2v10zm4 0h-2v-4h2v4z\"/>\n",
              "    </g>\n",
              "</svg>\n",
              "  </button>\n",
              "\n",
              "<style>\n",
              "  .colab-df-quickchart {\n",
              "      --bg-color: #E8F0FE;\n",
              "      --fill-color: #1967D2;\n",
              "      --hover-bg-color: #E2EBFA;\n",
              "      --hover-fill-color: #174EA6;\n",
              "      --disabled-fill-color: #AAA;\n",
              "      --disabled-bg-color: #DDD;\n",
              "  }\n",
              "\n",
              "  [theme=dark] .colab-df-quickchart {\n",
              "      --bg-color: #3B4455;\n",
              "      --fill-color: #D2E3FC;\n",
              "      --hover-bg-color: #434B5C;\n",
              "      --hover-fill-color: #FFFFFF;\n",
              "      --disabled-bg-color: #3B4455;\n",
              "      --disabled-fill-color: #666;\n",
              "  }\n",
              "\n",
              "  .colab-df-quickchart {\n",
              "    background-color: var(--bg-color);\n",
              "    border: none;\n",
              "    border-radius: 50%;\n",
              "    cursor: pointer;\n",
              "    display: none;\n",
              "    fill: var(--fill-color);\n",
              "    height: 32px;\n",
              "    padding: 0;\n",
              "    width: 32px;\n",
              "  }\n",
              "\n",
              "  .colab-df-quickchart:hover {\n",
              "    background-color: var(--hover-bg-color);\n",
              "    box-shadow: 0 1px 2px rgba(60, 64, 67, 0.3), 0 1px 3px 1px rgba(60, 64, 67, 0.15);\n",
              "    fill: var(--button-hover-fill-color);\n",
              "  }\n",
              "\n",
              "  .colab-df-quickchart-complete:disabled,\n",
              "  .colab-df-quickchart-complete:disabled:hover {\n",
              "    background-color: var(--disabled-bg-color);\n",
              "    fill: var(--disabled-fill-color);\n",
              "    box-shadow: none;\n",
              "  }\n",
              "\n",
              "  .colab-df-spinner {\n",
              "    border: 2px solid var(--fill-color);\n",
              "    border-color: transparent;\n",
              "    border-bottom-color: var(--fill-color);\n",
              "    animation:\n",
              "      spin 1s steps(1) infinite;\n",
              "  }\n",
              "\n",
              "  @keyframes spin {\n",
              "    0% {\n",
              "      border-color: transparent;\n",
              "      border-bottom-color: var(--fill-color);\n",
              "      border-left-color: var(--fill-color);\n",
              "    }\n",
              "    20% {\n",
              "      border-color: transparent;\n",
              "      border-left-color: var(--fill-color);\n",
              "      border-top-color: var(--fill-color);\n",
              "    }\n",
              "    30% {\n",
              "      border-color: transparent;\n",
              "      border-left-color: var(--fill-color);\n",
              "      border-top-color: var(--fill-color);\n",
              "      border-right-color: var(--fill-color);\n",
              "    }\n",
              "    40% {\n",
              "      border-color: transparent;\n",
              "      border-right-color: var(--fill-color);\n",
              "      border-top-color: var(--fill-color);\n",
              "    }\n",
              "    60% {\n",
              "      border-color: transparent;\n",
              "      border-right-color: var(--fill-color);\n",
              "    }\n",
              "    80% {\n",
              "      border-color: transparent;\n",
              "      border-right-color: var(--fill-color);\n",
              "      border-bottom-color: var(--fill-color);\n",
              "    }\n",
              "    90% {\n",
              "      border-color: transparent;\n",
              "      border-bottom-color: var(--fill-color);\n",
              "    }\n",
              "  }\n",
              "</style>\n",
              "\n",
              "  <script>\n",
              "    async function quickchart(key) {\n",
              "      const quickchartButtonEl =\n",
              "        document.querySelector('#' + key + ' button');\n",
              "      quickchartButtonEl.disabled = true;  // To prevent multiple clicks.\n",
              "      quickchartButtonEl.classList.add('colab-df-spinner');\n",
              "      try {\n",
              "        const charts = await google.colab.kernel.invokeFunction(\n",
              "            'suggestCharts', [key], {});\n",
              "      } catch (error) {\n",
              "        console.error('Error during call to suggestCharts:', error);\n",
              "      }\n",
              "      quickchartButtonEl.classList.remove('colab-df-spinner');\n",
              "      quickchartButtonEl.classList.add('colab-df-quickchart-complete');\n",
              "    }\n",
              "    (() => {\n",
              "      let quickchartButtonEl =\n",
              "        document.querySelector('#df-a95ff6f9-68f8-487d-9dea-220b0d79e992 button');\n",
              "      quickchartButtonEl.style.display =\n",
              "        google.colab.kernel.accessAllowed ? 'block' : 'none';\n",
              "    })();\n",
              "  </script>\n",
              "</div>\n",
              "\n",
              "    </div>\n",
              "  </div>\n"
            ],
            "application/vnd.google.colaboratory.intrinsic+json": {
              "type": "dataframe",
              "variable_name": "X"
            }
          },
          "metadata": {},
          "execution_count": 15
        }
      ]
    },
    {
      "cell_type": "markdown",
      "source": [
        "Checking for any missing data:"
      ],
      "metadata": {
        "id": "k6mHYH3JMkKu"
      }
    },
    {
      "cell_type": "code",
      "source": [
        "X.isna().sum()"
      ],
      "metadata": {
        "colab": {
          "base_uri": "https://localhost:8080/"
        },
        "id": "HJgdVLRaMmjx",
        "outputId": "efe08f92-4827-4ad2-ce00-504fd451e93b"
      },
      "execution_count": 16,
      "outputs": [
        {
          "output_type": "execute_result",
          "data": {
            "text/plain": [
              "neighbourhood                        0\n",
              "coordinates                          0\n",
              "room_type                            0\n",
              "minimum_nights                       0\n",
              "number_of_reviews                    0\n",
              "days_since_last_review            1458\n",
              "reviews_per_month                 1458\n",
              "calculated_host_listings_count       0\n",
              "availability_365                     0\n",
              "number_of_reviews_ltm                0\n",
              "number_of_bedrooms                   0\n",
              "number_of_beds                       0\n",
              "number_of_baths                      0\n",
              "type_of_accommodation                7\n",
              "score                             2643\n",
              "is_new                               0\n",
              "is_studio                            0\n",
              "has_shared_bath                      0\n",
              "has_half_bath                        0\n",
              "imperial_palace_distance             0\n",
              "nearest_convenience_store            0\n",
              "nearest_train_station                0\n",
              "nearest_airport                      0\n",
              "nearest_bus_station                  0\n",
              "nearest_subway                       0\n",
              "dtype: int64"
            ]
          },
          "metadata": {},
          "execution_count": 16
        }
      ]
    },
    {
      "cell_type": "code",
      "source": [
        "(X.number_of_reviews==0).sum()"
      ],
      "metadata": {
        "colab": {
          "base_uri": "https://localhost:8080/"
        },
        "id": "U4Gv7jcpMrCG",
        "outputId": "2128157e-fa40-450e-f0f6-4cb450c8a081"
      },
      "execution_count": 17,
      "outputs": [
        {
          "output_type": "execute_result",
          "data": {
            "text/plain": [
              "1458"
            ]
          },
          "metadata": {},
          "execution_count": 17
        }
      ]
    },
    {
      "cell_type": "code",
      "source": [
        "X[[\"days_since_last_review\", \"reviews_per_month\", \"score\"]].describe()"
      ],
      "metadata": {
        "colab": {
          "base_uri": "https://localhost:8080/",
          "height": 300
        },
        "id": "SMzW2C1BNhnC",
        "outputId": "6d06cd23-5336-476b-d4fc-e5f07397a8a3"
      },
      "execution_count": 18,
      "outputs": [
        {
          "output_type": "execute_result",
          "data": {
            "text/plain": [
              "       days_since_last_review  reviews_per_month        score\n",
              "count            10775.000000       10775.000000  9590.000000\n",
              "mean                97.595360           1.520293     4.680880\n",
              "std                247.982866           1.654974     0.273886\n",
              "min                  0.000000           0.020000     2.000000\n",
              "25%                 10.000000           0.610000     4.570000\n",
              "50%                 23.000000           1.150000     4.740000\n",
              "75%                 55.000000           2.000000     4.860000\n",
              "max               1964.000000          53.330000     5.000000"
            ],
            "text/html": [
              "\n",
              "  <div id=\"df-a3041e31-05e4-4b7c-ac4b-8e651f55fd4d\" class=\"colab-df-container\">\n",
              "    <div>\n",
              "<style scoped>\n",
              "    .dataframe tbody tr th:only-of-type {\n",
              "        vertical-align: middle;\n",
              "    }\n",
              "\n",
              "    .dataframe tbody tr th {\n",
              "        vertical-align: top;\n",
              "    }\n",
              "\n",
              "    .dataframe thead th {\n",
              "        text-align: right;\n",
              "    }\n",
              "</style>\n",
              "<table border=\"1\" class=\"dataframe\">\n",
              "  <thead>\n",
              "    <tr style=\"text-align: right;\">\n",
              "      <th></th>\n",
              "      <th>days_since_last_review</th>\n",
              "      <th>reviews_per_month</th>\n",
              "      <th>score</th>\n",
              "    </tr>\n",
              "  </thead>\n",
              "  <tbody>\n",
              "    <tr>\n",
              "      <th>count</th>\n",
              "      <td>10775.000000</td>\n",
              "      <td>10775.000000</td>\n",
              "      <td>9590.000000</td>\n",
              "    </tr>\n",
              "    <tr>\n",
              "      <th>mean</th>\n",
              "      <td>97.595360</td>\n",
              "      <td>1.520293</td>\n",
              "      <td>4.680880</td>\n",
              "    </tr>\n",
              "    <tr>\n",
              "      <th>std</th>\n",
              "      <td>247.982866</td>\n",
              "      <td>1.654974</td>\n",
              "      <td>0.273886</td>\n",
              "    </tr>\n",
              "    <tr>\n",
              "      <th>min</th>\n",
              "      <td>0.000000</td>\n",
              "      <td>0.020000</td>\n",
              "      <td>2.000000</td>\n",
              "    </tr>\n",
              "    <tr>\n",
              "      <th>25%</th>\n",
              "      <td>10.000000</td>\n",
              "      <td>0.610000</td>\n",
              "      <td>4.570000</td>\n",
              "    </tr>\n",
              "    <tr>\n",
              "      <th>50%</th>\n",
              "      <td>23.000000</td>\n",
              "      <td>1.150000</td>\n",
              "      <td>4.740000</td>\n",
              "    </tr>\n",
              "    <tr>\n",
              "      <th>75%</th>\n",
              "      <td>55.000000</td>\n",
              "      <td>2.000000</td>\n",
              "      <td>4.860000</td>\n",
              "    </tr>\n",
              "    <tr>\n",
              "      <th>max</th>\n",
              "      <td>1964.000000</td>\n",
              "      <td>53.330000</td>\n",
              "      <td>5.000000</td>\n",
              "    </tr>\n",
              "  </tbody>\n",
              "</table>\n",
              "</div>\n",
              "    <div class=\"colab-df-buttons\">\n",
              "\n",
              "  <div class=\"colab-df-container\">\n",
              "    <button class=\"colab-df-convert\" onclick=\"convertToInteractive('df-a3041e31-05e4-4b7c-ac4b-8e651f55fd4d')\"\n",
              "            title=\"Convert this dataframe to an interactive table.\"\n",
              "            style=\"display:none;\">\n",
              "\n",
              "  <svg xmlns=\"http://www.w3.org/2000/svg\" height=\"24px\" viewBox=\"0 -960 960 960\">\n",
              "    <path d=\"M120-120v-720h720v720H120Zm60-500h600v-160H180v160Zm220 220h160v-160H400v160Zm0 220h160v-160H400v160ZM180-400h160v-160H180v160Zm440 0h160v-160H620v160ZM180-180h160v-160H180v160Zm440 0h160v-160H620v160Z\"/>\n",
              "  </svg>\n",
              "    </button>\n",
              "\n",
              "  <style>\n",
              "    .colab-df-container {\n",
              "      display:flex;\n",
              "      gap: 12px;\n",
              "    }\n",
              "\n",
              "    .colab-df-convert {\n",
              "      background-color: #E8F0FE;\n",
              "      border: none;\n",
              "      border-radius: 50%;\n",
              "      cursor: pointer;\n",
              "      display: none;\n",
              "      fill: #1967D2;\n",
              "      height: 32px;\n",
              "      padding: 0 0 0 0;\n",
              "      width: 32px;\n",
              "    }\n",
              "\n",
              "    .colab-df-convert:hover {\n",
              "      background-color: #E2EBFA;\n",
              "      box-shadow: 0px 1px 2px rgba(60, 64, 67, 0.3), 0px 1px 3px 1px rgba(60, 64, 67, 0.15);\n",
              "      fill: #174EA6;\n",
              "    }\n",
              "\n",
              "    .colab-df-buttons div {\n",
              "      margin-bottom: 4px;\n",
              "    }\n",
              "\n",
              "    [theme=dark] .colab-df-convert {\n",
              "      background-color: #3B4455;\n",
              "      fill: #D2E3FC;\n",
              "    }\n",
              "\n",
              "    [theme=dark] .colab-df-convert:hover {\n",
              "      background-color: #434B5C;\n",
              "      box-shadow: 0px 1px 3px 1px rgba(0, 0, 0, 0.15);\n",
              "      filter: drop-shadow(0px 1px 2px rgba(0, 0, 0, 0.3));\n",
              "      fill: #FFFFFF;\n",
              "    }\n",
              "  </style>\n",
              "\n",
              "    <script>\n",
              "      const buttonEl =\n",
              "        document.querySelector('#df-a3041e31-05e4-4b7c-ac4b-8e651f55fd4d button.colab-df-convert');\n",
              "      buttonEl.style.display =\n",
              "        google.colab.kernel.accessAllowed ? 'block' : 'none';\n",
              "\n",
              "      async function convertToInteractive(key) {\n",
              "        const element = document.querySelector('#df-a3041e31-05e4-4b7c-ac4b-8e651f55fd4d');\n",
              "        const dataTable =\n",
              "          await google.colab.kernel.invokeFunction('convertToInteractive',\n",
              "                                                    [key], {});\n",
              "        if (!dataTable) return;\n",
              "\n",
              "        const docLinkHtml = 'Like what you see? Visit the ' +\n",
              "          '<a target=\"_blank\" href=https://colab.research.google.com/notebooks/data_table.ipynb>data table notebook</a>'\n",
              "          + ' to learn more about interactive tables.';\n",
              "        element.innerHTML = '';\n",
              "        dataTable['output_type'] = 'display_data';\n",
              "        await google.colab.output.renderOutput(dataTable, element);\n",
              "        const docLink = document.createElement('div');\n",
              "        docLink.innerHTML = docLinkHtml;\n",
              "        element.appendChild(docLink);\n",
              "      }\n",
              "    </script>\n",
              "  </div>\n",
              "\n",
              "\n",
              "<div id=\"df-8c1945b7-26f3-402e-8b59-c5493c6f75c8\">\n",
              "  <button class=\"colab-df-quickchart\" onclick=\"quickchart('df-8c1945b7-26f3-402e-8b59-c5493c6f75c8')\"\n",
              "            title=\"Suggest charts\"\n",
              "            style=\"display:none;\">\n",
              "\n",
              "<svg xmlns=\"http://www.w3.org/2000/svg\" height=\"24px\"viewBox=\"0 0 24 24\"\n",
              "     width=\"24px\">\n",
              "    <g>\n",
              "        <path d=\"M19 3H5c-1.1 0-2 .9-2 2v14c0 1.1.9 2 2 2h14c1.1 0 2-.9 2-2V5c0-1.1-.9-2-2-2zM9 17H7v-7h2v7zm4 0h-2V7h2v10zm4 0h-2v-4h2v4z\"/>\n",
              "    </g>\n",
              "</svg>\n",
              "  </button>\n",
              "\n",
              "<style>\n",
              "  .colab-df-quickchart {\n",
              "      --bg-color: #E8F0FE;\n",
              "      --fill-color: #1967D2;\n",
              "      --hover-bg-color: #E2EBFA;\n",
              "      --hover-fill-color: #174EA6;\n",
              "      --disabled-fill-color: #AAA;\n",
              "      --disabled-bg-color: #DDD;\n",
              "  }\n",
              "\n",
              "  [theme=dark] .colab-df-quickchart {\n",
              "      --bg-color: #3B4455;\n",
              "      --fill-color: #D2E3FC;\n",
              "      --hover-bg-color: #434B5C;\n",
              "      --hover-fill-color: #FFFFFF;\n",
              "      --disabled-bg-color: #3B4455;\n",
              "      --disabled-fill-color: #666;\n",
              "  }\n",
              "\n",
              "  .colab-df-quickchart {\n",
              "    background-color: var(--bg-color);\n",
              "    border: none;\n",
              "    border-radius: 50%;\n",
              "    cursor: pointer;\n",
              "    display: none;\n",
              "    fill: var(--fill-color);\n",
              "    height: 32px;\n",
              "    padding: 0;\n",
              "    width: 32px;\n",
              "  }\n",
              "\n",
              "  .colab-df-quickchart:hover {\n",
              "    background-color: var(--hover-bg-color);\n",
              "    box-shadow: 0 1px 2px rgba(60, 64, 67, 0.3), 0 1px 3px 1px rgba(60, 64, 67, 0.15);\n",
              "    fill: var(--button-hover-fill-color);\n",
              "  }\n",
              "\n",
              "  .colab-df-quickchart-complete:disabled,\n",
              "  .colab-df-quickchart-complete:disabled:hover {\n",
              "    background-color: var(--disabled-bg-color);\n",
              "    fill: var(--disabled-fill-color);\n",
              "    box-shadow: none;\n",
              "  }\n",
              "\n",
              "  .colab-df-spinner {\n",
              "    border: 2px solid var(--fill-color);\n",
              "    border-color: transparent;\n",
              "    border-bottom-color: var(--fill-color);\n",
              "    animation:\n",
              "      spin 1s steps(1) infinite;\n",
              "  }\n",
              "\n",
              "  @keyframes spin {\n",
              "    0% {\n",
              "      border-color: transparent;\n",
              "      border-bottom-color: var(--fill-color);\n",
              "      border-left-color: var(--fill-color);\n",
              "    }\n",
              "    20% {\n",
              "      border-color: transparent;\n",
              "      border-left-color: var(--fill-color);\n",
              "      border-top-color: var(--fill-color);\n",
              "    }\n",
              "    30% {\n",
              "      border-color: transparent;\n",
              "      border-left-color: var(--fill-color);\n",
              "      border-top-color: var(--fill-color);\n",
              "      border-right-color: var(--fill-color);\n",
              "    }\n",
              "    40% {\n",
              "      border-color: transparent;\n",
              "      border-right-color: var(--fill-color);\n",
              "      border-top-color: var(--fill-color);\n",
              "    }\n",
              "    60% {\n",
              "      border-color: transparent;\n",
              "      border-right-color: var(--fill-color);\n",
              "    }\n",
              "    80% {\n",
              "      border-color: transparent;\n",
              "      border-right-color: var(--fill-color);\n",
              "      border-bottom-color: var(--fill-color);\n",
              "    }\n",
              "    90% {\n",
              "      border-color: transparent;\n",
              "      border-bottom-color: var(--fill-color);\n",
              "    }\n",
              "  }\n",
              "</style>\n",
              "\n",
              "  <script>\n",
              "    async function quickchart(key) {\n",
              "      const quickchartButtonEl =\n",
              "        document.querySelector('#' + key + ' button');\n",
              "      quickchartButtonEl.disabled = true;  // To prevent multiple clicks.\n",
              "      quickchartButtonEl.classList.add('colab-df-spinner');\n",
              "      try {\n",
              "        const charts = await google.colab.kernel.invokeFunction(\n",
              "            'suggestCharts', [key], {});\n",
              "      } catch (error) {\n",
              "        console.error('Error during call to suggestCharts:', error);\n",
              "      }\n",
              "      quickchartButtonEl.classList.remove('colab-df-spinner');\n",
              "      quickchartButtonEl.classList.add('colab-df-quickchart-complete');\n",
              "    }\n",
              "    (() => {\n",
              "      let quickchartButtonEl =\n",
              "        document.querySelector('#df-8c1945b7-26f3-402e-8b59-c5493c6f75c8 button');\n",
              "      quickchartButtonEl.style.display =\n",
              "        google.colab.kernel.accessAllowed ? 'block' : 'none';\n",
              "    })();\n",
              "  </script>\n",
              "</div>\n",
              "\n",
              "    </div>\n",
              "  </div>\n"
            ],
            "application/vnd.google.colaboratory.intrinsic+json": {
              "type": "dataframe",
              "summary": "{\n  \"name\": \"X[[\\\"days_since_last_review\\\", \\\"reviews_per_month\\\", \\\"score\\\"]]\",\n  \"rows\": 8,\n  \"fields\": [\n    {\n      \"column\": \"days_since_last_review\",\n      \"properties\": {\n        \"dtype\": \"number\",\n        \"std\": 3748.199438544861,\n        \"min\": 0.0,\n        \"max\": 10775.0,\n        \"num_unique_values\": 8,\n        \"samples\": [\n          97.5953596287703,\n          23.0,\n          10775.0\n        ],\n        \"semantic_type\": \"\",\n        \"description\": \"\"\n      }\n    },\n    {\n      \"column\": \"reviews_per_month\",\n      \"properties\": {\n        \"dtype\": \"number\",\n        \"std\": 3806.5367458099136,\n        \"min\": 0.02,\n        \"max\": 10775.0,\n        \"num_unique_values\": 8,\n        \"samples\": [\n          1.520293271461717,\n          1.15,\n          10775.0\n        ],\n        \"semantic_type\": \"\",\n        \"description\": \"\"\n      }\n    },\n    {\n      \"column\": \"score\",\n      \"properties\": {\n        \"dtype\": \"number\",\n        \"std\": 3389.25794699168,\n        \"min\": 0.2738857577354575,\n        \"max\": 9590.0,\n        \"num_unique_values\": 8,\n        \"samples\": [\n          4.680880083420229,\n          4.74,\n          9590.0\n        ],\n        \"semantic_type\": \"\",\n        \"description\": \"\"\n      }\n    }\n  ]\n}"
            }
          },
          "metadata": {},
          "execution_count": 18
        }
      ]
    },
    {
      "cell_type": "code",
      "source": [
        "X.fillna(-1, inplace=True)"
      ],
      "metadata": {
        "id": "DNhWMBpCNzz8"
      },
      "execution_count": 19,
      "outputs": []
    },
    {
      "cell_type": "markdown",
      "source": [
        "Preparing a panel of boxplots to be inspected for extreme values:"
      ],
      "metadata": {
        "id": "mnGRiElgOCUB"
      }
    },
    {
      "cell_type": "code",
      "source": [
        "import matplotlib.pyplot as plt\n",
        "\n",
        "numeric = ['minimum_nights', 'number_of_reviews', 'days_since_last_review', 'reviews_per_month',\n",
        "           'calculated_host_listings_count', 'availability_365', 'score',\n",
        "           'number_of_reviews_ltm', 'number_of_bedrooms',\n",
        "           'number_of_beds', 'number_of_baths', 'imperial_palace_distance',\n",
        "           'nearest_convenience_store','nearest_train_station', 'nearest_airport',\n",
        "           'nearest_bus_station', 'nearest_subway']\n",
        "\n",
        "num_plots = len(numeric)\n",
        "num_rows = (num_plots + 2) // 3\n",
        "num_cols = min(num_plots, 3)\n",
        "\n",
        "fig, axes = plt.subplots(num_rows, num_cols, figsize=(8, 12))\n",
        "axes = axes.flatten()\n",
        "\n",
        "for i, feat in enumerate(numeric):\n",
        "    X[[feat]].boxplot(ax=axes[i])\n",
        "\n",
        "fig.tight_layout()\n",
        "plt.show()"
      ],
      "metadata": {
        "colab": {
          "base_uri": "https://localhost:8080/",
          "height": 1000
        },
        "id": "5jbQgZ8zN5sE",
        "outputId": "fc07bbde-407d-4482-806f-acc751797148"
      },
      "execution_count": 20,
      "outputs": [
        {
          "output_type": "display_data",
          "data": {
            "text/plain": [
              "<Figure size 800x1200 with 18 Axes>"
            ],
            "image/png": "[encoded data removed]"
          },
          "metadata": {}
        }
      ]
    },
    {
      "cell_type": "markdown",
      "source": [
        "Winsorizing extreme values:"
      ],
      "metadata": {
        "id": "uW0OL1w7QViq"
      }
    },
    {
      "cell_type": "code",
      "source": [
        "from scipy.stats.mstats import winsorize\n",
        "\n",
        "lower_cut_percentile = 0.00\n",
        "upper_cut_percentile = 0.001\n",
        "\n",
        "X['minimum_nights'] = winsorize(X['minimum_nights'].values, limits=(lower_cut_percentile, upper_cut_percentile))\n",
        "\n",
        "X[['minimum_nights']].boxplot()"
      ],
      "metadata": {
        "colab": {
          "base_uri": "https://localhost:8080/",
          "height": 448
        },
        "id": "sRlVxhlaQWk2",
        "outputId": "7af790df-cf86-4bb7-9aee-1e1cc6832dd0"
      },
      "execution_count": 21,
      "outputs": [
        {
          "output_type": "execute_result",
          "data": {
            "text/plain": [
              "<Axes: >"
            ]
          },
          "metadata": {},
          "execution_count": 21
        },
        {
          "output_type": "display_data",
          "data": {
            "text/plain": [
              "<Figure size 640x480 with 1 Axes>"
            ],
            "image/png": "[encoded data removed]"
          },
          "metadata": {}
        }
      ]
    },
    {
      "cell_type": "code",
      "source": [
        "X['number_of_reviews'] = winsorize(X['number_of_reviews'].values, limits=(lower_cut_percentile, upper_cut_percentile))\n",
        "\n",
        "X[['number_of_reviews']].boxplot()"
      ],
      "metadata": {
        "colab": {
          "base_uri": "https://localhost:8080/",
          "height": 448
        },
        "id": "Eon8HTYXdFss",
        "outputId": "4d73e7f8-918b-4f7c-ef6a-fcf3a8162b86"
      },
      "execution_count": 22,
      "outputs": [
        {
          "output_type": "execute_result",
          "data": {
            "text/plain": [
              "<Axes: >"
            ]
          },
          "metadata": {},
          "execution_count": 22
        },
        {
          "output_type": "display_data",
          "data": {
            "text/plain": [
              "<Figure size 640x480 with 1 Axes>"
            ],
            "image/png": "[encoded data removed]"
          },
          "metadata": {}
        }
      ]
    },
    {
      "cell_type": "markdown",
      "source": [
        "Being a regression problem, I am figuring out the mean and the range of the target:"
      ],
      "metadata": {
        "id": "9ObddEXmdV7Q"
      }
    },
    {
      "cell_type": "code",
      "source": [
        "print(f\"minimum: {y.min()}\")\n",
        "print(f\"average: {y.mean().round(2)}\")\n",
        "print(f\"maximum: {y.max()}\")"
      ],
      "metadata": {
        "colab": {
          "base_uri": "https://localhost:8080/"
        },
        "id": "4ZZtePuzdZcZ",
        "outputId": "ca7fd211-4b54-4557-9fa3-105e89236778"
      },
      "execution_count": 23,
      "outputs": [
        {
          "output_type": "stream",
          "name": "stdout",
          "text": [
            "minimum: 1500.0\n",
            "average: 37352.69\n",
            "maximum: 5202583.378082192\n"
          ]
        }
      ]
    },
    {
      "cell_type": "code",
      "source": [
        "perc = [1, 5, 10, 25, 50, 75, 90, 95, 99]\n",
        "for p in perc:\n",
        "    print(f\"percentile {p:2}: {np.percentile(y, p).round(2)}\")"
      ],
      "metadata": {
        "colab": {
          "base_uri": "https://localhost:8080/"
        },
        "id": "ezUe6GA3gyeL",
        "outputId": "c02c22be-68b0-4c29-bf83-c40976b9a9f9"
      },
      "execution_count": 24,
      "outputs": [
        {
          "output_type": "stream",
          "name": "stdout",
          "text": [
            "percentile  1: 2960.25\n",
            "percentile  5: 5020.38\n",
            "percentile 10: 7322.82\n",
            "percentile 25: 11969.86\n",
            "percentile 50: 20000.0\n",
            "percentile 75: 39367.88\n",
            "percentile 90: 63203.12\n",
            "percentile 95: 79614.91\n",
            "percentile 99: 528215.33\n"
          ]
        }
      ]
    },
    {
      "cell_type": "code",
      "source": [
        "valid_samples = (y >= 5020) & (y <= 78914)"
      ],
      "metadata": {
        "id": "T8WfnxK2hTrI"
      },
      "execution_count": 25,
      "outputs": []
    },
    {
      "cell_type": "markdown",
      "source": [
        "Plotting the target distribution:"
      ],
      "metadata": {
        "id": "yu4XxHCUhs7s"
      }
    },
    {
      "cell_type": "code",
      "source": [
        "import matplotlib.pyplot as plt\n",
        "import seaborn as sns\n",
        "\n",
        "valid_y = y[valid_samples]\n",
        "sns.kdeplot(valid_y, fill=True)\n",
        "\n",
        "median = np.median(valid_y)\n",
        "plt.axvline(median, color='r', linestyle='--', linewidth=2, label='Median')\n",
        "\n",
        "plt.xlabel('Values')\n",
        "plt.ylabel('Density')\n",
        "plt.title('Distribution Curbe of Median')\n",
        "plt.legend()\n",
        "plt.show()"
      ],
      "metadata": {
        "colab": {
          "base_uri": "https://localhost:8080/",
          "height": 472
        },
        "id": "uAsBbGyJhua6",
        "outputId": "c4a6ff68-a8f3-471d-ead4-4418c69ea68b"
      },
      "execution_count": 26,
      "outputs": [
        {
          "output_type": "display_data",
          "data": {
            "text/plain": [
              "<Figure size 640x480 with 1 Axes>"
            ],
            "image/png": "[encoded data removed]"
          },
          "metadata": {}
        }
      ]
    },
    {
      "cell_type": "code",
      "source": [
        "X = X[valid_samples]\n",
        "y = y[valid_samples]"
      ],
      "metadata": {
        "id": "YrzT74nTmy2p"
      },
      "execution_count": 27,
      "outputs": []
    },
    {
      "cell_type": "code",
      "source": [
        "X['neighbourhood'].value_counts()"
      ],
      "metadata": {
        "colab": {
          "base_uri": "https://localhost:8080/"
        },
        "id": "wxsnW2Ht8323",
        "outputId": "d0c3b8c1-7cc1-490d-d08b-cf488ccadd41"
      },
      "execution_count": 28,
      "outputs": [
        {
          "output_type": "execute_result",
          "data": {
            "text/plain": [
              "neighbourhood\n",
              "Shinjuku Ku            2260\n",
              "Taito Ku               1411\n",
              "Sumida Ku              1298\n",
              "Toshima Ku             1073\n",
              "Shibuya Ku              727\n",
              "Minato Ku               423\n",
              "Setagaya Ku             385\n",
              "Ota Ku                  385\n",
              "Nakano Ku               345\n",
              "Kita Ku                 309\n",
              "Chuo Ku                 257\n",
              "Katsushika Ku           255\n",
              "Suginami Ku             229\n",
              "Koto Ku                 202\n",
              "Bunkyo Ku               199\n",
              "Itabashi Ku             190\n",
              "Edogawa Ku              178\n",
              "Shinagawa Ku            158\n",
              "Chiyoda Ku              157\n",
              "Arakawa Ku              152\n",
              "Adachi Ku                97\n",
              "Nerima Ku                67\n",
              "Meguro Ku                63\n",
              "Musashino Shi            29\n",
              "Kokubunji Shi            15\n",
              "Fuchu Shi                14\n",
              "Hachioji Shi             14\n",
              "Mitaka Shi               12\n",
              "Machida Shi              12\n",
              "Akiruno Shi              10\n",
              "Koganei Shi              10\n",
              "Komae Shi                 9\n",
              "Chofu Shi                 9\n",
              "Higashimurayama Shi       7\n",
              "Ome Shi                   7\n",
              "Kodaira Shi               5\n",
              "Hino Shi                  5\n",
              "Tama Shi                  5\n",
              "Hamura Shi                4\n",
              "Nishitokyo Shi            3\n",
              "Tachikawa Shi             3\n",
              "Okutama Machi             2\n",
              "Kunitachi Shi             1\n",
              "Hinohara Mura             1\n",
              "Fussa Shi                 1\n",
              "Name: count, dtype: int64"
            ]
          },
          "metadata": {},
          "execution_count": 28
        }
      ]
    },
    {
      "cell_type": "markdown",
      "source": [
        "Using a KDTree to match each area with less than 30 accommodations with its nearest area with more than 30:"
      ],
      "metadata": {
        "id": "0z8pWT_39NiY"
      }
    },
    {
      "cell_type": "code",
      "source": [
        "neighbourhoods = (summary_listings[['neighbourhood', 'latitude', 'longitude']]\n",
        "                  .groupby('neighbourhood')\n",
        "                  .agg({'latitude': 'mean', 'longitude': 'mean', 'neighbourhood': 'count'}))\n",
        "\n",
        "less_than_30 = neighbourhoods[neighbourhoods['neighbourhood'] < 30]\n",
        "more_than_30 = neighbourhoods[neighbourhoods['neighbourhood'] > 30]\n",
        "\n",
        "kdtree = KDTree(more_than_30[['latitude', 'longitude']])\n",
        "change_list = {}\n",
        "\n",
        "for i in range(len(less_than_30)):\n",
        "    row = less_than_30.iloc[[i]]\n",
        "    _, idx = kdtree.query(row[['latitude', 'longitude']])\n",
        "    change_list[row.index[0]] = more_than_30.index[idx[0, 0]]\n",
        "\n",
        "X[\"neighbourhood_more_than_30\"] = X[\"neighbourhood\"].replace(change_list)"
      ],
      "metadata": {
        "id": "xQHZjt3T9Rzh"
      },
      "execution_count": 29,
      "outputs": []
    },
    {
      "cell_type": "code",
      "source": [
        "print(change_list)\n",
        "print(X[\"neighbourhood_more_than_30\"].value_counts())"
      ],
      "metadata": {
        "colab": {
          "base_uri": "https://localhost:8080/"
        },
        "id": "4RqFqpl7ASJH",
        "outputId": "6c584468-7ebc-4043-a052-79277668911f"
      },
      "execution_count": 30,
      "outputs": [
        {
          "output_type": "stream",
          "name": "stdout",
          "text": [
            "{'Akiruno Shi': 'Fuchu Shi', 'Akishima Shi': 'Fuchu Shi', 'Chofu Shi': 'Fuchu Shi', 'Fussa Shi': 'Fuchu Shi', 'Hachioji Shi': 'Fuchu Shi', 'Hamura Shi': 'Fuchu Shi', 'Higashimurayama Shi': 'Fuchu Shi', 'Hino Shi': 'Fuchu Shi', 'Hinohara Mura': 'Fuchu Shi', 'Inagi Shi': 'Fuchu Shi', 'Kodaira Shi': 'Fuchu Shi', 'Koganei Shi': 'Fuchu Shi', 'Kokubunji Shi': 'Fuchu Shi', 'Komae Shi': 'Setagaya Ku', 'Kunitachi Shi': 'Fuchu Shi', 'Machida Shi': 'Fuchu Shi', 'Mitaka Shi': 'Suginami Ku', 'Musashimurayama Shi': 'Fuchu Shi', 'Musashino Shi': 'Suginami Ku', 'Nishitokyo Shi': 'Suginami Ku', 'Okutama Machi': 'Fuchu Shi', 'Ome Shi': 'Fuchu Shi', 'Tachikawa Shi': 'Fuchu Shi', 'Tama Shi': 'Fuchu Shi'}\n",
            "neighbourhood_more_than_30\n",
            "Shinjuku Ku      2260\n",
            "Taito Ku         1411\n",
            "Sumida Ku        1298\n",
            "Toshima Ku       1073\n",
            "Shibuya Ku        727\n",
            "Minato Ku         423\n",
            "Setagaya Ku       394\n",
            "Ota Ku            385\n",
            "Nakano Ku         345\n",
            "Kita Ku           309\n",
            "Suginami Ku       273\n",
            "Chuo Ku           257\n",
            "Katsushika Ku     255\n",
            "Koto Ku           202\n",
            "Bunkyo Ku         199\n",
            "Itabashi Ku       190\n",
            "Edogawa Ku        178\n",
            "Shinagawa Ku      158\n",
            "Chiyoda Ku        157\n",
            "Arakawa Ku        152\n",
            "Fuchu Shi         125\n",
            "Adachi Ku          97\n",
            "Nerima Ku          67\n",
            "Meguro Ku          63\n",
            "Name: count, dtype: int64\n"
          ]
        }
      ]
    },
    {
      "cell_type": "markdown",
      "source": [
        "defining a stratified cross-validation strategy:"
      ],
      "metadata": {
        "id": "aSJUUjL8AwYw"
      }
    },
    {
      "cell_type": "code",
      "source": [
        "from sklearn.model_selection import StratifiedKFold\n",
        "\n",
        "cv = StratifiedKFold(5, shuffle=True, random_state=0)\n",
        "cv_splits = cv.split(X, y=X[\"neighbourhood_more_than_30\"])"
      ],
      "metadata": {
        "id": "x1QiV2R2Azzi"
      },
      "execution_count": 31,
      "outputs": []
    },
    {
      "cell_type": "code",
      "source": [
        "print(cv_splits)"
      ],
      "metadata": {
        "colab": {
          "base_uri": "https://localhost:8080/"
        },
        "id": "6mwb5G15Rpra",
        "outputId": "2b44bb1f-6083-4839-db10-86b7bc59269b"
      },
      "execution_count": 32,
      "outputs": [
        {
          "output_type": "stream",
          "name": "stdout",
          "text": [
            "<generator object _BaseKFold.split at 0x7d028aec3d10>\n"
          ]
        }
      ]
    },
    {
      "cell_type": "markdown",
      "source": [
        "##  Preparing the pipeline\n",
        "\n",
        "Classifying the different kinds of features that we will be using into categorical features, numeric, and binary features:"
      ],
      "metadata": {
        "id": "TijiCE33R04e"
      }
    },
    {
      "cell_type": "code",
      "source": [
        "categorical = ['room_type', 'neighbourhood_more_than_30', 'type_of_accommodation', 'coordinates']\n",
        "numeric = ['minimum_nights', 'number_of_reviews', 'days_since_last_review', 'reviews_per_month',\n",
        "           'calculated_host_listings_count', 'availability_365', 'score',\n",
        "           'number_of_reviews_ltm', 'number_of_bedrooms',\n",
        "           'number_of_beds', 'number_of_baths', 'imperial_palace_distance',\n",
        "           'nearest_convenience_store','nearest_train_station', 'nearest_airport',\n",
        "           'nearest_bus_station', 'nearest_subway']\n",
        "binary = ['is_new', 'is_studio', 'has_shared_bath', 'has_half_bath']\n"
      ],
      "metadata": {
        "id": "uF6w0-KPRtMI"
      },
      "execution_count": 33,
      "outputs": []
    },
    {
      "cell_type": "code",
      "source": [
        "for feat in categorical:\n",
        "    print(f\"{feat} has {X[feat].nunique()} unique values\")"
      ],
      "metadata": {
        "colab": {
          "base_uri": "https://localhost:8080/"
        },
        "id": "mV_49TR38Aad",
        "outputId": "efab6eab-4753-4542-ee82-02311af8d6a6"
      },
      "execution_count": 34,
      "outputs": [
        {
          "output_type": "stream",
          "name": "stdout",
          "text": [
            "room_type has 4 unique values\n",
            "neighbourhood_more_than_30 has 24 unique values\n",
            "type_of_accommodation has 31 unique values\n",
            "coordinates has 302 unique values\n"
          ]
        }
      ]
    },
    {
      "cell_type": "code",
      "source": [
        "onehot_encoding = ['room_type']\n",
        "ordinal_encoding = ['neighbourhood_more_than_30', 'type_of_accomodation']\n",
        "target_encoding = ['coordinates']"
      ],
      "metadata": {
        "id": "KTR6hDmRCQng"
      },
      "execution_count": 35,
      "outputs": []
    },
    {
      "cell_type": "markdown",
      "source": [
        "defining column transformations:"
      ],
      "metadata": {
        "id": "haHABoy_C825"
      }
    },
    {
      "cell_type": "code",
      "source": [
        "pip install category_encoders"
      ],
      "metadata": {
        "colab": {
          "base_uri": "https://localhost:8080/"
        },
        "id": "VtKDXVB7IcSS",
        "outputId": "57099981-3af8-4241-fe4a-269cac5bb802"
      },
      "execution_count": 37,
      "outputs": [
        {
          "output_type": "stream",
          "name": "stdout",
          "text": [
            "Collecting category_encoders\n",
            "  Downloading category_encoders-2.6.3-py2.py3-none-any.whl.metadata (8.0 kB)\n",
            "Requirement already satisfied: numpy>=1.14.0 in /usr/local/lib/python3.10/dist-packages (from category_encoders) (1.25.2)\n",
            "Requirement already satisfied: scikit-learn>=0.20.0 in /usr/local/lib/python3.10/dist-packages (from category_encoders) (1.3.2)\n",
            "Requirement already satisfied: scipy>=1.0.0 in /usr/local/lib/python3.10/dist-packages (from category_encoders) (1.13.1)\n",
            "Requirement already satisfied: statsmodels>=0.9.0 in /usr/local/lib/python3.10/dist-packages (from category_encoders) (0.14.2)\n",
            "Requirement already satisfied: pandas>=1.0.5 in /usr/local/lib/python3.10/dist-packages (from category_encoders) (2.0.3)\n",
            "Requirement already satisfied: patsy>=0.5.1 in /usr/local/lib/python3.10/dist-packages (from category_encoders) (0.5.6)\n",
            "Requirement already satisfied: python-dateutil>=2.8.2 in /usr/local/lib/python3.10/dist-packages (from pandas>=1.0.5->category_encoders) (2.8.2)\n",
            "Requirement already satisfied: pytz>=2020.1 in /usr/local/lib/python3.10/dist-packages (from pandas>=1.0.5->category_encoders) (2024.1)\n",
            "Requirement already satisfied: tzdata>=2022.1 in /usr/local/lib/python3.10/dist-packages (from pandas>=1.0.5->category_encoders) (2024.1)\n",
            "Requirement already satisfied: six in /usr/local/lib/python3.10/dist-packages (from patsy>=0.5.1->category_encoders) (1.16.0)\n",
            "Requirement already satisfied: joblib>=1.1.1 in /usr/local/lib/python3.10/dist-packages (from scikit-learn>=0.20.0->category_encoders) (1.4.2)\n",
            "Requirement already satisfied: threadpoolctl>=2.0.0 in /usr/local/lib/python3.10/dist-packages (from scikit-learn>=0.20.0->category_encoders) (3.5.0)\n",
            "Requirement already satisfied: packaging>=21.3 in /usr/local/lib/python3.10/dist-packages (from statsmodels>=0.9.0->category_encoders) (24.1)\n",
            "Downloading category_encoders-2.6.3-py2.py3-none-any.whl (81 kB)\n",
            "\u001b[2K   \u001b[90m━━━━━━━━━━━━━━━━━━━━━━━━━━━━━━━━━━━━━━━━\u001b[0m \u001b[32m81.9/81.9 kB\u001b[0m \u001b[31m4.3 MB/s\u001b[0m eta \u001b[36m0:00:00\u001b[0m\n",
            "\u001b[?25hInstalling collected packages: category_encoders\n",
            "Successfully installed category_encoders-2.6.3\n"
          ]
        }
      ]
    },
    {
      "cell_type": "code",
      "source": [
        "from sklearn.preprocessing import OneHotEncoder, OrdinalEncoder\n",
        "from sklearn.compose import ColumnTransformer\n",
        "from sklearn.pipeline import Pipeline\n",
        "\n",
        "from category_encoders.target_encoder import TargetEncoder\n",
        "\n",
        "onehot_encoder = OneHotEncoder(handle_unknown='ignore')\n",
        "ordinal_encoder = OrdinalEncoder(handle_unknown=\"use_encoded_value\", unknown_value=np.nan)\n",
        "target_encoder = TargetEncoder(cols=target_encoding, handle_unknown=\"value\", smoothing=0.5)\n",
        "\n",
        "column_transform = ColumnTransformer(\n",
        "    [('onehot_encoding', onehot_encoder, onehot_encoding),\n",
        "     ('ordinal_encoding', ordinal_encoder, ordinal_encoding),\n",
        "     ('target_encoding', target_encoder, target_encoding),\n",
        "     ('numeric', 'passthrough', numeric),\n",
        "     ('binary', 'passthrough', binary)],\n",
        "    remainder='drop',\n",
        "    verbose_feature_names_out=True,\n",
        "    sparse_threshold=0.0)"
      ],
      "metadata": {
        "id": "KRtrbVagDABT"
      },
      "execution_count": 40,
      "outputs": []
    }
  ]
}