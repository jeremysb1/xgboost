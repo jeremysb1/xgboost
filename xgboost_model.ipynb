{
  "nbformat": 4,
  "nbformat_minor": 0,
  "metadata": {
    "colab": {
      "provenance": [],
      "mount_file_id": "1_5UETGh-BboAykfCXyLDI6mgyF5JK3S4",
      "authorship_tag": "ABX9TyP0Y2d5Inpy5sr7SCUYXO3W",
      "include_colab_link": true
    },
    "kernelspec": {
      "name": "python3",
      "display_name": "Python 3"
    },
    "language_info": {
      "name": "python"
    }
  },
  "cells": [
    {
      "cell_type": "markdown",
      "metadata": {
        "id": "view-in-github",
        "colab_type": "text"
      },
      "source": [
        "<a href=\"https://colab.research.google.com/github/jeremysb1/xgboost/blob/main/xgboost_model.ipynb\" target=\"_parent\"><img src=\"https://colab.research.google.com/assets/colab-badge.svg\" alt=\"Open In Colab\"/></a>"
      ]
    },
    {
      "cell_type": "markdown",
      "source": [
        "I am building a model to predict prices using a regression-based approach with XGBoost."
      ],
      "metadata": {
        "id": "JbME15Eqmc3W"
      }
    },
    {
      "cell_type": "code",
      "execution_count": 1,
      "metadata": {
        "id": "iAq2S8tUmGsZ"
      },
      "outputs": [],
      "source": [
        "import pandas as pd\n",
        "summary_listings = pd.read_csv(\"/content/drive/MyDrive/XGBoost/listings.csv\")"
      ]
    },
    {
      "cell_type": "code",
      "source": [
        "summary_listings.dtypes"
      ],
      "metadata": {
        "colab": {
          "base_uri": "https://localhost:8080/"
        },
        "id": "TWzTo8P0LBRr",
        "outputId": "64259b5e-baf8-45f4-a439-3790c00ce2cd"
      },
      "execution_count": 2,
      "outputs": [
        {
          "output_type": "execute_result",
          "data": {
            "text/plain": [
              "id                                  int64\n",
              "name                               object\n",
              "host_id                             int64\n",
              "host_name                          object\n",
              "neighbourhood_group               float64\n",
              "neighbourhood                      object\n",
              "latitude                          float64\n",
              "longitude                         float64\n",
              "room_type                          object\n",
              "price                               int64\n",
              "minimum_nights                      int64\n",
              "number_of_reviews                   int64\n",
              "last_review                        object\n",
              "reviews_per_month                 float64\n",
              "calculated_host_listings_count      int64\n",
              "availability_365                    int64\n",
              "number_of_reviews_ltm               int64\n",
              "license                            object\n",
              "dtype: object"
            ]
          },
          "metadata": {},
          "execution_count": 2
        }
      ]
    },
    {
      "cell_type": "code",
      "source": [
        "summary_listings['name'].iloc[0]"
      ],
      "metadata": {
        "colab": {
          "base_uri": "https://localhost:8080/",
          "height": 35
        },
        "id": "q4AGj9YQMWp4",
        "outputId": "e2ed3769-5366-48e2-8531-49122cf130a6"
      },
      "execution_count": 3,
      "outputs": [
        {
          "output_type": "execute_result",
          "data": {
            "text/plain": [
              "'Rental unit in Sumida · ★4.77 · 1 bedroom · 2 beds · 1 bath'"
            ],
            "application/vnd.google.colaboratory.intrinsic+json": {
              "type": "string"
            }
          },
          "metadata": {},
          "execution_count": 3
        }
      ]
    },
    {
      "cell_type": "markdown",
      "source": [
        "Extracting information from text descriptions:"
      ],
      "metadata": {
        "id": "sVQVIXP2NgpX"
      }
    },
    {
      "cell_type": "code",
      "source": [
        "import re\n",
        "\n",
        "classification_list = ['aparthotel', 'barn', 'bed and breakfast', 'boutique hotel',\n",
        "                       'bungalow', 'cabin', 'camper/rv', 'chalet', 'condo', 'cottage',\n",
        "                       'earthen home', 'farm stay', 'guest suite', 'guesthouse', 'home',\n",
        "                       'hostel', 'hotel', 'houseboat', 'hut', 'loft', 'place to stay',\n",
        "                       'rental unit', 'resort', 'ryokan', 'serviced apartment',\n",
        "                       'tiny home', 'townhouse', 'treehouse', 'vacation home', 'villa']\n",
        "\n",
        "summary_listings = summary_listings.assign(\n",
        "    type_of_accommodation=(summary_listings['name']\n",
        "                           .str.extract(f\"({'|'.join(classification_list)})\",\n",
        "                                        flags=re.IGNORECASE)),\n",
        "    area_of_tokyo=(summary_listings['name']\n",
        "                   .str.extract(r'in\\s(.*?)\\s·',\n",
        "                                flags=re.IGNORECASE)),\n",
        "    score=(summary_listings['name']\n",
        "           .str.extract(r'★(\\d+\\.\\d+)', flags=re.IGNORECASE)\n",
        "           .astype(float)),\n",
        "    number_of_bedrooms=(summary_listings['name']\n",
        "                        .str.extract(r'(\\d+)\\s*(?:bedroom|bedrooms)',\n",
        "                                     flags=re.IGNORECASE)\n",
        "                        .fillna(0)\n",
        "                        .astype(int)),\n",
        "    number_of_beds=(summary_listings['name']\n",
        "                    .str.extract(r'(\\d+)\\s+(?:beds?\\b)',\n",
        "                                 flags=re.IGNORECASE)\n",
        "                    .fillna(0)\n",
        "                    .astype(int)),\n",
        "    number_of_baths=(summary_listings['name']\n",
        "                     .str.extract(r'(?P<baths>\\d+)\\s*(shared\\s+)?(?:half-)?baths?\\b',\n",
        "                                  flags=re.IGNORECASE)[\"baths\"]\n",
        "                     .fillna(0)\n",
        "                     .astype(int)),\n",
        ")"
      ],
      "metadata": {
        "id": "-B3qnrYcNkMB"
      },
      "execution_count": 4,
      "outputs": []
    },
    {
      "cell_type": "code",
      "source": [
        "import numpy as np\n",
        "from datetime import datetime\n",
        "\n",
        "summary_listings = summary_listings.assign(\n",
        "    is_new = (summary_listings['name']\n",
        "              .str.lower()\n",
        "              .str.contains('new', case=False)\n",
        "              .astype(int)),\n",
        "    is_studio = (summary_listings['name']\n",
        "                 .str.lower()\n",
        "                 .str.contains('studio', case=False)\n",
        "                 .astype(int)),\n",
        "    has_shared_bath = (summary_listings['name']\n",
        "                 .str.lower()\n",
        "                 .str.contains('shared', case=False)\n",
        "                 .astype(int)),\n",
        "    has_half_bath = (summary_listings['name']\n",
        "                 .str.lower()\n",
        "                 .str.contains('half', case=False)\n",
        "                 .astype(int)),\n",
        ")\n",
        "\n",
        "summary_listings['days_since_last_review'] = (datetime.today() - pd.to_datetime(summary_listings['last_review'])).dt.days\n",
        "summary_listings['days_since_last_review'] = (summary_listings['days_since_last_review'] -\n",
        "                                              summary_listings['days_since_last_review'].min())\n",
        "\n",
        "zero_reviews = summary_listings['number_of_reviews'] == 0\n",
        "ratio = summary_listings['number_of_reviews_ltm'] / summary_listings['number_of_reviews']\n",
        "summary_listings['number_of_reviews_ltm'] = np.where(zero_reviews, 0, ratio)"
      ],
      "metadata": {
        "id": "Z3Ng8TmyX165"
      },
      "execution_count": 5,
      "outputs": []
    },
    {
      "cell_type": "markdown",
      "source": [
        "Creating the target from daily listings:"
      ],
      "metadata": {
        "id": "AULG1_Yk2Nf2"
      }
    },
    {
      "cell_type": "code",
      "source": [
        "calendar = pd.read_csv(\"/content/drive/MyDrive/XGBoost/calendar.csv\")\n",
        "\n",
        "calendar[\"adjusted_price\"] = calendar[\"adjusted_price\"].apply(lambda x: float(x.replace('$', '').replace(',', '')))\n",
        "\n",
        "price_stats = (calendar.groupby('listing_id')['adjusted_price']\n",
        "                       .agg(['mean', 'min', 'max']))\n",
        ""
      ],
      "metadata": {
        "id": "Tk7UaAZh2OVT"
      },
      "execution_count": 6,
      "outputs": []
    }
  ]
}