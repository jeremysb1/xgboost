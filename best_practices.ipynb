{
  "nbformat": 4,
  "nbformat_minor": 0,
  "metadata": {
    "colab": {
      "provenance": [],
      "mount_file_id": "1ircKf0sf5ZQg_qsWtpvo3FpvSFM-ve6a",
      "authorship_tag": "ABX9TyNwjYItA32Mvry9lNPg26Co",
      "include_colab_link": true
    },
    "kernelspec": {
      "name": "python3",
      "display_name": "Python 3"
    },
    "language_info": {
      "name": "python"
    }
  },
  "cells": [
    {
      "cell_type": "markdown",
      "metadata": {
        "id": "view-in-github",
        "colab_type": "text"
      },
      "source": [
        "<a href=\"https://colab.research.google.com/github/jeremysb1/xgboost/blob/main/best_practices.ipynb\" target=\"_parent\"><img src=\"https://colab.research.google.com/assets/colab-badge.svg\" alt=\"Open In Colab\"/></a>"
      ]
    },
    {
      "cell_type": "code",
      "execution_count": 1,
      "metadata": {
        "id": "B1lTLkA0aNmq"
      },
      "outputs": [],
      "source": [
        "import numpy as np\n",
        "import pandas as pd\n",
        "from sklearn.preprocessing import StandardScaler, OneHotEncoder, OrdinalEncoder\n",
        "from sklearn.impute import SimpleImputer\n",
        "from sklearn.compose import ColumnTransformer\n",
        "from sklearn.pipeline import Pipeline\n",
        "\n",
        "data = pd.read_csv(\"/content/drive/MyDrive/XGBoost/AB_NYC_2019.csv\")\n",
        "excluding_list = ['price', 'id', 'latitude', 'longitude', 'host_id',\n",
        "                  'last_review', 'name', 'host_name']\n",
        "low_card_categorical = ['neighbourhood_group', 'room_type']\n",
        "high_card_categorical = ['neighbourhood']\n",
        "continuous = ['minimum_nights', 'number_of_reviews', 'reviews_per_month',\n",
        "              'calculated_host_listings_count', 'availability_365']\n",
        "target_mean = (data[\"price\"] > data[\"price\"].mean()).astype(int)\n",
        "target_median = (data[\"price\"] > data[\"price\"].median()).astype(int)\n",
        "target_multiclass = pd.qcut(data[\"price\"], q=5, labels=False)\n",
        "target_regression = data[\"price\"]\n",
        "categorical_onehot_encoding = OneHotEncoder(handle_unknown='ignore')\n",
        "categorical_ord_encoding = OrdinalEncoder(handle_unknown=\"use_encoded_value\", unknown_value=np.nan)\n",
        "numeric_standardization = Pipeline([('StandardScaler', StandardScaler()),\n",
        "                                    ('Imputer', SimpleImputer(strategy=\"constant\", fill_value=0))])\n",
        "\n",
        "column_transform = ColumnTransformer(\n",
        "    [('low_card_categories', categorical_onehot_encoding, low_card_categorical),\n",
        "     ('high_card_categories', categorical_ord_encoding, high_card_categorical),\n",
        "     ('numeric', numeric_standardization, continuous)],\n",
        "    remainder='drop',\n",
        "    verbose_feature_names_out=True,\n",
        "    sparse_threshold=0.0)\n",
        "\n",
        "lm_column_transform = ColumnTransformer(\n",
        "    [('low_card_categories', categorical_onehot_encoding, low_card_categorical),\n",
        "     ('numeric', numeric_standardization, continuous)],\n",
        "    remainder='drop',\n",
        "    verbose_feature_names_out=True,\n",
        "    sparse_threshold=0.0)\n"
      ]
    },
    {
      "cell_type": "markdown",
      "source": [
        "## Multivariate missing data imputation"
      ],
      "metadata": {
        "id": "4k3Kg89Xav-Q"
      }
    },
    {
      "cell_type": "markdown",
      "source": [
        "Multivariate imputation:"
      ],
      "metadata": {
        "id": "0c1wMxFvdwYG"
      }
    },
    {
      "cell_type": "code",
      "source": [
        "from sklearn.experimental import enable_iterative_imputer\n",
        "from sklearn.impute import SimpleImputer, IterativeImputer\n",
        "from sklearn.ensemble import RandomForestRegressor\n",
        "\n",
        "Xm = data[continuous].copy()\n",
        "missing_percentage = 0.05\n",
        "np.random.seed(0)\n",
        "mask = np.random.rand(*Xm.shape) < missing_percentage\n",
        "Xm[mask] = np.nan\n",
        "\n",
        "simple_imputer = SimpleImputer()\n",
        "Xm_si = simple_imputer.fit_transform(Xm)\n",
        "\n",
        "rf = RandomForestRegressor(random_state=0, n_jobs=-1)\n",
        "multivariate_imputer = IterativeImputer(estimator=rf, max_iter=1, tol=0.01)\n",
        "Xm_mi = multivariate_imputer.fit_transform(Xm)\n",
        "\n",
        "mae = pd.DataFrame({\"simple\": np.mean(np.abs(data[continuous] - Xm_si), axis=0),\n",
        "                    \"multivariate\": np.mean(np.abs(data[continuous] - Xm_mi), axis=0)},\n",
        "                   index = continuous)\n",
        "\n",
        "print(mae)"
      ],
      "metadata": {
        "id": "xWxucfDpctg7",
        "colab": {
          "base_uri": "https://localhost:8080/"
        },
        "outputId": "0960f681-105b-44c0-c5cf-37910be01ae1"
      },
      "execution_count": 2,
      "outputs": [
        {
          "output_type": "stream",
          "name": "stdout",
          "text": [
            "                                  simple  multivariate\n",
            "minimum_nights                  0.347355      0.260156\n",
            "number_of_reviews               1.327776      0.858506\n",
            "reviews_per_month               0.057980      0.036876\n",
            "calculated_host_listings_count  0.579423      0.368567\n",
            "availability_365                6.025748      4.622640\n"
          ]
        },
        {
          "output_type": "stream",
          "name": "stderr",
          "text": [
            "/usr/local/lib/python3.10/dist-packages/sklearn/impute/_iterative.py:785: ConvergenceWarning: [IterativeImputer] Early stopping criterion not reached.\n",
            "  warnings.warn(\n"
          ]
        }
      ]
    },
    {
      "cell_type": "markdown",
      "source": [
        "## Target Encoding"
      ],
      "metadata": {
        "id": "6Z0Zm0tAIh6L"
      }
    }
  ]
}