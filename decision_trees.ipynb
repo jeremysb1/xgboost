{
  "nbformat": 4,
  "nbformat_minor": 0,
  "metadata": {
    "colab": {
      "provenance": [],
      "mount_file_id": "1Kae5qftKvNHFSDCNTp17fiYTVi-FxWdR",
      "authorship_tag": "ABX9TyOFnxkId/MvLJPch8KW4SAy",
      "include_colab_link": true
    },
    "kernelspec": {
      "name": "python3",
      "display_name": "Python 3"
    },
    "language_info": {
      "name": "python"
    }
  },
  "cells": [
    {
      "cell_type": "markdown",
      "metadata": {
        "id": "view-in-github",
        "colab_type": "text"
      },
      "source": [
        "<a href=\"https://colab.research.google.com/github/jeremysb1/xgboost/blob/main/decision_trees.ipynb\" target=\"_parent\"><img src=\"https://colab.research.google.com/assets/colab-badge.svg\" alt=\"Open In Colab\"/></a>"
      ]
    },
    {
      "cell_type": "code",
      "execution_count": 1,
      "metadata": {
        "id": "e8sEs50pClmL"
      },
      "outputs": [],
      "source": [
        "import numpy as np\n",
        "import pandas as pd\n",
        "from sklearn.preprocessing import OneHotEncoder, OrdinalEncoder\n",
        "from sklearn.compose import ColumnTransformer\n",
        "from sklearn.impute import SimpleImputer\n",
        "\n",
        "data = pd.read_csv('/content/drive/MyDrive/XGBoost/AB_NYC_2019.csv')\n",
        "\n",
        "excluding_list = ['price', 'id', 'latitude', 'longitude', 'host_id', 'last_review', 'name', 'host_name']\n",
        "low_card_categorical = ['neighbourhood_group', 'room_type']\n",
        "high_card_categorical = ['neighbourhood']\n",
        "continuous = ['minimum_nights', 'number_of_reviews', 'reviews_per_month', 'calculated_host_listings_count', 'availability_365']\n",
        "\n",
        "target_mean = (data[\"price\"] > data[\"price\"].mean()).astype(int)\n",
        "target_median = (data[\"price\"] > data[\"price\"].median()).astype(int)\n",
        "target_multiclass = pd.qcut(data[\"price\"], q=5, labels=False)\n",
        "target_regression = data[\"price\"]\n",
        "\n",
        "categorical_onehot_encoding = OneHotEncoder(handle_unknown='ignore')\n",
        "categorical_ord_encoding = OrdinalEncoder(handle_unknown=\"use_encoded_value\", unknown_value=np.nan)\n",
        "numeric_passthrough = SimpleImputer(strategy=\"constant\", fill_value=0)\n",
        "\n",
        "column_transform = ColumnTransformer(\n",
        "    [('low_card_categories', categorical_onehot_encoding, low_card_categorical),\n",
        "     ('high_card_categories', categorical_ord_encoding, high_card_categorical),\n",
        "     ('numeric', numeric_passthrough, continuous),\n",
        "    ],\n",
        "    remainder='drop',\n",
        "    verbose_feature_names_out=False,\n",
        "    sparse_threshold=0.0)"
      ]
    },
    {
      "cell_type": "markdown",
      "source": [
        "A decision tree classifier:"
      ],
      "metadata": {
        "id": "bL_NzIhSMOEd"
      }
    },
    {
      "cell_type": "code",
      "source": [
        "from sklearn.tree import DecisionTreeClassifier\n",
        "from sklearn.pipeline import Pipeline\n",
        "from sklearn.metrics import make_scorer, accuracy_score\n",
        "from sklearn.model_selection import KFold, cross_validate\n",
        "\n",
        "accuracy = make_scorer(accuracy_score)\n",
        "cv = KFold(5, shuffle=True, random_state=0)\n",
        "\n",
        "column_transform = ColumnTransformer(\n",
        "    [('categories', categorical_onehot_encoding, low_card_categorical),\n",
        "     ('numeric', numeric_passthrough, continuous)],\n",
        "    remainder='drop',\n",
        "    verbose_feature_names_out = False,\n",
        "    sparse_threshold=0.0)\n",
        "\n",
        "model = DecisionTreeClassifier(random_state=0)\n",
        "\n",
        "model_pipeline = Pipeline(\n",
        "    [('processing', column_transform),\n",
        "     ('modeling', model)])\n",
        "\n",
        "cv_scores = cross_validate(estimator=model_pipeline,\n",
        "                           X=data,\n",
        "                           y=target_median,\n",
        "                           scoring=accuracy,\n",
        "                           cv=cv,\n",
        "                           return_train_score=True,\n",
        "                           return_estimator=True)\n",
        "\n",
        "mean_cv = np.mean(cv_scores['test_score'])\n",
        "std_cv = np.std(cv_scores['test_score'])\n",
        "fit_time = np.mean(cv_scores['fit_time'])\n",
        "score_time = np.mean(cv_scores['score_time'])\n",
        "\n",
        "print(f\"{mean_cv:0.3f} ({std_cv:0.3f})\",\n",
        "      f\"fit:  {fit_time:0.2f} secs pred: {score_time: 0.2f} secs\")"
      ],
      "metadata": {
        "colab": {
          "base_uri": "https://localhost:8080/"
        },
        "id": "Rv5C2QwEMQiO",
        "outputId": "ce50759b-005f-4e9a-9304-ff83aedc38cf"
      },
      "execution_count": 2,
      "outputs": [
        {
          "output_type": "stream",
          "name": "stdout",
          "text": [
            "0.761 (0.005) fit:  0.77 secs pred:  0.06 secs\n"
          ]
        }
      ]
    },
    {
      "cell_type": "markdown",
      "source": [
        "Bagged tree-based classifier:"
      ],
      "metadata": {
        "id": "i7zrjr6DZB54"
      }
    },
    {
      "cell_type": "code",
      "source": [
        "from sklearn.ensemble import BaggingClassifier\n",
        "from sklearn.tree import DecisionTreeClassifier\n",
        "from sklearn.metrics import accuracy_score\n",
        "\n",
        "accuracy = make_scorer(accuracy_score)\n",
        "cv = KFold(5, shuffle=True, random_state=0)\n",
        "model = BaggingClassifier(estimator=DecisionTreeClassifier(),\n",
        "                          n_estimators=300,\n",
        "                          bootstrap=True,\n",
        "                          max_samples=1.0,\n",
        "                          max_features=1.0,\n",
        "                          random_state=0)\n",
        "\n",
        "column_transform = ColumnTransformer(\n",
        "    [('categories', categorical_onehot_encoding, low_card_categorical),\n",
        "     ('numeric', numeric_passthrough, continuous)],\n",
        "    remainder='drop',\n",
        "    verbose_feature_names_out = False,\n",
        "    sparse_threshold=0.0)\n",
        "\n",
        "model_pipeline = Pipeline(\n",
        "    [('processing', column_transform),\n",
        "     ('modeling', model)])\n",
        "\n",
        "cv_scores = cross_validate(estimator=model_pipeline,\n",
        "                           X=data,\n",
        "                           y=target_median,\n",
        "                           scoring=accuracy,\n",
        "                           cv=cv,\n",
        "                           return_train_score=True,\n",
        "                           return_estimator=True)\n",
        "\n",
        "mean_cv = np.mean(cv_scores['test_score'])\n",
        "std_cv = np.std(cv_scores['test_score'])\n",
        "fit_time = np.mean(cv_scores['fit_time'])\n",
        "score_time = np.mean(cv_scores['score_time'])\n",
        "print(f\"{mean_cv:0.3f} ({std_cv:0.3f})\",\n",
        "      f\"fit: {fit_time: 0.2f} secs pred: {score_time:0.2f} secs\")"
      ],
      "metadata": {
        "id": "72U78sPIX8ct",
        "colab": {
          "base_uri": "https://localhost:8080/"
        },
        "outputId": "d481a0d3-f3b7-47d4-e964-25d6ae53baba"
      },
      "execution_count": 3,
      "outputs": [
        {
          "output_type": "stream",
          "name": "stdout",
          "text": [
            "0.809 (0.004) fit:  38.26 secs pred: 0.89 secs\n"
          ]
        }
      ]
    },
    {
      "cell_type": "markdown",
      "source": [
        "Random Forests classifier:"
      ],
      "metadata": {
        "id": "V-ueiIHPzreM"
      }
    },
    {
      "cell_type": "code",
      "source": [
        "from sklearn.ensemble import RandomForestClassifier\n",
        "from sklearn.metrics import accuracy_score\n",
        "\n",
        "accuracy = make_scorer(accuracy_score)\n",
        "cv = KFold(5, shuffle=True, random_state=0)\n",
        "model = RandomForestClassifier(n_estimators=300,\n",
        "                               min_samples_leaf=3,\n",
        "                               random_state=0)\n",
        "\n",
        "column_transform = ColumnTransformer(\n",
        "    [('categories', categorical_onehot_encoding, low_card_categorical),\n",
        "     ('numeric', numeric_passthrough, continuous)],\n",
        "    remainder='drop',\n",
        "    verbose_feature_names_out = False,\n",
        "    sparse_threshold=0.0)\n",
        "\n",
        "model_pipeline = Pipeline(\n",
        "    [('processing', column_transform),\n",
        "     ('modeling', model)])\n",
        "\n",
        "cv_scores = cross_validate(estimator=model_pipeline,\n",
        "                           X=data,\n",
        "                           y=target_median,\n",
        "                           scoring=accuracy,\n",
        "                           cv=cv,\n",
        "                           return_train_score=True,\n",
        "                           return_estimator=True)\n",
        "\n",
        "mean_cv = np.mean(cv_scores['test_score'])\n",
        "std_cv = np.std(cv_scores['test_score'])\n",
        "fit_time = np.mean(cv_scores['fit_time'])\n",
        "score_time = np.mean(cv_scores['score_time'])\n",
        "\n",
        "print(f\"{mean_cv:0.3f} ({std_cv:0.3f})\",\n",
        "      f\"fit: {fit_time:0.2f} secs pred: {score_time:0.2f} secs\")"
      ],
      "metadata": {
        "colab": {
          "base_uri": "https://localhost:8080/"
        },
        "id": "XeDqzYZoy-lW",
        "outputId": "b7e8b18a-e895-4b39-f4ad-f9672532a457"
      },
      "execution_count": 4,
      "outputs": [
        {
          "output_type": "stream",
          "name": "stdout",
          "text": [
            "0.826 (0.004) fit: 12.61 secs pred: 0.65 secs\n"
          ]
        }
      ]
    },
    {
      "cell_type": "markdown",
      "source": [
        "Extremely randomized trees classifier:"
      ],
      "metadata": {
        "id": "oCoUng9R4QiL"
      }
    },
    {
      "cell_type": "code",
      "source": [
        "from sklearn.ensemble import ExtraTreesClassifier\n",
        "\n",
        "accuracy = make_scorer(accuracy_score)\n",
        "cv = KFold(5, shuffle=True, random_state=0)\n",
        "model = ExtraTreesClassifier(n_estimators=300,\n",
        "                             min_samples_leaf=3,\n",
        "                             random_state=0)\n",
        "\n",
        "column_transform = ColumnTransformer(\n",
        "    [('categories', categorical_onehot_encoding, low_card_categorical),\n",
        "     ('numeric', numeric_passthrough, continuous)],\n",
        "    remainder='drop',\n",
        "    verbose_feature_names_out=False,\n",
        "    sparse_threshold=0.0)\n",
        "\n",
        "model_pipeline = Pipeline(\n",
        "    [('processing', column_transform),\n",
        "     ('modeling', model)])\n",
        "\n",
        "cv_scores = cross_validate(estimator=model_pipeline,\n",
        "                           X=data,\n",
        "                           y=target_median,\n",
        "                           scoring=accuracy,\n",
        "                           cv=cv,\n",
        "                           return_train_score=True,\n",
        "                           return_estimator=True)\n",
        "\n",
        "mean_cv = np.mean(cv_scores['test_score'])\n",
        "std_cv = np.std(cv_scores['test_score'])\n",
        "fit_time = np.mean(cv_scores['fit_time'])\n",
        "score_time = np.mean(cv_scores['score_time'])\n",
        "print(f\"{mean_cv:0.3f} ({std_cv:0.3f})\",\n",
        "      f\"fit: {fit_time:0.2f} secs pred: {score_time:0.2f} secs\")\n",
        "\n"
      ],
      "metadata": {
        "colab": {
          "base_uri": "https://localhost:8080/"
        },
        "id": "yIv_OFe_4Rfd",
        "outputId": "1273f72e-d6b1-443f-d452-f14b2b009bca"
      },
      "execution_count": 5,
      "outputs": [
        {
          "output_type": "stream",
          "name": "stdout",
          "text": [
            "0.823 (0.004) fit: 4.80 secs pred: 0.46 secs\n"
          ]
        }
      ]
    },
    {
      "cell_type": "markdown",
      "source": [
        "## Gradient Boosting"
      ],
      "metadata": {
        "id": "uX2fP9H_5NwB"
      }
    },
    {
      "cell_type": "markdown",
      "source": [
        "Building a gradient boosting classifier:"
      ],
      "metadata": {
        "id": "qDT35pozyiO7"
      }
    },
    {
      "cell_type": "code",
      "source": [
        "from sklearn.tree import DecisionTreeRegressor\n",
        "import numpy as np\n",
        "\n",
        "class GradientBoosting():\n",
        "    def __init__(self, learning_rate=0.1, n_estimators=10, **params):\n",
        "        self.learning_rate = learning_rate\n",
        "        self.n_estimators = n_estimators\n",
        "        self.params = params\n",
        "        self.trees = list()\n",
        "\n",
        "    def sigmoid(self, x):\n",
        "        x = np.clip(x, -100, 100)\n",
        "        return 1 / (1 + np.exp(-x))\n",
        "\n",
        "    def logit(self, x, eps=1e-6):\n",
        "        xp = np.clip(x, eps, 1-eps)\n",
        "        return np.log(xp / (1-xp))\n",
        "\n",
        "    def gradient(self, y_true, y_pred):\n",
        "        gradient = y_pred - y_true\n",
        "        return gradient\n",
        "\n",
        "    def fit(self, X, y):\n",
        "        self.init = self.logit(np.mean(y))\n",
        "        y_pred = self.init * np.ones((X.shape[0],))\n",
        "        for k in range(self.n_estimators):\n",
        "            gradient = self.gradient(self.logit(y), y_pred)\n",
        "            tree = DecisionTreeRegressor(**self.params)\n",
        "            tree.fit(X, -gradient)\n",
        "            self.trees.append(tree)\n",
        "            y_pred += self.learning_rate * tree.predict(X)\n",
        "\n",
        "    def predict_proba(self, X):\n",
        "        y_pred = self.init * np.ones((X.shape[0],))\n",
        "        for tree in self.trees:\n",
        "            y_pred += self.learning_rate * tree.predict(X)\n",
        "        return self.sigmoid(y_pred)\n",
        "\n",
        "    def predict(self, X, threshold=0.5):\n",
        "        proba = self.predict_proba(X)\n",
        "        return np.where(proba >= threshold, 1, 0)"
      ],
      "metadata": {
        "id": "EFkZ_xrR5FFi"
      },
      "execution_count": 10,
      "outputs": []
    },
    {
      "cell_type": "markdown",
      "source": [
        "Testing the gradient boosting class:"
      ],
      "metadata": {
        "id": "ByKOgVX_CTKG"
      }
    },
    {
      "cell_type": "code",
      "source": [
        "from sklearn.model_selection import train_test_split\n",
        "\n",
        "train, test = train_test_split(range(len(data)), test_size=0.2, random_state=0)\n",
        "\n",
        "cls = GradientBoosting(n_estimators=300,\n",
        "                       learning_rate=0.1,\n",
        "                       max_depth=4,\n",
        "                       min_samples_leaf=3,\n",
        "                       random_state=0)\n",
        "\n",
        "X = column_transform.fit_transform(data.iloc[train])\n",
        "y = target_median[train]\n",
        "\n",
        "cls.fit(X, y)\n",
        "\n",
        "Xt = column_transform.transform(data.iloc[test])\n",
        "yt = target_median[test]\n",
        "\n",
        "preds = cls.predict(Xt)\n",
        "score = accuracy_score(y_true=yt, y_pred=preds)\n",
        "print(f\"Accuracy: {score:0.5f}\")"
      ],
      "metadata": {
        "colab": {
          "base_uri": "https://localhost:8080/"
        },
        "id": "EEyc9PiMAzTY",
        "outputId": "72641aaf-4c00-4f3f-e7dc-9b9a9731d90d"
      },
      "execution_count": 11,
      "outputs": [
        {
          "output_type": "stream",
          "name": "stdout",
          "text": [
            "Accuracy: 0.82503\n"
          ]
        }
      ]
    },
    {
      "cell_type": "markdown",
      "source": [
        "Plotting gradient boosting predicted probabilities:"
      ],
      "metadata": {
        "id": "eSumr_2rIhji"
      }
    },
    {
      "cell_type": "code",
      "source": [
        "import matplotlib.pyplot as plt\n",
        "\n",
        "proba = cls.predict_proba(Xt)\n",
        "plt.figure(figsize=(8, 6))\n",
        "plt.hist(proba, bins=30, density=True, color='blue', alpha=0.7)\n",
        "plt.xlabel('Predicted Probalities')\n",
        "plt.ylabel('Density')\n",
        "plt.title('Histogram of Predicted Probabilities')\n",
        "plt.show()"
      ],
      "metadata": {
        "colab": {
          "base_uri": "https://localhost:8080/",
          "height": 564
        },
        "id": "0J3ifaqEIkYx",
        "outputId": "8c6929d3-271a-46a3-d7b5-37fee90b0f28"
      },
      "execution_count": 13,
      "outputs": [
        {
          "output_type": "display_data",
          "data": {
            "text/plain": [
              "<Figure size 800x600 with 1 Axes>"
            ],
            "image/png": "[encoded data removed]"
          },
          "metadata": {}
        }
      ]
    }
  ]
}