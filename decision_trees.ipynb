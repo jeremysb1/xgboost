{
  "nbformat": 4,
  "nbformat_minor": 0,
  "metadata": {
    "colab": {
      "provenance": [],
      "mount_file_id": "1Kae5qftKvNHFSDCNTp17fiYTVi-FxWdR",
      "authorship_tag": "ABX9TyNqNQ5P/GTMWqh47PQuNx4r",
      "include_colab_link": true
    },
    "kernelspec": {
      "name": "python3",
      "display_name": "Python 3"
    },
    "language_info": {
      "name": "python"
    }
  },
  "cells": [
    {
      "cell_type": "markdown",
      "metadata": {
        "id": "view-in-github",
        "colab_type": "text"
      },
      "source": [
        "<a href=\"https://colab.research.google.com/github/jeremysb1/xgboost/blob/main/decision_trees.ipynb\" target=\"_parent\"><img src=\"https://colab.research.google.com/assets/colab-badge.svg\" alt=\"Open In Colab\"/></a>"
      ]
    },
    {
      "cell_type": "code",
      "execution_count": 1,
      "metadata": {
        "id": "e8sEs50pClmL"
      },
      "outputs": [],
      "source": [
        "import numpy as np\n",
        "import pandas as pd\n",
        "from sklearn.preprocessing import OneHotEncoder, OrdinalEncoder\n",
        "from sklearn.compose import ColumnTransformer\n",
        "from sklearn.impute import SimpleImputer\n",
        "\n",
        "data = pd.read_csv('/content/drive/MyDrive/XGBoost/AB_NYC_2019.csv')\n",
        "\n",
        "excluding_list = ['price', 'id', 'latitude', 'longitude', 'host_id', 'last_review', 'name', 'host_name']\n",
        "low_card_categorical = ['neighbourhood_group', 'room_type']\n",
        "high_card_categorical = ['neighbourhood']\n",
        "continuous = ['minimum_nights', 'number_of_reviews', 'reviews_per_month', 'calculated_host_listings_count', 'availability_365']\n",
        "\n",
        "target_mean = (data[\"price\"] > data[\"price\"].mean()).astype(int)\n",
        "target_median = (data[\"price\"] > data[\"price\"].median()).astype(int)\n",
        "target_multiclass = pd.qcut(data[\"price\"], q=5, labels=False)\n",
        "target_regression = data[\"price\"]\n",
        "\n",
        "categorical_onehot_encoding = OneHotEncoder(handle_unknown='ignore')\n",
        "categorical_ord_encoding = OrdinalEncoder(handle_unknown=\"use_encoded_value\", unknown_value=np.nan)\n",
        "numeric_passthrough = SimpleImputer(strategy=\"constant\", fill_value=0)\n",
        "\n",
        "column_transform = ColumnTransformer(\n",
        "    [('low_card_categories', categorical_onehot_encoding, low_card_categorical),\n",
        "     ('high_card_categories', categorical_ord_encoding, high_card_categorical),\n",
        "     ('numeric', numeric_passthrough, continuous),\n",
        "    ],\n",
        "    remainder='drop',\n",
        "    verbose_feature_names_out=False,\n",
        "    sparse_threshold=0.0)"
      ]
    },
    {
      "cell_type": "markdown",
      "source": [
        "A decision tree classifier:"
      ],
      "metadata": {
        "id": "bL_NzIhSMOEd"
      }
    },
    {
      "cell_type": "code",
      "source": [
        "from sklearn.tree import DecisionTreeClassifier\n",
        "from sklearn.pipeline import Pipeline\n",
        "from sklearn.metrics import make_scorer, accuracy_score\n",
        "from sklearn.model_selection import KFold, cross_validate\n",
        "\n",
        "accuracy = make_scorer(accuracy_score)\n",
        "cv = KFold(5, shuffle=True, random_state=0)\n",
        "\n",
        "column_transform = ColumnTransformer(\n",
        "    [('categories', categorical_onehot_encoding, low_card_categorical),\n",
        "     ('numeric', numeric_passthrough, continuous)],\n",
        "    remainder='drop',\n",
        "    verbose_feature_names_out = False,\n",
        "    sparse_threshold=0.0)\n",
        "\n",
        "model = DecisionTreeClassifier(random_state=0)\n",
        "\n",
        "model_pipeline = Pipeline(\n",
        "    [('processing', column_transform),\n",
        "     ('modeling', model)])\n",
        "\n",
        "cv_scores = cross_validate(estimator=model_pipeline,\n",
        "                           X=data,\n",
        "                           y=target_median,\n",
        "                           scoring=accuracy,\n",
        "                           cv=cv,\n",
        "                           return_train_score=True,\n",
        "                           return_estimator=True)\n",
        "\n",
        "mean_cv = np.mean(cv_scores['test_score'])\n",
        "std_cv = np.std(cv_scores['test_score'])\n",
        "fit_time = np.mean(cv_scores['fit_time'])\n",
        "score_time = np.mean(cv_scores['score_time'])\n",
        "\n",
        "print(f\"{mean_cv:0.3f} ({std_cv:0.3f})\",\n",
        "      f\"fit:  {fit_time:0.2f} secs pred: {score_time: 0.2f} secs\")"
      ],
      "metadata": {
        "colab": {
          "base_uri": "https://localhost:8080/"
        },
        "id": "Rv5C2QwEMQiO",
        "outputId": "f62d7947-ab25-43b8-dd0e-da630a527339"
      },
      "execution_count": 6,
      "outputs": [
        {
          "output_type": "stream",
          "name": "stdout",
          "text": [
            "0.761 (0.005) fit:  0.45 secs pred:  0.03 secs\n"
          ]
        }
      ]
    }
  ]
}